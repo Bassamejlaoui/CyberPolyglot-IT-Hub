{
 "cells": [
  {
   "attachments": {},
   "cell_type": "markdown",
   "id": "functional-corrections",
   "metadata": {},
   "source": [
    "## K-means "
   ]
  },
  {
   "attachments": {},
   "cell_type": "markdown",
   "id": "109c1cfe",
   "metadata": {},
   "source": [
    "K-means clustering is a popular unsupervised machine learning algorithm used for grouping similar data points into k - clusters. Goal: to partition a given dataset into k (predefined) clusters.\n",
    "\n",
    "The k-means algorithm works by first randomly initializing k cluster centers, one for each cluster. Each data point in the dataset is then assigned to the nearest cluster center based on their distance. The distance metric used is typically Euclidean distance, but other distance measures such as Manhattan distance or cosine similarity can also be used.\n",
    "\n",
    "After all the data points have been assigned to a cluster, the algorithm calculates the new mean for each cluster by taking the average of all the data points assigned to that cluster. These new means become the new cluster centers. The algorithm then repeats the assignment and mean calculation steps until the cluster assignments no longer change or until a maximum number of iterations is reached.\n",
    "\n",
    "The final output of the k-means algorithm is a set of k clusters, where each cluster contains the data points that are most similar to each other based on the distance metric used. The algorithm is commonly used in various fields such as image segmentation, market segmentation, and customer profiling.\n",
    "\n",
    "\n",
    "```\n",
    "Initialize:\n",
    "- K: number of clusters\n",
    "- Data: the input dataset\n",
    "- Randomly select K initial centroids\n",
    "\n",
    "Repeat:\n",
    "- Assign each data point to the nearest centroid (based on Euclidean distance)\n",
    "- Calculate the mean of each cluster to update its centroid\n",
    "- Check if the centroids have converged (i.e., they no longer change)\n",
    "\n",
    "Until:\n",
    "- The centroids have converged\n",
    "- The maximum number of iterations has been reached\n",
    "\n",
    "Output:\n",
    "- The final K clusters and their corresponding centroids\n",
    "```\n"
   ]
  },
  {
   "attachments": {},
   "cell_type": "markdown",
   "id": "36cafa73",
   "metadata": {},
   "source": [
    "## Code \n",
    "Here's an implementation of k-means clustering algorithm in Python from scratch:"
   ]
  },
  {
   "cell_type": "code",
   "execution_count": 1,
   "id": "ab3cb277",
   "metadata": {},
   "outputs": [],
   "source": [
    "import numpy as np\n",
    "\n",
    "class KMeans:\n",
    "    def __init__(self, k, max_iterations=100):\n",
    "        self.k = k\n",
    "        self.max_iterations = max_iterations\n",
    "        \n",
    "    def fit(self, X):\n",
    "        # Initialize centroids randomly\n",
    "        self.centroids = X[np.random.choice(range(len(X)), self.k, replace=False)]\n",
    "        \n",
    "        for i in range(self.max_iterations):\n",
    "            # Assign each data point to the nearest centroid\n",
    "            cluster_assignments = []\n",
    "            for j in range(len(X)):\n",
    "                distances = np.linalg.norm(X[j] - self.centroids, axis=1)\n",
    "                cluster_assignments.append(np.argmin(distances))\n",
    "            \n",
    "            # Update centroids\n",
    "            for k in range(self.k):\n",
    "                cluster_data_points = X[np.where(np.array(cluster_assignments) == k)]\n",
    "                if len(cluster_data_points) > 0:\n",
    "                    self.centroids[k] = np.mean(cluster_data_points, axis=0)\n",
    "            \n",
    "            # Check for convergence\n",
    "            if i > 0 and np.array_equal(self.centroids, previous_centroids):\n",
    "                break\n",
    "            \n",
    "            # Update previous centroids\n",
    "            previous_centroids = np.copy(self.centroids)\n",
    "        \n",
    "        # Store the final cluster assignments\n",
    "        self.cluster_assignments = cluster_assignments\n",
    "    \n",
    "    def predict(self, X):\n",
    "        # Assign each data point to the nearest centroid\n",
    "        cluster_assignments = []\n",
    "        for j in range(len(X)):\n",
    "            distances = np.linalg.norm(X[j] - self.centroids, axis=1)\n",
    "            cluster_assignments.append(np.argmin(distances))\n",
    "        \n",
    "        return cluster_assignments"
   ]
  },
  {
   "attachments": {},
   "cell_type": "markdown",
   "id": "538027c3",
   "metadata": {},
   "source": [
    "The KMeans class has an __init__ method that takes the number of clusters (k) and the maximum number of iterations to run (max_iterations). The fit method takes the input dataset (X) and runs the k-means clustering algorithm. The predict method takes a new dataset (X) and returns the cluster assignments for each data point based on the centroids learned during training.\n",
    "\n",
    "Note that this implementation assumes that the input dataset X is a NumPy array with each row representing a single data point and each column representing a feature. The algorithm also uses Euclidean distance to calculate the distances between data points and centroids.\n"
   ]
  },
  {
   "attachments": {},
   "cell_type": "markdown",
   "id": "1724d308",
   "metadata": {},
   "source": [
    "### Test "
   ]
  },
  {
   "cell_type": "code",
   "execution_count": 2,
   "id": "141e9843",
   "metadata": {},
   "outputs": [
    {
     "name": "stdout",
     "output_type": "stream",
     "text": [
      "[1, 1, 1, 1, 1, 0, 0, 0, 0, 0]\n",
      "[[-5.53443211 -5.13920695]\n",
      " [ 4.46522152  5.04931144]]\n"
     ]
    }
   ],
   "source": [
    "\n",
    "x1 = np.random.randn(5,2) + 5\n",
    "x2 = np.random.randn(5,2) - 5\n",
    "X = np.concatenate([x1,x2], axis=0)\n",
    "\n",
    "# Initialize the KMeans object with k=3\n",
    "kmeans = KMeans(k=2)\n",
    "\n",
    "# Fit the k-means model to the dataset\n",
    "kmeans.fit(X)\n",
    "\n",
    "# Get the cluster assignments for the input dataset\n",
    "cluster_assignments = kmeans.predict(X)\n",
    "\n",
    "# Print the cluster assignments\n",
    "print(cluster_assignments)\n",
    "\n",
    "# Print the learned centroids\n",
    "print(kmeans.centroids)"
   ]
  },
  {
   "attachments": {},
   "cell_type": "markdown",
   "id": "04430ff9",
   "metadata": {},
   "source": [
    "### Visualize"
   ]
  },
  {
   "cell_type": "code",
   "execution_count": 4,
   "id": "fa0fb8d4",
   "metadata": {},
   "outputs": [
    {
     "data": {
      "image/png": "[encoded data removed]",
      "text/plain": [
       "<Figure size 432x288 with 1 Axes>"
      ]
     },
     "metadata": {
      "needs_background": "light"
     },
     "output_type": "display_data"
    }
   ],
   "source": [
    "from matplotlib import pyplot as plt\n",
    "# Plot the data points with different colors based on their cluster assignments\n",
    "colors = ['r', 'b']\n",
    "for i in range(kmeans.k):\n",
    "    plt.scatter(X[np.where(np.array(cluster_assignments) == i)][:,0], \n",
    "                X[np.where(np.array(cluster_assignments) == i)][:,1], \n",
    "                color=colors[i])\n",
    "\n",
    "# Plot the centroids as black circles\n",
    "plt.scatter(kmeans.centroids[:,0], kmeans.centroids[:,1], color='black', marker='o')\n",
    "\n",
    "# Show the plot\n",
    "plt.show()"
   ]
  },
  {
   "attachments": {},
   "cell_type": "markdown",
   "id": "69fc2d74",
   "metadata": {},
   "source": [
    "### Optimization \n",
    "Here are some ways to optimize the k-means clustering algorithm:\n",
    "\n",
    "Random initialization of centroids: Instead of initializing the centroids using the first k data points, we can randomly initialize them to improve the convergence of the algorithm. This can be done by selecting k random data points from the input dataset as the initial centroids.\n",
    "\n",
    "Early stopping: We can stop the k-means algorithm if the cluster assignments and centroids do not change after a certain number of iterations. This helps to avoid unnecessary computation.\n",
    "\n",
    "Vectorization: We can use numpy arrays and vectorized operations to speed up the computation. This avoids the need for loops and makes the code more efficient.\n",
    "\n",
    "Here's an optimized version of the k-means clustering algorithm that implements these optimizations:"
   ]
  },
  {
   "cell_type": "code",
   "execution_count": 5,
   "id": "121e7b70",
   "metadata": {},
   "outputs": [],
   "source": [
    "import numpy as np\n",
    "\n",
    "class KMeans:\n",
    "    def __init__(self, k=3, max_iters=100, tol=1e-4):\n",
    "        self.k = k\n",
    "        self.max_iters = max_iters\n",
    "        self.tol = tol\n",
    "    \n",
    "    def fit(self, X):\n",
    "        # Initialize centroids randomly\n",
    "        self.centroids = X[np.random.choice(X.shape[0], self.k, replace=False)]\n",
    "        \n",
    "        # Iterate until convergence or maximum number of iterations is reached\n",
    "        for i in range(self.max_iters):\n",
    "            # Assign each data point to the closest centroid\n",
    "            distances = np.linalg.norm(X[:, np.newaxis] - self.centroids, axis=2)\n",
    "            cluster_assignments = np.argmin(distances, axis=1)\n",
    "            \n",
    "            # Update the centroids based on the new cluster assignments\n",
    "            new_centroids = np.array([np.mean(X[np.where(cluster_assignments == j)], axis=0) \n",
    "                                      for j in range(self.k)])\n",
    "            \n",
    "            # Check for convergence\n",
    "            if np.linalg.norm(new_centroids - self.centroids) < self.tol:\n",
    "                break\n",
    "                \n",
    "            self.centroids = new_centroids\n",
    "    \n",
    "    def predict(self, X):\n",
    "        # Assign each data point to the closest centroid\n",
    "        distances = np.linalg.norm(X[:, np.newaxis] - self.centroids, axis=2)\n",
    "        cluster_assignments = np.argmin(distances, axis=1)\n",
    "        \n",
    "        return cluster_assignments\n"
   ]
  },
  {
   "attachments": {},
   "cell_type": "markdown",
   "id": "0a8514c5",
   "metadata": {},
   "source": [
    "This optimized version initializes the centroids randomly, uses vectorized operations for computing distances and updating the centroids, and checks for convergence after each iteration to stop the algorithm if it has converged."
   ]
  },
  {
   "attachments": {},
   "cell_type": "markdown",
   "id": "a98d4ac5",
   "metadata": {},
   "source": [
    "Follow ups:\n",
    "\n",
    "* Computattional complexity: O(it * knd)\n",
    "* Improve space: use index instead of copy\n",
    "* Improve time: \n",
    "  * dim reduction\n",
    "  * subsample (cons?)\n",
    "* mini-batch\n",
    "* k-median https://mmuratarat.github.io/2019-07-23/kmeans_from_scratch"
   ]
  },
  {
   "cell_type": "markdown",
   "id": "a756163a",
   "metadata": {},
   "source": []
  }
 ],
 "metadata": {
  "kernelspec": {
   "display_name": "Python 3",
   "language": "python",
   "name": "python3"
  },
  "language_info": {
   "codemirror_mode": {
    "name": "ipython",
    "version": 3
   },
   "file_extension": ".py",
   "mimetype": "text/x-python",
   "name": "python",
   "nbconvert_exporter": "python",
   "pygments_lexer": "ipython3",
   "version": "3.9.7"
  }
 },
 "nbformat": 4,
 "nbformat_minor": 5
}
