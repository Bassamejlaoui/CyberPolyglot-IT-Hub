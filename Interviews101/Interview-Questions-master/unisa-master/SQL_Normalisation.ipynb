{
 "cells": [
  {
   "cell_type": "markdown",
   "metadata": {
    "id": "kJ9OEzDBgwvw"
   },
   "source": [
    "# SQL 4 Data Science: Predict Project\n",
    "## Bhejane Online Trading Store\n",
    "\n",
    "### Student Starter Notebook\n",
    "\n",
    "© Explore Data Science Academy\n",
    "\n",
    "### Honour Code\n",
    "\n",
    "I {**YOUR NAME**, **YOUR SURNAME**}, confirm - by submitting this document - that the solutions in this notebook are a result of my own work and that I abide by the EDSA honour code (https://drive.google.com/file/d/1QDCjGZJ8-FmJE3bZdIQNwnJyQKPhHZBn/view?usp=sharing).\n",
    "\n",
    "Non-compliance with the honour code constitutes a material breach of contract."
   ]
  },
  {
   "cell_type": "markdown",
   "metadata": {
    "id": "p40FILKTgwvy"
   },
   "source": [
    "<a id='Context'></a>\n",
    "### 1. Context\n",
    "\n",
    "<div align=\"center\" style=\"width: 600px; font-size: 80%; text-align: center; margin: 0 auto\">\n",
    "<img src=\"https://raw.githubusercontent.com/Explore-AI/Pictures/master/Bhejane_large.jpg\"\n",
    "     alt=\"The Black Rhino\"\n",
    "     style=\"float: center; padding-bottom=0.5em\"\n",
    "     width=600px/>\n",
    "     Bhejane, or the Black Rhino. Image by <a href=\"https://commons.wikimedia.org/wiki/File:Black_Rhino_(Diceros_bicornis)_browsing_..._(46584052962).jpg\">Wikimedia Commons</a>\n",
    "</div>\n",
    "\n",
    "\n",
    "The Bhejane trading store is an online retailer specialising in Covid essesstial items. The store has recently be struggling with the management of its database-related inventory system. Luckily for them, you've been hired as a consultant to fix the problem. \n",
    "\n",
    "Its time to flex your Ninja SQL skills! \n",
    " \n",
    "**Your mission, should you choose to accept it:**\n",
    "\n",
    "You will receive a denormalised database consisting of two tables. Your task is to transform the database such that is in third normal form (3NF). To ensure that a consistent normalisation process is followed by each student, we have attached an Entity Relationship Diagram (ERD) which is a guideline on what tables need to be produced. Once you have normalised the databasse, you will be required to complete an MCQ test found under the 'Predict' tab of Athena.  "
   ]
  },
  {
   "cell_type": "markdown",
   "metadata": {
    "id": "4hrluJ8Fgwvz"
   },
   "source": [
    "<a id='Imports'></a>\n",
    "### 2. Imports\n",
    "Please use the below command to install sql_magic, this is the package that will assist you with SQL syntax hightlighting.\n",
    "* pip install sql_magic\n",
    "\n",
    "Remember to start each new cell with \" %%read_sql \""
   ]
  },
  {
   "cell_type": "code",
   "execution_count": 1,
   "metadata": {
    "id": "v_6LpuJDgwvz"
   },
   "outputs": [
    {
     "data": {
      "application/javascript": [
       "\n",
       "    require(['notebook/js/codecell'], function(codecell) {\n",
       "      // https://github.com/jupyter/notebook/issues/2453\n",
       "      codecell.CodeCell.options_default.highlight_modes['magic_text/x-sql'] = {'reg':[/^%read_sql/, /.*=\\s*%read_sql/,\n",
       "                                                                                      /^%%read_sql/]};\n",
       "      Jupyter.notebook.events.one('kernel_ready.Kernel', function(){\n",
       "          console.log('BBBBB');\n",
       "          Jupyter.notebook.get_cells().map(function(cell){\n",
       "              if (cell.cell_type == 'code'){ cell.auto_highlight(); } }) ;\n",
       "      });\n",
       "    });\n",
       "    "
      ]
     },
     "metadata": {},
     "output_type": "display_data"
    }
   ],
   "source": [
    "# DO NOT EDIT THIS CELL\n",
    "import sqlite3\n",
    "import csv\n",
    "from sqlalchemy import create_engine\n",
    "%load_ext sql_magic\n",
    "\n",
    "# Load SQLite database\n",
    "engine  = create_engine(\"sqlite:///bhejane.db\")\n",
    "%config SQL.conn_name ='engine'"
   ]
  },
  {
   "cell_type": "markdown",
   "metadata": {
    "id": "tI8p4seXgwv3"
   },
   "source": [
    "<a id='Data_description'></a>\n",
    "### 3. Data description\n",
    "\n",
    "The original database consist of 2 tables. \n",
    "* Product Table\n",
    "* Transaction Table"
   ]
  },
  {
   "cell_type": "code",
   "execution_count": 2,
   "metadata": {
    "id": "oTb59N4Dgwv4",
    "outputId": "694a9594-2141-47a1-ad6e-f85c2571c355"
   },
   "outputs": [
    {
     "data": {
      "text/html": [
       "<div>\n",
       "<style scoped>\n",
       "    .dataframe tbody tr th:only-of-type {\n",
       "        vertical-align: middle;\n",
       "    }\n",
       "\n",
       "    .dataframe tbody tr th {\n",
       "        vertical-align: top;\n",
       "    }\n",
       "\n",
       "    .dataframe thead th {\n",
       "        text-align: right;\n",
       "    }\n",
       "</style>\n",
       "<table border=\"1\" class=\"dataframe\">\n",
       "  <thead>\n",
       "    <tr style=\"text-align: right;\">\n",
       "      <th></th>\n",
       "      <th>Table Name</th>\n",
       "      <th>Column Name</th>\n",
       "      <th>Desciption</th>\n",
       "    </tr>\n",
       "  </thead>\n",
       "  <tbody>\n",
       "    <tr>\n",
       "      <th>0</th>\n",
       "      <td>Products</td>\n",
       "      <td>Width</td>\n",
       "      <td>Width of the product once assembled</td>\n",
       "    </tr>\n",
       "    <tr>\n",
       "      <th>1</th>\n",
       "      <td>Products</td>\n",
       "      <td>Length</td>\n",
       "      <td>Length of the product once assembled</td>\n",
       "    </tr>\n",
       "    <tr>\n",
       "      <th>2</th>\n",
       "      <td>Products</td>\n",
       "      <td>Height</td>\n",
       "      <td>Height of the product once assembled</td>\n",
       "    </tr>\n",
       "    <tr>\n",
       "      <th>3</th>\n",
       "      <td>Products</td>\n",
       "      <td>Barcode</td>\n",
       "      <td>The unique product identifier</td>\n",
       "    </tr>\n",
       "    <tr>\n",
       "      <th>4</th>\n",
       "      <td>Products</td>\n",
       "      <td>Quantity</td>\n",
       "      <td>Number of goods in stock</td>\n",
       "    </tr>\n",
       "    <tr>\n",
       "      <th>5</th>\n",
       "      <td>Products</td>\n",
       "      <td>Brand</td>\n",
       "      <td>Product brand name relating to product company</td>\n",
       "    </tr>\n",
       "    <tr>\n",
       "      <th>6</th>\n",
       "      <td>Products</td>\n",
       "      <td>NavigationPath</td>\n",
       "      <td>Navigation path to specific product</td>\n",
       "    </tr>\n",
       "    <tr>\n",
       "      <th>7</th>\n",
       "      <td>Products</td>\n",
       "      <td>Colour</td>\n",
       "      <td>Name default colour for the product</td>\n",
       "    </tr>\n",
       "    <tr>\n",
       "      <th>8</th>\n",
       "      <td>Products</td>\n",
       "      <td>StockCountry</td>\n",
       "      <td>Country where the stock was bought from</td>\n",
       "    </tr>\n",
       "    <tr>\n",
       "      <th>9</th>\n",
       "      <td>Products</td>\n",
       "      <td>ProductDescription</td>\n",
       "      <td>Descriptive product name</td>\n",
       "    </tr>\n",
       "    <tr>\n",
       "      <th>10</th>\n",
       "      <td>Products</td>\n",
       "      <td>PackType</td>\n",
       "      <td>The way in which the product is packaged</td>\n",
       "    </tr>\n",
       "    <tr>\n",
       "      <th>11</th>\n",
       "      <td>Products</td>\n",
       "      <td>Volume_litre</td>\n",
       "      <td>The quantity of liquid based products</td>\n",
       "    </tr>\n",
       "    <tr>\n",
       "      <th>12</th>\n",
       "      <td>Products</td>\n",
       "      <td>Warranty</td>\n",
       "      <td>Product warranty type</td>\n",
       "    </tr>\n",
       "    <tr>\n",
       "      <th>13</th>\n",
       "      <td>Products</td>\n",
       "      <td>Weight_kg</td>\n",
       "      <td>Weight of the product</td>\n",
       "    </tr>\n",
       "    <tr>\n",
       "      <th>14</th>\n",
       "      <td>Products</td>\n",
       "      <td>ItemDescription</td>\n",
       "      <td>Description of contents of the package</td>\n",
       "    </tr>\n",
       "    <tr>\n",
       "      <th>15</th>\n",
       "      <td>Products</td>\n",
       "      <td>Price</td>\n",
       "      <td>The cost of the product in Rands</td>\n",
       "    </tr>\n",
       "    <tr>\n",
       "      <th>16</th>\n",
       "      <td>Transactions</td>\n",
       "      <td>CartID</td>\n",
       "      <td>Identifies an individual basket from a user pu...</td>\n",
       "    </tr>\n",
       "    <tr>\n",
       "      <th>17</th>\n",
       "      <td>Transactions</td>\n",
       "      <td>Barcode</td>\n",
       "      <td>Barcode for item that user purchased</td>\n",
       "    </tr>\n",
       "    <tr>\n",
       "      <th>18</th>\n",
       "      <td>Transactions</td>\n",
       "      <td>Total</td>\n",
       "      <td>Total value of a transaction</td>\n",
       "    </tr>\n",
       "    <tr>\n",
       "      <th>19</th>\n",
       "      <td>Transactions</td>\n",
       "      <td>UserName</td>\n",
       "      <td>Name of customer purchasing stock</td>\n",
       "    </tr>\n",
       "    <tr>\n",
       "      <th>20</th>\n",
       "      <td>Transactions</td>\n",
       "      <td>InvoiceDate</td>\n",
       "      <td>Date on which the product was bought</td>\n",
       "    </tr>\n",
       "  </tbody>\n",
       "</table>\n",
       "</div>"
      ],
      "text/plain": [
       "      Table Name         Column Name  \\\n",
       "0       Products               Width   \n",
       "1       Products              Length   \n",
       "2       Products              Height   \n",
       "3       Products             Barcode   \n",
       "4       Products            Quantity   \n",
       "5       Products               Brand   \n",
       "6       Products      NavigationPath   \n",
       "7       Products              Colour   \n",
       "8       Products        StockCountry   \n",
       "9       Products  ProductDescription   \n",
       "10      Products            PackType   \n",
       "11      Products        Volume_litre   \n",
       "12      Products            Warranty   \n",
       "13      Products           Weight_kg   \n",
       "14      Products     ItemDescription   \n",
       "15      Products               Price   \n",
       "16  Transactions              CartID   \n",
       "17  Transactions             Barcode   \n",
       "18  Transactions               Total   \n",
       "19  Transactions            UserName   \n",
       "20  Transactions         InvoiceDate   \n",
       "\n",
       "                                          Desciption   \n",
       "0                 Width of the product once assembled  \n",
       "1                Length of the product once assembled  \n",
       "2                Height of the product once assembled  \n",
       "3                      The unique product identifier   \n",
       "4                            Number of goods in stock  \n",
       "5      Product brand name relating to product company  \n",
       "6                 Navigation path to specific product  \n",
       "7                 Name default colour for the product  \n",
       "8             Country where the stock was bought from  \n",
       "9                            Descriptive product name  \n",
       "10           The way in which the product is packaged  \n",
       "11              The quantity of liquid based products  \n",
       "12                              Product warranty type  \n",
       "13                              Weight of the product  \n",
       "14            Description of contents of the package   \n",
       "15                   The cost of the product in Rands  \n",
       "16  Identifies an individual basket from a user pu...  \n",
       "17               Barcode for item that user purchased  \n",
       "18                      Total value of a transaction   \n",
       "19                  Name of customer purchasing stock  \n",
       "20               Date on which the product was bought  "
      ]
     },
     "execution_count": 2,
     "metadata": {},
     "output_type": "execute_result"
    }
   ],
   "source": [
    "# DO NOT EDIT THIS CELL\n",
    "import pandas as pd\n",
    "data_description = pd.read_excel('Data Description.xlsx')\n",
    "data_description"
   ]
  },
  {
   "cell_type": "markdown",
   "metadata": {
    "id": "bZd01SEagwv7"
   },
   "source": [
    "<a id='Setting_up'></a>\n",
    "### 4. Setting up the database"
   ]
  },
  {
   "cell_type": "code",
   "execution_count": 3,
   "metadata": {},
   "outputs": [],
   "source": [
    "#DO NOT EDIT THIS CELL\n",
    "conn = sqlite3.connect('bhejane.db')\n",
    "cursor = conn.cursor()"
   ]
  },
  {
   "cell_type": "markdown",
   "metadata": {
    "id": "G-WGBpmDgwv-"
   },
   "source": [
    "#### Creating both Products and Transaction Tables"
   ]
  },
  {
   "cell_type": "code",
   "execution_count": 4,
   "metadata": {
    "id": "qp-DQik7gwv-",
    "outputId": "16d1c6b9-fd74-40b1-c8a9-11807656b122"
   },
   "outputs": [
    {
     "name": "stdout",
     "output_type": "stream",
     "text": [
      "Query started at 11:50:43 AM SAST; Query executed in 0.00 m"
     ]
    },
    {
     "data": {
      "text/plain": [
       "<sql_magic.exceptions.EmptyResult at 0x7f38eb770890>"
      ]
     },
     "execution_count": 4,
     "metadata": {},
     "output_type": "execute_result"
    }
   ],
   "source": [
    "%%read_sql\n",
    "--DO NOT EDIT THIS CELL\n",
    "DROP TABLE IF EXISTS \"Products\";\n",
    "DROP TABLE IF EXISTS \"Transactions\";\n",
    "\n",
    "CREATE TABLE \"Products\" (\n",
    "    \"Width\"   REAL,\n",
    "    \"Length\"  REAL,\n",
    "    \"Height\"  REAL,\n",
    "    \"Barcode\" VARCHAR(150) NOT NULL,\n",
    "    \"Quantity\" INTEGER NOT NULL,\n",
    "    \"Brand\" VARCHAR(150), \n",
    "    \"NavigationPath\" VARCHAR(150),\n",
    "    \"Colour\" VARCHAR(150),\n",
    "    \"StockCountry\" VARCHAR(150),\n",
    "    \"ProductDescription\" VARCHAR(150) NOT NULL,\n",
    "    \"PackType\" VARCHAR(150), \n",
    "    \"Volume_litre\" REAL, \n",
    "    \"Warranty\" VARCHAR(150), \n",
    "    \"Weight_kg\" REAL,\n",
    "    \"ItemDescription\" VARCHAR(150), \n",
    "    \"Price\" REAL\n",
    ");\n",
    "\n",
    "\n",
    "CREATE TABLE \"Transactions\" (\n",
    "    \"CartID\" INTEGER,\n",
    "    \"Barcode\" VARCHAR(150), \n",
    "    \"Total\" REAL,\n",
    "    \"UserName\" VARCHAR(150), \n",
    "    \"InvoiceDate\" DATETIME\n",
    ");"
   ]
  },
  {
   "cell_type": "markdown",
   "metadata": {
    "id": "m3W5ah4PgwwG"
   },
   "source": [
    "#### Load Data into Product and Transaction tables"
   ]
  },
  {
   "cell_type": "code",
   "execution_count": 5,
   "metadata": {
    "id": "VW_oEkizgwwH"
   },
   "outputs": [],
   "source": [
    "# DO NOT EDIT CELL\n",
    "# Load data into Product table\n",
    "with open('bhejane_covid_essentials_Products.csv','r') as fin: # `with` statement available in 2.5+\n",
    "    # csv.DictReader uses first line in file for column headings by default\n",
    "    dr = csv.DictReader(fin) # comma is default delimiter\n",
    "    to_db = [(i['Width'],i['Length'],i['Height'], i['Barcode'], i['Quantity'], i['Brand'], i['NavigationPath'], i['Colour'], i['StockCountry'], i['ProductDescription'],i['PackType'],i['Volume_litre'],i['Warranty'],i['Weight_kg'],i[\"ItemDescription\"],i['Price']) for i in dr]\n",
    "\n",
    "cursor.executemany(\"INSERT INTO Products VALUES (?, ?, ?, ?, ?, ?, ?, ?, ?, ?, ?, ?, ?, ?, ?, ?);\", to_db)\n",
    "conn.commit()\n",
    "\n",
    "with open('bhejane_covid_essentials_Transactions.csv','r') as fin: # `with` statement available in 2.5+\n",
    "    # csv.DictReader uses first line in file for column headings by default\n",
    "    dr = csv.DictReader(fin) # comma is default delimiter\n",
    "    to_db = [(i['CartID'],i['Barcode'], i['Total'], i['UserName'], i['InvoiceDate']) for i in dr]\n",
    "\n",
    "cursor.executemany(\"INSERT INTO Transactions VALUES (?, ?, ?, ?, ?);\", to_db)\n",
    "conn.commit()"
   ]
  },
  {
   "cell_type": "markdown",
   "metadata": {
    "id": "uo9PWlZtgwwO"
   },
   "source": [
    "<a id='ERD'></a>\n",
    "### 5. Denormalized Database Tables\n",
    "\n",
    "\n",
    "<br>\n",
    "\n",
    "<img src=\"https://raw.githubusercontent.com/Explore-AI/Pictures/master/SQL4DS/SQL_Predict/Denormalized_Tables.png\" alt=\"Denormalized Tables\" border=\"0\">"
   ]
  },
  {
   "cell_type": "markdown",
   "metadata": {},
   "source": [
    "#### 5.1 Explore the Denormalized Tables\n",
    "Familiarize yourself with the data given in the two tables by writing your own SQL queries to explore properties of the dataset.i.e Look for data inconsistencies, anormalies, redundancies etc to guide your normalization process. \n",
    "\n",
    "This section will not be graded - think of it as your own scratch pad.\n",
    "\n"
   ]
  },
  {
   "cell_type": "code",
   "execution_count": 6,
   "metadata": {
    "scrolled": true
   },
   "outputs": [
    {
     "name": "stdout",
     "output_type": "stream",
     "text": [
      "Query started at 11:50:43 AM SAST; Query executed in 0.00 m"
     ]
    },
    {
     "data": {
      "text/html": [
       "<div>\n",
       "<style scoped>\n",
       "    .dataframe tbody tr th:only-of-type {\n",
       "        vertical-align: middle;\n",
       "    }\n",
       "\n",
       "    .dataframe tbody tr th {\n",
       "        vertical-align: top;\n",
       "    }\n",
       "\n",
       "    .dataframe thead th {\n",
       "        text-align: right;\n",
       "    }\n",
       "</style>\n",
       "<table border=\"1\" class=\"dataframe\">\n",
       "  <thead>\n",
       "    <tr style=\"text-align: right;\">\n",
       "      <th></th>\n",
       "      <th>Width</th>\n",
       "      <th>Length</th>\n",
       "      <th>Height</th>\n",
       "      <th>Barcode</th>\n",
       "      <th>Quantity</th>\n",
       "      <th>Brand</th>\n",
       "      <th>NavigationPath</th>\n",
       "      <th>Colour</th>\n",
       "      <th>StockCountry</th>\n",
       "      <th>ProductDescription</th>\n",
       "      <th>PackType</th>\n",
       "      <th>Volume_litre</th>\n",
       "      <th>Warranty</th>\n",
       "      <th>Weight_kg</th>\n",
       "      <th>ItemDescription</th>\n",
       "      <th>Price</th>\n",
       "    </tr>\n",
       "  </thead>\n",
       "  <tbody>\n",
       "    <tr>\n",
       "      <th>0</th>\n",
       "      <td></td>\n",
       "      <td></td>\n",
       "      <td></td>\n",
       "      <td>300507946</td>\n",
       "      <td>493</td>\n",
       "      <td>Hikvision</td>\n",
       "      <td>Computers &amp; Tablets / Smart Home &amp; Connected L...</td>\n",
       "      <td></td>\n",
       "      <td></td>\n",
       "      <td>Hikvision 1080P 2MP Turbo HD IR Bullet Camera</td>\n",
       "      <td></td>\n",
       "      <td>0.0</td>\n",
       "      <td>Limited (6 months)</td>\n",
       "      <td></td>\n",
       "      <td>1 x Hikvision 1080P Bullet camera</td>\n",
       "      <td>399.0</td>\n",
       "    </tr>\n",
       "    <tr>\n",
       "      <th>1</th>\n",
       "      <td></td>\n",
       "      <td></td>\n",
       "      <td></td>\n",
       "      <td>300507946</td>\n",
       "      <td>493</td>\n",
       "      <td>Hikvision</td>\n",
       "      <td>Computers &amp; Tablets / Smart Home &amp; Connected L...</td>\n",
       "      <td></td>\n",
       "      <td></td>\n",
       "      <td>Hikvision 1080P 2MP Turbo HD IR Bullet Camera</td>\n",
       "      <td></td>\n",
       "      <td>0.0</td>\n",
       "      <td>Limited (6 months)</td>\n",
       "      <td></td>\n",
       "      <td>Manual</td>\n",
       "      <td>399.0</td>\n",
       "    </tr>\n",
       "  </tbody>\n",
       "</table>\n",
       "</div>"
      ],
      "text/plain": [
       "  Width Length Height    Barcode  Quantity      Brand  \\\n",
       "0                      300507946       493  Hikvision   \n",
       "1                      300507946       493  Hikvision   \n",
       "\n",
       "                                      NavigationPath Colour StockCountry  \\\n",
       "0  Computers & Tablets / Smart Home & Connected L...                       \n",
       "1  Computers & Tablets / Smart Home & Connected L...                       \n",
       "\n",
       "                              ProductDescription PackType  Volume_litre  \\\n",
       "0  Hikvision 1080P 2MP Turbo HD IR Bullet Camera                    0.0   \n",
       "1  Hikvision 1080P 2MP Turbo HD IR Bullet Camera                    0.0   \n",
       "\n",
       "             Warranty Weight_kg                    ItemDescription  Price  \n",
       "0  Limited (6 months)            1 x Hikvision 1080P Bullet camera  399.0  \n",
       "1  Limited (6 months)                                       Manual  399.0  "
      ]
     },
     "execution_count": 6,
     "metadata": {},
     "output_type": "execute_result"
    }
   ],
   "source": [
    "%%read_sql\n",
    "-- #Use this section to explore the database by writing your own queries\n",
    "SELECT * FROM Products\n",
    "LIMIT 2;"
   ]
  },
  {
   "cell_type": "markdown",
   "metadata": {},
   "source": [
    "### 6. Normalize the given Database tables to the 1st Normal Form (1NF)\n",
    "\n",
    "Given the below below target ERD create new tables such the the database conforms to the 1st Normal Form\n",
    "\n",
    "<img src=\"https://raw.githubusercontent.com/Explore-AI/Pictures/master/SQL4DS/SQL_Predict/1NF.png\" alt=\"1st Normal Form ERD\" border=\"0\">\n",
    "\n",
    "It is suggested that you create all your tables before attempting to populate them with data, this will help reduce errors that might creep up due to logical dependencies."
   ]
  },
  {
   "cell_type": "markdown",
   "metadata": {},
   "source": [
    "#### 6.1 Create the tables required for the 1st Normal Form\n",
    "Use the above ERD sketch to create the required tables. Please label your tables as they appear in the ERD sketch"
   ]
  },
  {
   "cell_type": "code",
   "execution_count": 7,
   "metadata": {},
   "outputs": [
    {
     "name": "stdout",
     "output_type": "stream",
     "text": [
      "Query started at 11:50:43 AM SAST; Query executed in 0.00 m"
     ]
    },
    {
     "data": {
      "text/plain": [
       "<sql_magic.exceptions.EmptyResult at 0x7f38c302fb90>"
      ]
     },
     "execution_count": 7,
     "metadata": {},
     "output_type": "execute_result"
    }
   ],
   "source": [
    "%%read_sql\n",
    "--#Create tables required for 1NF\n",
    "DROP TABLE IF EXISTS \"Products_1NF\";\n",
    "DROP TABLE IF EXISTS \"Transactions_1NF\";\n",
    "\n",
    "CREATE TABLE \"Products_1NF\"(\n",
    "    \"Barcode\" VARCHAR(150) NOT NULL,\n",
    "    \"NavigationPath\" VARCHAR(150) NOT NULL,\n",
    "    \"ItemDescription\" VARCHAR(150) NOT NULL,\n",
    "    \"ProductDescription\" VARCHAR(150) NOT NULL,\n",
    "    \"Brand\" VARCHAR(150),\n",
    "    \"Price\" REAL NOT NULL,\n",
    "    \"Quantity\" INTEGER NOT NULL,\n",
    "    \"PackType\" VARCHAR(150),\n",
    "    \"Warranty\" VARCHAR(150),\n",
    "    \"StockCountry\" VARCHAR(150),\n",
    "    \"Colour\" VARCHAR(150),\n",
    "    \"Weight_kg\" REAL,\n",
    "    \"Volume_litre\" REAL,\n",
    "    \"Length\" REAL,\n",
    "    \"Width\" REAL,\n",
    "    \"Height\" REAL,\n",
    "    FOREIGN KEY (\"Barcode\") REFERENCES \"Transactions_1NF\" (\"Barcode\"),\n",
    "    PRIMARY KEY(\"Barcode\",\"NavigationPath\",\"ItemDescription\")\n",
    ");\n",
    "\n",
    "CREATE TABLE \"Transactions_1NF\" (\n",
    "    \"CartID\" INTEGER NOT NULL,\n",
    "    \"Barcode\" VARCHAR(150) NOT NULL,\n",
    "    \"UserName\" VARCHAR(150) NOT NULL,\n",
    "    \"InvoiceDate\" DATETIME NOT NULL,\n",
    "    \"Total\" REAL NOT NULL,\n",
    "    FOREIGN KEY (\"Barcode\") REFERENCES \"Products_1NF\" (\"Barcode\"),\n",
    "    PRIMARY KEY(\"CartID\", \"Barcode\")\n",
    ");"
   ]
  },
  {
   "cell_type": "markdown",
   "metadata": {},
   "source": [
    "#### 6.2 Populate the tables you have create in the above section.\n",
    "\n",
    "Populate the tables such that the database conforms to the 1st Normal Form"
   ]
  },
  {
   "cell_type": "code",
   "execution_count": 8,
   "metadata": {},
   "outputs": [
    {
     "name": "stdout",
     "output_type": "stream",
     "text": [
      "Query started at 11:50:43 AM SAST; Query executed in 0.00 m"
     ]
    },
    {
     "data": {
      "text/plain": [
       "<sql_magic.exceptions.EmptyResult at 0x7f38c31f4910>"
      ]
     },
     "execution_count": 8,
     "metadata": {},
     "output_type": "execute_result"
    }
   ],
   "source": [
    "%%read_sql\n",
    "--#Populate the 1NF tables\n",
    "DELETE FROM \"Products_1NF\";\n",
    "DELETE FROM \"Transactions_1NF\";\n",
    "\n",
    "INSERT INTO \"Products_1NF\" (\"Barcode\",\"NavigationPath\",\"ItemDescription\",\"Colour\",\"ProductDescription\",\"Brand\",\n",
    "                            \"Price\",\"Quantity\",\"PackType\",\"Warranty\",\"StockCountry\",\"Weight_kg\",\n",
    "                            \"Volume_litre\",\"Length\",\"Width\",\"Height\")\n",
    "SELECT DISTINCT\n",
    "     Barcode\n",
    "    ,NavigationPath\n",
    "    ,ItemDescription\n",
    "    ,Colour\n",
    "    ,ProductDescription\n",
    "    ,Brand\n",
    "    ,Price\n",
    "    ,Quantity\n",
    "    ,PackType\n",
    "    ,Warranty\n",
    "    ,StockCountry\n",
    "    ,Weight_kg\n",
    "    ,Volume_litre\n",
    "    ,Length\n",
    "    ,Width\n",
    "    ,Height \n",
    "FROM \n",
    "    Products;\n",
    "\n",
    "INSERT INTO \"Transactions_1NF\"(\"CartID\",\"Barcode\",\"UserName\",\"InvoiceDate\",\"Total\")\n",
    "SELECT DISTINCT \n",
    "    CartID\n",
    "    ,Barcode\n",
    "    ,UserName\n",
    "    ,InvoiceDate\n",
    "    ,Total\n",
    "FROM\n",
    "    Transactions;\n",
    "    "
   ]
  },
  {
   "cell_type": "markdown",
   "metadata": {},
   "source": [
    "###  7. Convert the database into its 2nd Normal Form (2NF).\n",
    "\n",
    "Please label your tables as they appear in the ERD sketch.\n",
    "\n",
    "<img src=\"https://raw.githubusercontent.com/Explore-AI/Pictures/master/SQL4DS/SQL_Predict/2NF.png\" alt=\"2nd Normal Form ERD\" border=\"0\">"
   ]
  },
  {
   "cell_type": "code",
   "execution_count": 9,
   "metadata": {},
   "outputs": [
    {
     "name": "stdout",
     "output_type": "stream",
     "text": [
      "Query started at 11:50:44 AM SAST; Query executed in 0.00 m"
     ]
    },
    {
     "data": {
      "text/plain": [
       "<sql_magic.exceptions.EmptyResult at 0x7f38c3205b50>"
      ]
     },
     "execution_count": 9,
     "metadata": {},
     "output_type": "execute_result"
    }
   ],
   "source": [
    "%%read_sql\n",
    "--#Create tables required for 2NF\n",
    "\n",
    "DROP TABLE IF EXISTS \"Products_2NF\";\n",
    "DROP TABLE IF EXISTS \"Transactions_2NF\";\n",
    "DROP TABLE IF EXISTS \"Navigation_2NF\";\n",
    "DROP TABLE IF EXISTS \"PackageContents_2NF\";\n",
    "DROP TABLE IF EXISTS \"Colours_2NF\";\n",
    "\n",
    "\n",
    "\n",
    "CREATE TABLE \"Products_2NF\"(\n",
    "    \"RegistryID\" INTEGER NOT NULL,\n",
    "    \"Barcode\" VARCHAR(150) NOT NULL,\n",
    "    \"ProductDescription\" VARCHAR(150) NOT NULL,\n",
    "    \"Brand\" VARCHAR(150),\n",
    "    \"Price\" REAL NOT NULL,\n",
    "    \"Quantity\" INTEGER NOT NULL,\n",
    "    \"StockCountry\" VARCHAR(150),\n",
    "    \"Weight_kg\" REAL,\n",
    "    \"Volume_litre\" REAL,\n",
    "    \"Length\" REAL,\n",
    "    \"Width\" REAL,\n",
    "    \"Height\" REAL,\n",
    "    \"PathID\" INTEGER,\n",
    "    \"ItemID\" INTEGER,\n",
    "    \"ColourID\" INTEGER,\n",
    "    PRIMARY KEY(\"RegistryID\" AUTOINCREMENT),\n",
    "    FOREIGN KEY(\"PathID\") REFERENCES \"Navigation_2NF\" (\"PathID\"),\n",
    "    FOREIGN KEY(\"ItemID\") REFERENCES \"PackageContents_2NF\" (\"ItemID\"),\n",
    "    FOREIGN KEY(\"ColourID\") REFERENCES \"Colours_2NF\" (\"ColourID\") \n",
    "    FOREIGN KEY (\"Barcode\") REFERENCES \"Transactions_2NF\" (\"Barcode\")\n",
    ");\n",
    "\n",
    "\n",
    "\n",
    "CREATE TABLE \"Transactions_2NF\" (\n",
    "    \"CartID\" INTEGER NOT NULL,\n",
    "    \"Barcode\" VARCHAR(150) NOT NULL,\n",
    "    \"UserName\" VARCHAR(150) NOT NULL,\n",
    "    \"InvoiceDate\" DATETIME NOT NULL,\n",
    "    \"Total\" REAL NOT NULL,\n",
    "    FOREIGN KEY (\"Barcode\") REFERENCES \"Products_2NF\" (\"Barcode\"),\n",
    "    PRIMARY KEY(\"CartID\", \"Barcode\")\n",
    ");\n",
    "\n",
    "\n",
    "CREATE TABLE \"Navigation_2NF\"(\n",
    "    \"PathID\" INTEGER NOT NULL,\n",
    "    \"NavigationPath\" VARCHAR(150),\n",
    "    PRIMARY KEY(\"PathID\" AUTOINCREMENT)\n",
    ");\n",
    "\n",
    "CREATE TABLE \"Colours_2NF\"(\n",
    "    \"ColourID\" INTEGER NOT NULL,\n",
    "    \"Colour\" VARCHAR(150),\n",
    "    PRIMARY KEY(\"ColourID\" AUTOINCREMENT)\n",
    ");\n",
    "\n",
    "CREATE TABLE \"PackageContents_2NF\"(\n",
    "    \"ItemID\" INTEGER NOT NULL,\n",
    "    \"ItemDescription\" VARCHAR(150),\n",
    "    \"PackType\" VARCHAR(150),\n",
    "    \"Warranty\" VARCHAR(150),\n",
    "    PRIMARY KEY(\"ItemID\" AUTOINCREMENT)\n",
    ");\n"
   ]
  },
  {
   "cell_type": "code",
   "execution_count": 10,
   "metadata": {},
   "outputs": [
    {
     "name": "stdout",
     "output_type": "stream",
     "text": [
      "Query started at 11:50:44 AM SAST; Query executed in 0.00 m"
     ]
    },
    {
     "data": {
      "text/plain": [
       "<sql_magic.exceptions.EmptyResult at 0x7f38c320dc50>"
      ]
     },
     "execution_count": 10,
     "metadata": {},
     "output_type": "execute_result"
    }
   ],
   "source": [
    "%%read_sql\n",
    "-- #Populate the tables so that they conform to 2NF\n",
    "\n",
    "DELETE FROM \"Products_2NF\";\n",
    "DELETE FROM \"Transactions_2NF\";\n",
    "DELETE FROM \"Navigation_2NF\";\n",
    "DELETE FROM \"PackageContents_2NF\";\n",
    "DELETE FROM \"Colours_2NF\";\n",
    "\n",
    "\n",
    "INSERT INTO \"Navigation_2NF\"(\"NavigationPath\")\n",
    "SELECT DISTINCT \n",
    "    NavigationPath \n",
    "FROM\n",
    "    Products;\n",
    "    \n",
    "INSERT INTO \"PackageContents_2NF\"(\"ItemDescription\",\"PackType\",\"Warranty\")\n",
    "SELECT DISTINCT \n",
    "    ItemDescription,\n",
    "    PackType,\n",
    "    Warranty \n",
    "FROM\n",
    "    Products\n",
    "WHERE ItemDescription <> '';\n",
    "    \n",
    "INSERT INTO \"Colours_2NF\"(\"Colour\")\n",
    "SELECT DISTINCT \n",
    "    Colour\n",
    "FROM\n",
    "    Products\n",
    "WHERE Colour <> '';\n",
    "\n",
    "INSERT INTO \"Products_2NF\" (\"PathID\",\"ItemID\",\"ColourID\",\"Barcode\",\"ProductDescription\",\"Brand\",\"Price\",\n",
    "                            \"Quantity\",\"StockCountry\",\"Weight_kg\",\"Volume_litre\",\n",
    "                            \"Length\",\"Width\",\"Height\")\n",
    "SELECT\n",
    "    Navigation_2NF.PathID,\n",
    "    PackageContents_2NF.ItemID,\n",
    "    Colours_2NF.ColourID,\n",
    "    Barcode,\n",
    "    ProductDescription,\n",
    "    Brand,\n",
    "    Price,\n",
    "    Quantity,\n",
    "    StockCountry,\n",
    "    Weight_kg, \n",
    "    Volume_litre, \n",
    "    Length,\n",
    "    Width,\n",
    "    Height \n",
    "FROM \n",
    "    Products\n",
    "LEFT JOIN Navigation_2NF ON Products.NavigationPath = Navigation_2NF.NavigationPath \n",
    "LEFT JOIN PackageContents_2NF ON Products.ItemDescription = PackageContents_2NF.ItemDescription\n",
    "LEFT JOIN Colours_2NF ON Products.Colour = Colours_2NF.Colour;\n",
    "\n",
    "\n",
    "INSERT INTO \"Transactions_2NF\"(\"CartID\",\"Barcode\",\"UserName\",\"InvoiceDate\",\"Total\")\n",
    "SELECT DISTINCT \n",
    "    CartID\n",
    "    ,Transactions.Barcode\n",
    "    ,UserName\n",
    "    ,InvoiceDate\n",
    "    ,Total\n",
    "FROM\n",
    "    Transactions\n",
    "JOIN Products_2NF ON Transactions.Barcode = Products_2NF.Barcode ;\n"
   ]
  },
  {
   "cell_type": "markdown",
   "metadata": {
    "id": "2BXpm06CgwwO"
   },
   "source": [
    "<a id='Target_ERD'></a>\n",
    "### 8. Convert the table into its 3rd Normal Form (3NF)\n",
    "\n",
    "Please label your tables as they appear in the ERD sketch\n",
    "\n",
    "<br>\n",
    "\n",
    "<img src=\"https://raw.githubusercontent.com/Explore-AI/Pictures/master/SQL4DS/SQL_Predict/3NF.png\" alt=\"3rd Normal Form ERD\" border=\"0\"></a>"
   ]
  },
  {
   "cell_type": "code",
   "execution_count": 11,
   "metadata": {
    "id": "nSceV8iQgwwP",
    "outputId": "8f243bda-2032-4c7b-9c58-e6110cdb9505"
   },
   "outputs": [
    {
     "name": "stdout",
     "output_type": "stream",
     "text": [
      "Query started at 11:50:45 AM SAST; Query executed in 0.00 m"
     ]
    },
    {
     "data": {
      "text/plain": [
       "<sql_magic.exceptions.EmptyResult at 0x7f38c3032f10>"
      ]
     },
     "execution_count": 11,
     "metadata": {},
     "output_type": "execute_result"
    }
   ],
   "source": [
    "%%read_sql\n",
    "\n",
    "--#Create tables required for 2NF\n",
    "DROP TABLE IF EXISTS \"Transactions_3NF\";\n",
    "DROP TABLE IF EXISTS \"Products_3NF\";\n",
    "DROP TABLE IF EXISTS \"Users_3NF\";\n",
    "DROP TABLE IF EXISTS \"Navigation_3NF\";\n",
    "DROP TABLE IF EXISTS \"PackageContents_3NF\";\n",
    "DROP TABLE IF EXISTS \"Colours_3NF\";\n",
    "DROP TABLE IF EXISTS \"Brands_3NF\";\n",
    "DROP TABLE IF EXISTS \"Locations_3NF\";\n",
    "\n",
    "CREATE TABLE \"Products_3NF\" (\n",
    "    \"RegistryID\" INTEGER NOT NULL,\n",
    "    \"Barcode\" VARCHAR(150) NOT NULL,\n",
    "    \"ProductDescription\" VARCHAR(150) NOT NULL,\n",
    "    \"Price\" REAL NOT NULL,\n",
    "    \"Quantity\" INTEGER NOT NULL,\n",
    "    \"Weight_kg\" REAL,\n",
    "    \"Volume_litre\" REAL,\n",
    "    \"Length\" REAL,\n",
    "    \"Width\" REAL,\n",
    "    \"Height\" REAL,\n",
    "    \"PathID\" INTEGER,\n",
    "    \"ItemID\" INTEGER,\n",
    "    \"ColourID\" INTEGER,\n",
    "    \"BrandID\" INTEGER,\n",
    "    \"LocationID\" INTEGER,\n",
    "    PRIMARY KEY(\"RegistryID\" AUTOINCREMENT),\n",
    "    FOREIGN KEY(\"PathID\") REFERENCES \"Navigation_3NF\" (\"PathID\"),\n",
    "    FOREIGN KEY(\"ItemID\") REFERENCES \"PackageContents_3NF\" (\"ItemID\"),\n",
    "    FOREIGN KEY(\"ColourID\") REFERENCES \"Colours_3NF\" (\"ColourID\") ,\n",
    "    FOREIGN KEY (\"BrandID\") REFERENCES \"Brands_3NF\" (\"BrandID\"),\n",
    "    FOREIGN KEY (\"Barcode\") REFERENCES \"Transactions_3NF\" (\"Barcode\"),\n",
    "    FOREIGN KEY (\"LocationID\") REFERENCES \"Locations_3NF\" (\"LocationID\")\n",
    ");\n",
    "\n",
    "CREATE TABLE \"Transactions_3NF\" (\n",
    "    \"CartID\" INTEGER NOT NULL,\n",
    "    \"Barcode\" VARCHAR(150) NOT NULL,\n",
    "    \"UserID\" VARCHAR(150) NOT NULL,\n",
    "    \"InvoiceDate\" DATETIME NOT NULL,\n",
    "    \"Total\" REAL NOT NULL,\n",
    "    FOREIGN KEY (\"Barcode\") REFERENCES \"Products_3NF\" (\"Barcode\"),\n",
    "    FOREIGN KEY (\"UserID\") REFERENCES \"Users_3NF\"(\"UserID\")\n",
    "    PRIMARY KEY(\"CartID\", \"Barcode\")\n",
    ");\n",
    "\n",
    "\n",
    "CREATE TABLE \"Users_3NF\"(\n",
    "    \"UserID\" INTEGER NOT NULL,\n",
    "    UserName VARCHAR(50) NOT NULL,\n",
    "    PRIMARY KEY(\"UserID\" AUTOINCREMENT)\n",
    ");\n",
    "\n",
    "\n",
    "CREATE TABLE \"Navigation_3NF\"(\n",
    "    \"PathID\" INTEGER NOT NULL,\n",
    "    \"NavigationPath\" VARCHAR(150),\n",
    "    PRIMARY KEY(\"PathID\" AUTOINCREMENT)\n",
    ");\n",
    "\n",
    "CREATE TABLE \"PackageContents_3NF\"(\n",
    "    \"ItemID\" INTEGER NOT NULL,\n",
    "    \"ItemDescription\" VARCHAR(150),\n",
    "    \"PackType\" VARCHAR(150),\n",
    "    \"Warranty\" VARCHAR(150),\n",
    "    PRIMARY KEY(\"ItemID\" AUTOINCREMENT)\n",
    ");\n",
    "\n",
    "CREATE TABLE \"Colours_3NF\"(\n",
    "    \"ColourID\" INTEGER NOT NULL,\n",
    "    \"Colour\" VARCHAR(150),\n",
    "    PRIMARY KEY(\"ColourID\" AUTOINCREMENT)\n",
    ");\n",
    "\n",
    "\n",
    "CREATE TABLE \"Brands_3NF\"(\n",
    "    \"BrandID\" INTEGER NOT NULL,\n",
    "    \"Brand\" VARCHAR(150),\n",
    "    PRIMARY KEY(\"BrandID\" AUTOINCREMENT)\n",
    ");\n",
    "\n",
    "CREATE TABLE \"Locations_3NF\"(\n",
    "    \"LocationID\" INTEGER NOT NULL,\n",
    "    \"StockCountry\" VARCHAR(150),\n",
    "    PRIMARY KEY(\"LocationID\" AUTOINCREMENT)\n",
    ");\n",
    "\n"
   ]
  },
  {
   "cell_type": "code",
   "execution_count": 12,
   "metadata": {
    "id": "j-neINIfgwwS",
    "outputId": "1404360c-952a-41f6-9b72-56e67f731fbd"
   },
   "outputs": [
    {
     "name": "stdout",
     "output_type": "stream",
     "text": [
      "Query started at 11:50:45 AM SAST; Query executed in 0.00 m"
     ]
    },
    {
     "data": {
      "text/plain": [
       "<sql_magic.exceptions.EmptyResult at 0x7f38c30839d0>"
      ]
     },
     "execution_count": 12,
     "metadata": {},
     "output_type": "execute_result"
    }
   ],
   "source": [
    "%%read_sql\n",
    "\n",
    "--# Populate the tables to that they conform to the 3rd Normal Form\n",
    "DELETE FROM \"Products_3NF\";\n",
    "DELETE FROM \"Transactions_3NF\";\n",
    "DELETE FROM \"Users_3NF\";\n",
    "DELETE FROM \"Navigation_3NF\";\n",
    "DELETE FROM \"PackageContents_3NF\";\n",
    "DELETE FROM \"Colours_3NF\";\n",
    "DELETE FROM \"Brands_3NF\";\n",
    "DELETE FROM \"Locations_3NF\";\n",
    "\n",
    "INSERT INTO \"Users_3NF\" (\"UserName\")\n",
    "SELECT DISTINCT UserName FROM Transactions_2NF;\n",
    "\n",
    "INSERT INTO \"Locations_3NF\" (\"StockCountry\")\n",
    "SELECT DISTINCT StockCountry FROM Products_2NF\n",
    "WHERE StockCountry <> '';\n",
    "\n",
    "INSERT INTO \"Brands_3NF\" (\"Brand\")\n",
    "SELECT DISTINCT Brand FROM Products_2NF\n",
    "WHERE Brand <> '';\n",
    "\n",
    "INSERT INTO \"Colours_3NF\" (\"Colour\")\n",
    "SELECT DISTINCT Colour FROM Colours_2NF;\n",
    "\n",
    "INSERT INTO \"PackageContents_3NF\" (\"ItemDescription\",\"PackType\",\"Warranty\")\n",
    "SELECT DISTINCT \n",
    "    ItemDescription,\n",
    "    PackType,\n",
    "    Warranty \n",
    "FROM\n",
    "    PackageContents_2NF\n",
    "WHERE ItemDescription <> '';\n",
    "\n",
    "INSERT INTO \"Navigation_3NF\" (\"NavigationPath\")\n",
    "SELECT DISTINCT \n",
    "    NavigationPath \n",
    "FROM\n",
    "    Navigation_2NF;\n",
    "    \n",
    "INSERT INTO \"Transactions_3NF\"(\"CartID\",\"Barcode\",\"UserID\",\"InvoiceDate\",\"Total\")\n",
    "SELECT DISTINCT \n",
    "    CartID\n",
    "    ,Transactions_2NF.Barcode\n",
    "    ,Users_3NF.UserID\n",
    "    ,InvoiceDate\n",
    "    ,Total\n",
    "FROM\n",
    "    Transactions_2NF\n",
    "JOIN Products_2NF ON Transactions_2NF.Barcode = Products_2NF.Barcode \n",
    "JOIN Users_3NF ON Transactions_2NF.UserName = Users_3NF.Username;\n",
    "\n",
    "\n",
    "INSERT INTO \"Products_3NF\" (\"PathID\",\"ItemID\",\"ColourID\",\"BrandID\",\"LocationID\",\n",
    "                            \"Barcode\",\"ProductDescription\",\"Price\",\n",
    "                            \"Quantity\",\"Weight_kg\",\"Volume_litre\",\n",
    "                            \"Length\",\"Width\",\"Height\")\n",
    "SELECT\n",
    "    Navigation_3NF.PathID,\n",
    "    PackageContents_3NF.ItemID,\n",
    "    Colours_3NF.ColourID,\n",
    "    Brands_3NF.BrandID,\n",
    "    Locations_3NF.LocationID,\n",
    "    Barcode,\n",
    "    ProductDescription,\n",
    "    Price,\n",
    "    Quantity,\n",
    "    Weight_kg, \n",
    "    Volume_litre, \n",
    "    Length,\n",
    "    Width,\n",
    "    Height \n",
    "FROM \n",
    "    Products\n",
    "LEFT JOIN Navigation_3NF ON Products.NavigationPath = Navigation_3NF.NavigationPath \n",
    "LEFT JOIN PackageContents_3NF ON Products.ItemDescription = PackageContents_3NF.ItemDescription\n",
    "LEFT JOIN Colours_3NF ON Products.Colour = Colours_3NF.Colour\n",
    "LEFT JOIN Brands_3NF ON Products.Brand = Brands_3NF.Brand\n",
    "LEFT JOIN Locations_3NF ON Products.StockCountry = Locations_3NF.StockCountry\n",
    ";\n",
    "\n"
   ]
  },
  {
   "cell_type": "markdown",
   "metadata": {
    "id": "zMvJZFQsGE03"
   },
   "source": [
    "<a id='MCQ_questions'></a>\n",
    "## 9. MCQ Questions\n",
    "\n",
    "Having completed the normalisation of the database, you may use the following cells to help you answer the MCQs for the predict. "
   ]
  },
  {
   "cell_type": "markdown",
   "metadata": {
    "id": "hEVNjuirGE03"
   },
   "source": [
    "Q1) How many products (Total Stock) does the company have?"
   ]
  },
  {
   "cell_type": "code",
   "execution_count": 13,
   "metadata": {
    "id": "y3hoYpGxGE03"
   },
   "outputs": [
    {
     "name": "stdout",
     "output_type": "stream",
     "text": [
      "Query started at 11:50:46 AM SAST; Query executed in 0.00 m"
     ]
    },
    {
     "data": {
      "text/html": [
       "<div>\n",
       "<style scoped>\n",
       "    .dataframe tbody tr th:only-of-type {\n",
       "        vertical-align: middle;\n",
       "    }\n",
       "\n",
       "    .dataframe tbody tr th {\n",
       "        vertical-align: top;\n",
       "    }\n",
       "\n",
       "    .dataframe thead th {\n",
       "        text-align: right;\n",
       "    }\n",
       "</style>\n",
       "<table border=\"1\" class=\"dataframe\">\n",
       "  <thead>\n",
       "    <tr style=\"text-align: right;\">\n",
       "      <th></th>\n",
       "      <th>sum(Quantity)</th>\n",
       "    </tr>\n",
       "  </thead>\n",
       "  <tbody>\n",
       "    <tr>\n",
       "      <th>0</th>\n",
       "      <td>155515</td>\n",
       "    </tr>\n",
       "  </tbody>\n",
       "</table>\n",
       "</div>"
      ],
      "text/plain": [
       "   sum(Quantity)\n",
       "0         155515"
      ]
     },
     "execution_count": 13,
     "metadata": {},
     "output_type": "execute_result"
    }
   ],
   "source": [
    "%%read_sql\n",
    "-- Write your query here:\n",
    "\n",
    "SELECT sum(Quantity) FROM \n",
    "(\n",
    "    SELECT DISTINCT Barcode, Quantity\n",
    "    FROM Products_3NF \n",
    ");"
   ]
  },
  {
   "cell_type": "markdown",
   "metadata": {
    "id": "WsQZQ8tuGE03"
   },
   "source": [
    "Q2) Which user(s) bought from Bhejane on the 25th of March in 2020?"
   ]
  },
  {
   "cell_type": "code",
   "execution_count": 14,
   "metadata": {
    "id": "hFz7XUw_GE04"
   },
   "outputs": [
    {
     "name": "stdout",
     "output_type": "stream",
     "text": [
      "Query started at 11:50:46 AM SAST; Query executed in 0.00 m"
     ]
    },
    {
     "data": {
      "text/html": [
       "<div>\n",
       "<style scoped>\n",
       "    .dataframe tbody tr th:only-of-type {\n",
       "        vertical-align: middle;\n",
       "    }\n",
       "\n",
       "    .dataframe tbody tr th {\n",
       "        vertical-align: top;\n",
       "    }\n",
       "\n",
       "    .dataframe thead th {\n",
       "        text-align: right;\n",
       "    }\n",
       "</style>\n",
       "<table border=\"1\" class=\"dataframe\">\n",
       "  <thead>\n",
       "    <tr style=\"text-align: right;\">\n",
       "      <th></th>\n",
       "      <th>UserName</th>\n",
       "    </tr>\n",
       "  </thead>\n",
       "  <tbody>\n",
       "    <tr>\n",
       "      <th>0</th>\n",
       "      <td>Sandra</td>\n",
       "    </tr>\n",
       "  </tbody>\n",
       "</table>\n",
       "</div>"
      ],
      "text/plain": [
       "  UserName\n",
       "0   Sandra"
      ]
     },
     "execution_count": 14,
     "metadata": {},
     "output_type": "execute_result"
    }
   ],
   "source": [
    "%%read_sql\n",
    "-- Write your query here:\n",
    "SELECT DISTINCT U.UserName \n",
    "FROM Transactions_3NF T\n",
    "JOIN Users_3NF U ON T.UserID = U.UserID\n",
    "WHERE InvoiceDate LIKE \"2020-03-25%\"\n"
   ]
  },
  {
   "cell_type": "markdown",
   "metadata": {
    "id": "iBRifthWGE04"
   },
   "source": [
    "Q3) List the date(s) where Mandla bought something from Bhejane."
   ]
  },
  {
   "cell_type": "code",
   "execution_count": 15,
   "metadata": {
    "id": "NURR7Ue9GE04"
   },
   "outputs": [
    {
     "name": "stdout",
     "output_type": "stream",
     "text": [
      "Query started at 11:50:46 AM SAST; Query executed in 0.00 m"
     ]
    },
    {
     "data": {
      "text/html": [
       "<div>\n",
       "<style scoped>\n",
       "    .dataframe tbody tr th:only-of-type {\n",
       "        vertical-align: middle;\n",
       "    }\n",
       "\n",
       "    .dataframe tbody tr th {\n",
       "        vertical-align: top;\n",
       "    }\n",
       "\n",
       "    .dataframe thead th {\n",
       "        text-align: right;\n",
       "    }\n",
       "</style>\n",
       "<table border=\"1\" class=\"dataframe\">\n",
       "  <thead>\n",
       "    <tr style=\"text-align: right;\">\n",
       "      <th></th>\n",
       "      <th>InvoiceDate</th>\n",
       "    </tr>\n",
       "  </thead>\n",
       "  <tbody>\n",
       "    <tr>\n",
       "      <th>0</th>\n",
       "      <td>2020-06-07 0:00:00</td>\n",
       "    </tr>\n",
       "    <tr>\n",
       "      <th>1</th>\n",
       "      <td>2020-04-09 0:00:00</td>\n",
       "    </tr>\n",
       "    <tr>\n",
       "      <th>2</th>\n",
       "      <td>2020-04-11 0:00:00</td>\n",
       "    </tr>\n",
       "  </tbody>\n",
       "</table>\n",
       "</div>"
      ],
      "text/plain": [
       "          InvoiceDate\n",
       "0  2020-06-07 0:00:00\n",
       "1  2020-04-09 0:00:00\n",
       "2  2020-04-11 0:00:00"
      ]
     },
     "execution_count": 15,
     "metadata": {},
     "output_type": "execute_result"
    }
   ],
   "source": [
    "%%read_sql\n",
    "-- Write your query here:\n",
    "SELECT DISTINCT InvoiceDate\n",
    "FROM Transactions_3NF T\n",
    "JOIN Users_3NF U ON T.UserID = U.UserID\n",
    "WHERE UserName = 'Mandla'"
   ]
  },
  {
   "cell_type": "markdown",
   "metadata": {
    "id": "9_-usJoSGE04"
   },
   "source": [
    "Q4) Which brand has the largest product variety available at Bhejane?"
   ]
  },
  {
   "cell_type": "code",
   "execution_count": 16,
   "metadata": {
    "id": "3i7wS1jJGE04"
   },
   "outputs": [
    {
     "name": "stdout",
     "output_type": "stream",
     "text": [
      "Query started at 11:50:46 AM SAST; Query executed in 0.00 m"
     ]
    },
    {
     "data": {
      "text/html": [
       "<div>\n",
       "<style scoped>\n",
       "    .dataframe tbody tr th:only-of-type {\n",
       "        vertical-align: middle;\n",
       "    }\n",
       "\n",
       "    .dataframe tbody tr th {\n",
       "        vertical-align: top;\n",
       "    }\n",
       "\n",
       "    .dataframe thead th {\n",
       "        text-align: right;\n",
       "    }\n",
       "</style>\n",
       "<table border=\"1\" class=\"dataframe\">\n",
       "  <thead>\n",
       "    <tr style=\"text-align: right;\">\n",
       "      <th></th>\n",
       "      <th>Product_variety</th>\n",
       "      <th>Brand</th>\n",
       "    </tr>\n",
       "  </thead>\n",
       "  <tbody>\n",
       "    <tr>\n",
       "      <th>0</th>\n",
       "      <td>16</td>\n",
       "      <td>SanDisk</td>\n",
       "    </tr>\n",
       "    <tr>\n",
       "      <th>1</th>\n",
       "      <td>11</td>\n",
       "      <td>Russell Hobbs</td>\n",
       "    </tr>\n",
       "    <tr>\n",
       "      <th>2</th>\n",
       "      <td>11</td>\n",
       "      <td>Pampers</td>\n",
       "    </tr>\n",
       "    <tr>\n",
       "      <th>3</th>\n",
       "      <td>9</td>\n",
       "      <td>Canon</td>\n",
       "    </tr>\n",
       "    <tr>\n",
       "      <th>4</th>\n",
       "      <td>7</td>\n",
       "      <td>Gizmo</td>\n",
       "    </tr>\n",
       "    <tr>\n",
       "      <th>...</th>\n",
       "      <td>...</td>\n",
       "      <td>...</td>\n",
       "    </tr>\n",
       "    <tr>\n",
       "      <th>227</th>\n",
       "      <td>1</td>\n",
       "      <td>Amplify</td>\n",
       "    </tr>\n",
       "    <tr>\n",
       "      <th>228</th>\n",
       "      <td>1</td>\n",
       "      <td>All Hands</td>\n",
       "    </tr>\n",
       "    <tr>\n",
       "      <th>229</th>\n",
       "      <td>1</td>\n",
       "      <td>African Beauty Secret</td>\n",
       "    </tr>\n",
       "    <tr>\n",
       "      <th>230</th>\n",
       "      <td>1</td>\n",
       "      <td>ADATA</td>\n",
       "    </tr>\n",
       "    <tr>\n",
       "      <th>231</th>\n",
       "      <td>1</td>\n",
       "      <td>&amp;Accessories</td>\n",
       "    </tr>\n",
       "  </tbody>\n",
       "</table>\n",
       "<p>232 rows × 2 columns</p>\n",
       "</div>"
      ],
      "text/plain": [
       "     Product_variety                  Brand\n",
       "0                 16                SanDisk\n",
       "1                 11          Russell Hobbs\n",
       "2                 11                Pampers\n",
       "3                  9                  Canon\n",
       "4                  7                  Gizmo\n",
       "..               ...                    ...\n",
       "227                1                Amplify\n",
       "228                1              All Hands\n",
       "229                1  African Beauty Secret\n",
       "230                1                  ADATA\n",
       "231                1           &Accessories\n",
       "\n",
       "[232 rows x 2 columns]"
      ]
     },
     "execution_count": 16,
     "metadata": {},
     "output_type": "execute_result"
    }
   ],
   "source": [
    "%%read_sql\n",
    "-- Write your query here:\n",
    "SELECT COUNT (DISTINCT( p.Barcode )) AS Product_variety, b.Brand\n",
    "FROM Products_3NF AS p\n",
    "JOIN Brands_3NF AS b\n",
    "ON p.BrandID = b.BrandID\n",
    "GROUP BY b.Brand\n",
    "ORDER BY Product_variety DESC"
   ]
  },
  {
   "cell_type": "markdown",
   "metadata": {
    "id": "Ik1EeR1dGE04"
   },
   "source": [
    "Q5) How much did Zanele spend on the 4th of March 2020?"
   ]
  },
  {
   "cell_type": "code",
   "execution_count": 17,
   "metadata": {
    "id": "BhTlfGsyGE04"
   },
   "outputs": [
    {
     "name": "stdout",
     "output_type": "stream",
     "text": [
      "Query started at 11:50:46 AM SAST; Query executed in 0.00 m"
     ]
    },
    {
     "data": {
      "text/html": [
       "<div>\n",
       "<style scoped>\n",
       "    .dataframe tbody tr th:only-of-type {\n",
       "        vertical-align: middle;\n",
       "    }\n",
       "\n",
       "    .dataframe tbody tr th {\n",
       "        vertical-align: top;\n",
       "    }\n",
       "\n",
       "    .dataframe thead th {\n",
       "        text-align: right;\n",
       "    }\n",
       "</style>\n",
       "<table border=\"1\" class=\"dataframe\">\n",
       "  <thead>\n",
       "    <tr style=\"text-align: right;\">\n",
       "      <th></th>\n",
       "      <th>UserName</th>\n",
       "      <th>Total</th>\n",
       "      <th>InvoiceDate</th>\n",
       "    </tr>\n",
       "  </thead>\n",
       "  <tbody>\n",
       "    <tr>\n",
       "      <th>0</th>\n",
       "      <td>Zanele</td>\n",
       "      <td>3464.0</td>\n",
       "      <td>2020-04-04 0:00:00</td>\n",
       "    </tr>\n",
       "  </tbody>\n",
       "</table>\n",
       "</div>"
      ],
      "text/plain": [
       "  UserName   Total         InvoiceDate\n",
       "0   Zanele  3464.0  2020-04-04 0:00:00"
      ]
     },
     "execution_count": 17,
     "metadata": {},
     "output_type": "execute_result"
    }
   ],
   "source": [
    "%%read_sql\n",
    "-- Write your query here:\n",
    "SELECT UserName, Total, InvoiceDate\n",
    "FROM Transactions_3NF TRN\n",
    "JOIN Users_3NF US ON TRN.UserID = US.UserID\n",
    "WHERE UserName = 'Zanele' AND InvoiceDate LIKE \"2020-04-04%\"\n",
    "GROUP BY InvoiceDate"
   ]
  },
  {
   "cell_type": "markdown",
   "metadata": {
    "id": "CLNf-BoGGE04"
   },
   "source": [
    "Q6) Assuming the average pick-up truck can hold 90 $m^{3}$ of stock. How many bags of 'Catmor - Dry Cat Food - Chicken - 4kg' can you fit in the truck? Round down your answer to the nearest whole number.\n",
    "\n",
    "1$m^{3}$ = 1000000$cm^{3}$"
   ]
  },
  {
   "cell_type": "code",
   "execution_count": 18,
   "metadata": {
    "id": "afrVCqnYGE04"
   },
   "outputs": [
    {
     "name": "stdout",
     "output_type": "stream",
     "text": [
      "Query started at 11:50:46 AM SAST; Query executed in 0.00 m"
     ]
    },
    {
     "data": {
      "text/html": [
       "<div>\n",
       "<style scoped>\n",
       "    .dataframe tbody tr th:only-of-type {\n",
       "        vertical-align: middle;\n",
       "    }\n",
       "\n",
       "    .dataframe tbody tr th {\n",
       "        vertical-align: top;\n",
       "    }\n",
       "\n",
       "    .dataframe thead th {\n",
       "        text-align: right;\n",
       "    }\n",
       "</style>\n",
       "<table border=\"1\" class=\"dataframe\">\n",
       "  <thead>\n",
       "    <tr style=\"text-align: right;\">\n",
       "      <th></th>\n",
       "      <th>ProductDescription</th>\n",
       "      <th>Quantity</th>\n",
       "    </tr>\n",
       "  </thead>\n",
       "  <tbody>\n",
       "    <tr>\n",
       "      <th>0</th>\n",
       "      <td>Catmor - Dry Cat Food - Chicken - 4kg</td>\n",
       "      <td>6.105006</td>\n",
       "    </tr>\n",
       "  </tbody>\n",
       "</table>\n",
       "</div>"
      ],
      "text/plain": [
       "                      ProductDescription  Quantity\n",
       "0  Catmor - Dry Cat Food - Chicken - 4kg  6.105006"
      ]
     },
     "execution_count": 18,
     "metadata": {},
     "output_type": "execute_result"
    }
   ],
   "source": [
    "%%read_sql\n",
    "-- Write your query here:\n",
    "SELECT \n",
    "    DISTINCT ProductDescription ,\n",
    "    (90000000 / (Length*Height*Width)) as Quantity\n",
    "FROM Products_3NF\n",
    "Where ProductDescription = 'Catmor - Dry Cat Food - Chicken - 4kg'"
   ]
  },
  {
   "cell_type": "markdown",
   "metadata": {
    "id": "B4usZSh1GE04"
   },
   "source": [
    "Q7) Which user spent the most having only bought 4 items in the Year 2020?"
   ]
  },
  {
   "cell_type": "code",
   "execution_count": 19,
   "metadata": {
    "id": "8xipCT9JGE04"
   },
   "outputs": [
    {
     "name": "stdout",
     "output_type": "stream",
     "text": [
      "Query started at 11:50:46 AM SAST; Query executed in 0.00 m"
     ]
    },
    {
     "data": {
      "text/html": [
       "<div>\n",
       "<style scoped>\n",
       "    .dataframe tbody tr th:only-of-type {\n",
       "        vertical-align: middle;\n",
       "    }\n",
       "\n",
       "    .dataframe tbody tr th {\n",
       "        vertical-align: top;\n",
       "    }\n",
       "\n",
       "    .dataframe thead th {\n",
       "        text-align: right;\n",
       "    }\n",
       "</style>\n",
       "<table border=\"1\" class=\"dataframe\">\n",
       "  <thead>\n",
       "    <tr style=\"text-align: right;\">\n",
       "      <th></th>\n",
       "      <th>Total_Goods_Bought</th>\n",
       "      <th>Total</th>\n",
       "      <th>UserID</th>\n",
       "      <th>UserName</th>\n",
       "    </tr>\n",
       "  </thead>\n",
       "  <tbody>\n",
       "    <tr>\n",
       "      <th>0</th>\n",
       "      <td>4</td>\n",
       "      <td>3301.0</td>\n",
       "      <td>5</td>\n",
       "      <td>Junaid</td>\n",
       "    </tr>\n",
       "    <tr>\n",
       "      <th>1</th>\n",
       "      <td>4</td>\n",
       "      <td>1716.0</td>\n",
       "      <td>15</td>\n",
       "      <td>Margaret</td>\n",
       "    </tr>\n",
       "    <tr>\n",
       "      <th>2</th>\n",
       "      <td>4</td>\n",
       "      <td>1523.0</td>\n",
       "      <td>1</td>\n",
       "      <td>DIMPHO</td>\n",
       "    </tr>\n",
       "    <tr>\n",
       "      <th>3</th>\n",
       "      <td>4</td>\n",
       "      <td>1134.0</td>\n",
       "      <td>23</td>\n",
       "      <td>Daffy</td>\n",
       "    </tr>\n",
       "    <tr>\n",
       "      <th>4</th>\n",
       "      <td>4</td>\n",
       "      <td>1114.0</td>\n",
       "      <td>17</td>\n",
       "      <td>Mel</td>\n",
       "    </tr>\n",
       "  </tbody>\n",
       "</table>\n",
       "</div>"
      ],
      "text/plain": [
       "   Total_Goods_Bought   Total UserID  UserName\n",
       "0                   4  3301.0      5    Junaid\n",
       "1                   4  1716.0     15  Margaret\n",
       "2                   4  1523.0      1    DIMPHO\n",
       "3                   4  1134.0     23     Daffy\n",
       "4                   4  1114.0     17       Mel"
      ]
     },
     "execution_count": 19,
     "metadata": {},
     "output_type": "execute_result"
    }
   ],
   "source": [
    "%%read_sql\n",
    "-- Write your query here:\n",
    "Select \n",
    "    Count(Barcode) as Total_Goods_Bought , \n",
    "    Total, \n",
    "    t.UserID, \n",
    "    u.Username\n",
    "From Transactions_3NF as t\n",
    "Join Users_3NF as u On u.UserID = t.UserID\n",
    "Group By t.UserID\n",
    "Having Total_Goods_Bought = 4\n",
    "Order By Total desc\n",
    "Limit 5"
   ]
  },
  {
   "cell_type": "markdown",
   "metadata": {
    "id": "BGaE5N7nGE04"
   },
   "source": [
    "Q8) What would the total price be if I had the following items in my cart?\n",
    "\n",
    "* Estee Lauder Double Wear Stay In Place Makeup\n",
    "* Angelcare - Nappy Bin Refill - 3 Pack\n",
    "* RCT 650VA Line Interactive UPS"
   ]
  },
  {
   "cell_type": "code",
   "execution_count": 20,
   "metadata": {
    "id": "4pOPg-jAGE04",
    "scrolled": true
   },
   "outputs": [
    {
     "name": "stdout",
     "output_type": "stream",
     "text": [
      "Query started at 11:50:46 AM SAST; Query executed in 0.00 m"
     ]
    },
    {
     "data": {
      "text/html": [
       "<div>\n",
       "<style scoped>\n",
       "    .dataframe tbody tr th:only-of-type {\n",
       "        vertical-align: middle;\n",
       "    }\n",
       "\n",
       "    .dataframe tbody tr th {\n",
       "        vertical-align: top;\n",
       "    }\n",
       "\n",
       "    .dataframe thead th {\n",
       "        text-align: right;\n",
       "    }\n",
       "</style>\n",
       "<table border=\"1\" class=\"dataframe\">\n",
       "  <thead>\n",
       "    <tr style=\"text-align: right;\">\n",
       "      <th></th>\n",
       "      <th>SUM(Price)</th>\n",
       "    </tr>\n",
       "  </thead>\n",
       "  <tbody>\n",
       "    <tr>\n",
       "      <th>0</th>\n",
       "      <td>1599.0</td>\n",
       "    </tr>\n",
       "  </tbody>\n",
       "</table>\n",
       "</div>"
      ],
      "text/plain": [
       "   SUM(Price)\n",
       "0      1599.0"
      ]
     },
     "execution_count": 20,
     "metadata": {},
     "output_type": "execute_result"
    }
   ],
   "source": [
    "%%read_sql\n",
    "-- Write your query here:\n",
    "SELECT SUM(Price) FROM \n",
    "(\n",
    "SELECT DISTINCT ProductDescription,Price\n",
    "FROM Products_3NF \n",
    "WHERE ProductDescription IN ('Estee Lauder Double Wear Stay In Place Makeup',\n",
    "                             'Angelcare - Nappy Bin Refill - 3 Pack',\n",
    "                             'RCT 650VA Line Interactive UPS') \n",
    ")\n",
    "                             "
   ]
  },
  {
   "cell_type": "markdown",
   "metadata": {},
   "source": [
    "Q9) From a stock count point of view, which product in Bhejane has the highest quantity?"
   ]
  },
  {
   "cell_type": "code",
   "execution_count": 21,
   "metadata": {},
   "outputs": [
    {
     "name": "stdout",
     "output_type": "stream",
     "text": [
      "Query started at 11:50:46 AM SAST; Query executed in 0.00 m"
     ]
    },
    {
     "data": {
      "text/html": [
       "<div>\n",
       "<style scoped>\n",
       "    .dataframe tbody tr th:only-of-type {\n",
       "        vertical-align: middle;\n",
       "    }\n",
       "\n",
       "    .dataframe tbody tr th {\n",
       "        vertical-align: top;\n",
       "    }\n",
       "\n",
       "    .dataframe thead th {\n",
       "        text-align: right;\n",
       "    }\n",
       "</style>\n",
       "<table border=\"1\" class=\"dataframe\">\n",
       "  <thead>\n",
       "    <tr style=\"text-align: right;\">\n",
       "      <th></th>\n",
       "      <th>ProductDescription</th>\n",
       "      <th>Quantity</th>\n",
       "    </tr>\n",
       "  </thead>\n",
       "  <tbody>\n",
       "    <tr>\n",
       "      <th>0</th>\n",
       "      <td>Beard Growth Essential Oil</td>\n",
       "      <td>500</td>\n",
       "    </tr>\n",
       "    <tr>\n",
       "      <th>1</th>\n",
       "      <td>WD Elements Portable 1TB USB 3,0</td>\n",
       "      <td>499</td>\n",
       "    </tr>\n",
       "    <tr>\n",
       "      <th>2</th>\n",
       "      <td>Home Quip USB Rechargeable Emergency Lantern -...</td>\n",
       "      <td>499</td>\n",
       "    </tr>\n",
       "    <tr>\n",
       "      <th>3</th>\n",
       "      <td>Face Mask - Reusable Sponge with 1 Breathing V...</td>\n",
       "      <td>499</td>\n",
       "    </tr>\n",
       "    <tr>\n",
       "      <th>4</th>\n",
       "      <td>Mecer MyLife | Intel Dual Core Celeron | 4GB |...</td>\n",
       "      <td>499</td>\n",
       "    </tr>\n",
       "    <tr>\n",
       "      <th>5</th>\n",
       "      <td>Rawbiotics Gut 1 Litre</td>\n",
       "      <td>498</td>\n",
       "    </tr>\n",
       "    <tr>\n",
       "      <th>6</th>\n",
       "      <td>Medmart Health Fingertip Pulse Oximeter</td>\n",
       "      <td>497</td>\n",
       "    </tr>\n",
       "    <tr>\n",
       "      <th>7</th>\n",
       "      <td>Bennett Read Vacuum Sealer</td>\n",
       "      <td>495</td>\n",
       "    </tr>\n",
       "    <tr>\n",
       "      <th>8</th>\n",
       "      <td>Duracell Rechargeable AAA 900mAh Batteries - 4...</td>\n",
       "      <td>494</td>\n",
       "    </tr>\n",
       "    <tr>\n",
       "      <th>9</th>\n",
       "      <td>Dettol Hygiene Wipes - Hand Wipes - Surface Cl...</td>\n",
       "      <td>494</td>\n",
       "    </tr>\n",
       "  </tbody>\n",
       "</table>\n",
       "</div>"
      ],
      "text/plain": [
       "                                  ProductDescription  Quantity\n",
       "0                         Beard Growth Essential Oil       500\n",
       "1                   WD Elements Portable 1TB USB 3,0       499\n",
       "2  Home Quip USB Rechargeable Emergency Lantern -...       499\n",
       "3  Face Mask - Reusable Sponge with 1 Breathing V...       499\n",
       "4  Mecer MyLife | Intel Dual Core Celeron | 4GB |...       499\n",
       "5                             Rawbiotics Gut 1 Litre       498\n",
       "6            Medmart Health Fingertip Pulse Oximeter       497\n",
       "7                         Bennett Read Vacuum Sealer       495\n",
       "8  Duracell Rechargeable AAA 900mAh Batteries - 4...       494\n",
       "9  Dettol Hygiene Wipes - Hand Wipes - Surface Cl...       494"
      ]
     },
     "execution_count": 21,
     "metadata": {},
     "output_type": "execute_result"
    }
   ],
   "source": [
    "%%read_sql\n",
    "-- Write your query here:\n",
    "Select Distinct ProductDescription, Quantity\n",
    "From Products_3NF\n",
    "Order by Quantity desc\n",
    "Limit 10"
   ]
  },
  {
   "cell_type": "markdown",
   "metadata": {
    "id": "A_5dz4coGE04"
   },
   "source": [
    "Q10) How many products are imported from the United Kingdom?"
   ]
  },
  {
   "cell_type": "code",
   "execution_count": 22,
   "metadata": {},
   "outputs": [
    {
     "name": "stdout",
     "output_type": "stream",
     "text": [
      "Query started at 11:50:46 AM SAST; Query executed in 0.00 m"
     ]
    },
    {
     "data": {
      "text/html": [
       "<div>\n",
       "<style scoped>\n",
       "    .dataframe tbody tr th:only-of-type {\n",
       "        vertical-align: middle;\n",
       "    }\n",
       "\n",
       "    .dataframe tbody tr th {\n",
       "        vertical-align: top;\n",
       "    }\n",
       "\n",
       "    .dataframe thead th {\n",
       "        text-align: right;\n",
       "    }\n",
       "</style>\n",
       "<table border=\"1\" class=\"dataframe\">\n",
       "  <thead>\n",
       "    <tr style=\"text-align: right;\">\n",
       "      <th></th>\n",
       "      <th>COUNT(DISTINCT Barcode)</th>\n",
       "    </tr>\n",
       "  </thead>\n",
       "  <tbody>\n",
       "    <tr>\n",
       "      <th>0</th>\n",
       "      <td>4</td>\n",
       "    </tr>\n",
       "  </tbody>\n",
       "</table>\n",
       "</div>"
      ],
      "text/plain": [
       "   COUNT(DISTINCT Barcode)\n",
       "0                        4"
      ]
     },
     "execution_count": 22,
     "metadata": {},
     "output_type": "execute_result"
    }
   ],
   "source": [
    "%%read_sql\n",
    "\n",
    "SELECT COUNT(DISTINCT Barcode) \n",
    "FROM Products_3NF P\n",
    "JOIN Locations_3NF L ON P.LocationID=L.LocationID \n",
    "WHERE StockCountry = 'United Kingdom'"
   ]
  },
  {
   "cell_type": "markdown",
   "metadata": {
    "id": "8AS0LCOaGE04"
   },
   "source": [
    "Q11) What is the name and colour of the following item (Barcode TAL00035388021)?"
   ]
  },
  {
   "cell_type": "code",
   "execution_count": 23,
   "metadata": {
    "id": "9UdfWoubGE04"
   },
   "outputs": [
    {
     "name": "stdout",
     "output_type": "stream",
     "text": [
      "Query started at 11:50:46 AM SAST; Query executed in 0.00 m"
     ]
    },
    {
     "data": {
      "text/html": [
       "<div>\n",
       "<style scoped>\n",
       "    .dataframe tbody tr th:only-of-type {\n",
       "        vertical-align: middle;\n",
       "    }\n",
       "\n",
       "    .dataframe tbody tr th {\n",
       "        vertical-align: top;\n",
       "    }\n",
       "\n",
       "    .dataframe thead th {\n",
       "        text-align: right;\n",
       "    }\n",
       "</style>\n",
       "<table border=\"1\" class=\"dataframe\">\n",
       "  <thead>\n",
       "    <tr style=\"text-align: right;\">\n",
       "      <th></th>\n",
       "      <th>Colour</th>\n",
       "      <th>ProductDescription</th>\n",
       "      <th>Barcode</th>\n",
       "    </tr>\n",
       "  </thead>\n",
       "  <tbody>\n",
       "    <tr>\n",
       "      <th>0</th>\n",
       "      <td>Grey</td>\n",
       "      <td>ZEE 3-in-1 Unisex Gaiter</td>\n",
       "      <td>10325354918</td>\n",
       "    </tr>\n",
       "    <tr>\n",
       "      <th>1</th>\n",
       "      <td>Fresco</td>\n",
       "      <td>Estee Lauder Double Wear Stay In Place Makeup</td>\n",
       "      <td>27131187035</td>\n",
       "    </tr>\n",
       "    <tr>\n",
       "      <th>2</th>\n",
       "      <td>Red</td>\n",
       "      <td>Wahl Easy Cut 15 Piece Complete Hair Clipper Kit</td>\n",
       "      <td>43917963358</td>\n",
       "    </tr>\n",
       "    <tr>\n",
       "      <th>3</th>\n",
       "      <td>White</td>\n",
       "      <td>Generic AirPods for Apple (with Charging Case)</td>\n",
       "      <td>190198987563</td>\n",
       "    </tr>\n",
       "    <tr>\n",
       "      <th>4</th>\n",
       "      <td>Black</td>\n",
       "      <td>HP Notebook 255 G7</td>\n",
       "      <td>193808791192</td>\n",
       "    </tr>\n",
       "    <tr>\n",
       "      <th>...</th>\n",
       "      <td>...</td>\n",
       "      <td>...</td>\n",
       "      <td>...</td>\n",
       "    </tr>\n",
       "    <tr>\n",
       "      <th>247</th>\n",
       "      <td>Black</td>\n",
       "      <td>Pulse Oxymeter - Fingertip Oxygen Screening Mo...</td>\n",
       "      <td>PULSEOXYARCH</td>\n",
       "    </tr>\n",
       "    <tr>\n",
       "      <th>248</th>\n",
       "      <td>Black</td>\n",
       "      <td>Sponduct Face Mask - 360 Filter Reusable Washa...</td>\n",
       "      <td>SPONDUCT360SINGLE</td>\n",
       "    </tr>\n",
       "    <tr>\n",
       "      <th>249</th>\n",
       "      <td>Black</td>\n",
       "      <td>Essence Long Lasting Eye Pencil - 01 Black</td>\n",
       "      <td>TAL00035386983</td>\n",
       "    </tr>\n",
       "    <tr>\n",
       "      <th>250</th>\n",
       "      <td>Blue</td>\n",
       "      <td>Angelcare - Nappy Bin Refill - 3 Pack</td>\n",
       "      <td>TAL00035388021</td>\n",
       "    </tr>\n",
       "    <tr>\n",
       "      <th>251</th>\n",
       "      <td>White</td>\n",
       "      <td>Pampers Complete Clean Baby Wipes - 6 x 64 - 3...</td>\n",
       "      <td>TAL00035388407</td>\n",
       "    </tr>\n",
       "  </tbody>\n",
       "</table>\n",
       "<p>252 rows × 3 columns</p>\n",
       "</div>"
      ],
      "text/plain": [
       "     Colour                                 ProductDescription  \\\n",
       "0      Grey                           ZEE 3-in-1 Unisex Gaiter   \n",
       "1    Fresco      Estee Lauder Double Wear Stay In Place Makeup   \n",
       "2       Red   Wahl Easy Cut 15 Piece Complete Hair Clipper Kit   \n",
       "3     White     Generic AirPods for Apple (with Charging Case)   \n",
       "4     Black                                 HP Notebook 255 G7   \n",
       "..      ...                                                ...   \n",
       "247   Black  Pulse Oxymeter - Fingertip Oxygen Screening Mo...   \n",
       "248   Black  Sponduct Face Mask - 360 Filter Reusable Washa...   \n",
       "249   Black         Essence Long Lasting Eye Pencil - 01 Black   \n",
       "250    Blue              Angelcare - Nappy Bin Refill - 3 Pack   \n",
       "251   White  Pampers Complete Clean Baby Wipes - 6 x 64 - 3...   \n",
       "\n",
       "               Barcode  \n",
       "0          10325354918  \n",
       "1          27131187035  \n",
       "2          43917963358  \n",
       "3         190198987563  \n",
       "4         193808791192  \n",
       "..                 ...  \n",
       "247       PULSEOXYARCH  \n",
       "248  SPONDUCT360SINGLE  \n",
       "249     TAL00035386983  \n",
       "250     TAL00035388021  \n",
       "251     TAL00035388407  \n",
       "\n",
       "[252 rows x 3 columns]"
      ]
     },
     "execution_count": 23,
     "metadata": {},
     "output_type": "execute_result"
    }
   ],
   "source": [
    "%%read_sql\n",
    "-- Write your query here\n",
    "Select distinct c.Colour , p.ProductDescription , p.Barcode\n",
    "From Colours_3NF as c\n",
    "Join Products_3NF as p\n",
    "On c.ColourID = p.ColourID\n",
    "--Where p.Barcode like 'TAL00035388021'"
   ]
  },
  {
   "cell_type": "markdown",
   "metadata": {
    "id": "cfQAeUYhGE04"
   },
   "source": [
    "Q12) How many beer brands exist in the database?"
   ]
  },
  {
   "cell_type": "code",
   "execution_count": 24,
   "metadata": {
    "id": "K9fGfD9mGE04"
   },
   "outputs": [
    {
     "name": "stdout",
     "output_type": "stream",
     "text": [
      "Query started at 11:50:46 AM SAST; Query executed in 0.00 m"
     ]
    },
    {
     "data": {
      "text/html": [
       "<div>\n",
       "<style scoped>\n",
       "    .dataframe tbody tr th:only-of-type {\n",
       "        vertical-align: middle;\n",
       "    }\n",
       "\n",
       "    .dataframe tbody tr th {\n",
       "        vertical-align: top;\n",
       "    }\n",
       "\n",
       "    .dataframe thead th {\n",
       "        text-align: right;\n",
       "    }\n",
       "</style>\n",
       "<table border=\"1\" class=\"dataframe\">\n",
       "  <thead>\n",
       "    <tr style=\"text-align: right;\">\n",
       "      <th></th>\n",
       "      <th>COUNT(DISTINCT BrandID)</th>\n",
       "    </tr>\n",
       "  </thead>\n",
       "  <tbody>\n",
       "    <tr>\n",
       "      <th>0</th>\n",
       "      <td>5</td>\n",
       "    </tr>\n",
       "  </tbody>\n",
       "</table>\n",
       "</div>"
      ],
      "text/plain": [
       "   COUNT(DISTINCT BrandID)\n",
       "0                        5"
      ]
     },
     "execution_count": 24,
     "metadata": {},
     "output_type": "execute_result"
    }
   ],
   "source": [
    "%%read_sql\n",
    "-- Write your query here:\n",
    "SELECT COUNT(DISTINCT BrandID) \n",
    "FROM Products_3NF WHERE \n",
    "ProductDescription like '%Beer%'\n"
   ]
  },
  {
   "cell_type": "markdown",
   "metadata": {
    "id": "DGhN2UuaGE04"
   },
   "source": [
    "Q13) Which product contains the most package contents and belongs to more than 2 navigation paths?"
   ]
  },
  {
   "cell_type": "code",
   "execution_count": 25,
   "metadata": {
    "id": "t5w4A2l1GE04"
   },
   "outputs": [
    {
     "name": "stdout",
     "output_type": "stream",
     "text": [
      "Query started at 11:50:46 AM SAST; Query executed in 0.00 m"
     ]
    },
    {
     "data": {
      "text/html": [
       "<div>\n",
       "<style scoped>\n",
       "    .dataframe tbody tr th:only-of-type {\n",
       "        vertical-align: middle;\n",
       "    }\n",
       "\n",
       "    .dataframe tbody tr th {\n",
       "        vertical-align: top;\n",
       "    }\n",
       "\n",
       "    .dataframe thead th {\n",
       "        text-align: right;\n",
       "    }\n",
       "</style>\n",
       "<table border=\"1\" class=\"dataframe\">\n",
       "  <thead>\n",
       "    <tr style=\"text-align: right;\">\n",
       "      <th></th>\n",
       "      <th>Barcode</th>\n",
       "      <th>ProductDescription</th>\n",
       "      <th>NumberofContents</th>\n",
       "      <th>PathID</th>\n",
       "    </tr>\n",
       "  </thead>\n",
       "  <tbody>\n",
       "    <tr>\n",
       "      <th>0</th>\n",
       "      <td>6003000542475</td>\n",
       "      <td>Art Set - 66 Piece</td>\n",
       "      <td>11</td>\n",
       "      <td>176</td>\n",
       "    </tr>\n",
       "    <tr>\n",
       "      <th>1</th>\n",
       "      <td>6003000542475</td>\n",
       "      <td>Art Set - 66 Piece</td>\n",
       "      <td>11</td>\n",
       "      <td>178</td>\n",
       "    </tr>\n",
       "    <tr>\n",
       "      <th>2</th>\n",
       "      <td>6003000542475</td>\n",
       "      <td>Art Set - 66 Piece</td>\n",
       "      <td>11</td>\n",
       "      <td>179</td>\n",
       "    </tr>\n",
       "    <tr>\n",
       "      <th>3</th>\n",
       "      <td>6003000542475</td>\n",
       "      <td>Art Set - 66 Piece</td>\n",
       "      <td>11</td>\n",
       "      <td>180</td>\n",
       "    </tr>\n",
       "    <tr>\n",
       "      <th>4</th>\n",
       "      <td>MPTAL00115390</td>\n",
       "      <td>Chukbok 15 Piece Heavy Bottom Stainless Steel ...</td>\n",
       "      <td>11</td>\n",
       "      <td>332</td>\n",
       "    </tr>\n",
       "    <tr>\n",
       "      <th>5</th>\n",
       "      <td>MPTAL00115390</td>\n",
       "      <td>Chukbok 15 Piece Heavy Bottom Stainless Steel ...</td>\n",
       "      <td>11</td>\n",
       "      <td>333</td>\n",
       "    </tr>\n",
       "    <tr>\n",
       "      <th>6</th>\n",
       "      <td>6002674006115</td>\n",
       "      <td>Mellerware - Biltong King Food Dehydrator</td>\n",
       "      <td>10</td>\n",
       "      <td>175</td>\n",
       "    </tr>\n",
       "    <tr>\n",
       "      <th>7</th>\n",
       "      <td>6003000640348</td>\n",
       "      <td>Nutribullet - Blender Original 600W - 8 Piece</td>\n",
       "      <td>8</td>\n",
       "      <td>181</td>\n",
       "    </tr>\n",
       "    <tr>\n",
       "      <th>8</th>\n",
       "      <td>6003000640348</td>\n",
       "      <td>Nutribullet - Blender Original 600W - 8 Piece</td>\n",
       "      <td>8</td>\n",
       "      <td>182</td>\n",
       "    </tr>\n",
       "    <tr>\n",
       "      <th>9</th>\n",
       "      <td>6009706869533</td>\n",
       "      <td>Bennett Read Aerovac Vacuum Cleaner 2,0</td>\n",
       "      <td>8</td>\n",
       "      <td>255</td>\n",
       "    </tr>\n",
       "  </tbody>\n",
       "</table>\n",
       "</div>"
      ],
      "text/plain": [
       "         Barcode                                 ProductDescription  \\\n",
       "0  6003000542475                                 Art Set - 66 Piece   \n",
       "1  6003000542475                                 Art Set - 66 Piece   \n",
       "2  6003000542475                                 Art Set - 66 Piece   \n",
       "3  6003000542475                                 Art Set - 66 Piece   \n",
       "4  MPTAL00115390  Chukbok 15 Piece Heavy Bottom Stainless Steel ...   \n",
       "5  MPTAL00115390  Chukbok 15 Piece Heavy Bottom Stainless Steel ...   \n",
       "6  6002674006115          Mellerware - Biltong King Food Dehydrator   \n",
       "7  6003000640348      Nutribullet - Blender Original 600W - 8 Piece   \n",
       "8  6003000640348      Nutribullet - Blender Original 600W - 8 Piece   \n",
       "9  6009706869533            Bennett Read Aerovac Vacuum Cleaner 2,0   \n",
       "\n",
       "   NumberofContents  PathID  \n",
       "0                11     176  \n",
       "1                11     178  \n",
       "2                11     179  \n",
       "3                11     180  \n",
       "4                11     332  \n",
       "5                11     333  \n",
       "6                10     175  \n",
       "7                 8     181  \n",
       "8                 8     182  \n",
       "9                 8     255  "
      ]
     },
     "execution_count": 25,
     "metadata": {},
     "output_type": "execute_result"
    }
   ],
   "source": [
    "%%read_sql\n",
    "\n",
    "-- Write your query here\n",
    "SELECT DISTINCT Barcode, ProductDescription, COUNT(ItemID) AS NumberofContents, PathID\n",
    "FROM Products_3NF\n",
    "GROUP BY Barcode, PathID\n",
    "ORDER BY NumberofContents DESC\n",
    "LIMIT 10"
   ]
  },
  {
   "cell_type": "markdown",
   "metadata": {
    "id": "TINkZg-7GE05"
   },
   "source": [
    "Q14) Which user bought the product: \"Canon PG-445 & CL-446 Ink Cartridges Multipack\" in the month of May 2020 and what is their warranty type?"
   ]
  },
  {
   "cell_type": "code",
   "execution_count": 26,
   "metadata": {
    "id": "82Bmwr7bGE05",
    "scrolled": true
   },
   "outputs": [
    {
     "name": "stdout",
     "output_type": "stream",
     "text": [
      "Query started at 11:50:46 AM SAST; Query executed in 0.00 m"
     ]
    },
    {
     "data": {
      "text/html": [
       "<div>\n",
       "<style scoped>\n",
       "    .dataframe tbody tr th:only-of-type {\n",
       "        vertical-align: middle;\n",
       "    }\n",
       "\n",
       "    .dataframe tbody tr th {\n",
       "        vertical-align: top;\n",
       "    }\n",
       "\n",
       "    .dataframe thead th {\n",
       "        text-align: right;\n",
       "    }\n",
       "</style>\n",
       "<table border=\"1\" class=\"dataframe\">\n",
       "  <thead>\n",
       "    <tr style=\"text-align: right;\">\n",
       "      <th></th>\n",
       "      <th>UserName</th>\n",
       "      <th>ProductDescription</th>\n",
       "      <th>Warranty</th>\n",
       "    </tr>\n",
       "  </thead>\n",
       "  <tbody>\n",
       "    <tr>\n",
       "      <th>0</th>\n",
       "      <td>Melokuhle</td>\n",
       "      <td>Canon PG-445 &amp; CL-446 Ink Cartridges Multipack</td>\n",
       "      <td>Non-Returnable (12 months)</td>\n",
       "    </tr>\n",
       "  </tbody>\n",
       "</table>\n",
       "</div>"
      ],
      "text/plain": [
       "    UserName                              ProductDescription  \\\n",
       "0  Melokuhle  Canon PG-445 & CL-446 Ink Cartridges Multipack   \n",
       "\n",
       "                     Warranty  \n",
       "0  Non-Returnable (12 months)  "
      ]
     },
     "execution_count": 26,
     "metadata": {},
     "output_type": "execute_result"
    }
   ],
   "source": [
    "%%read_sql\n",
    "-- Write your query here:\n",
    "SELECT U.UserName, P.ProductDescription, PC.Warranty\n",
    "FROM Products_3NF P\n",
    "JOIN PackageContents_3NF PC ON P.ItemID = PC.ItemID\n",
    "JOIN Transactions_3NF T ON T.Barcode = P.Barcode\n",
    "JOIN Users_3NF U ON U.UserId = T.UserID\n",
    "WHERE ProductDescription=\"Canon PG-445 & CL-446 Ink Cartridges Multipack\"\n",
    "AND InvoiceDate LIKE \"2020-05%\""
   ]
  },
  {
   "cell_type": "markdown",
   "metadata": {},
   "source": [
    "Q15) Which user(s) bought silver coloured products from the Russell Hobbs brand?"
   ]
  },
  {
   "cell_type": "code",
   "execution_count": 27,
   "metadata": {},
   "outputs": [
    {
     "name": "stdout",
     "output_type": "stream",
     "text": [
      "Query started at 11:50:47 AM SAST; Query executed in 0.00 m"
     ]
    },
    {
     "data": {
      "text/html": [
       "<div>\n",
       "<style scoped>\n",
       "    .dataframe tbody tr th:only-of-type {\n",
       "        vertical-align: middle;\n",
       "    }\n",
       "\n",
       "    .dataframe tbody tr th {\n",
       "        vertical-align: top;\n",
       "    }\n",
       "\n",
       "    .dataframe thead th {\n",
       "        text-align: right;\n",
       "    }\n",
       "</style>\n",
       "<table border=\"1\" class=\"dataframe\">\n",
       "  <thead>\n",
       "    <tr style=\"text-align: right;\">\n",
       "      <th></th>\n",
       "      <th>Colour</th>\n",
       "      <th>UserName</th>\n",
       "      <th>Brand</th>\n",
       "    </tr>\n",
       "  </thead>\n",
       "  <tbody>\n",
       "    <tr>\n",
       "      <th>0</th>\n",
       "      <td>Silver</td>\n",
       "      <td>Karyn</td>\n",
       "      <td>Russell Hobbs</td>\n",
       "    </tr>\n",
       "    <tr>\n",
       "      <th>1</th>\n",
       "      <td>Silver</td>\n",
       "      <td>Clodeane</td>\n",
       "      <td>Russell Hobbs</td>\n",
       "    </tr>\n",
       "  </tbody>\n",
       "</table>\n",
       "</div>"
      ],
      "text/plain": [
       "   Colour  UserName          Brand\n",
       "0  Silver     Karyn  Russell Hobbs\n",
       "1  Silver  Clodeane  Russell Hobbs"
      ]
     },
     "execution_count": 27,
     "metadata": {},
     "output_type": "execute_result"
    }
   ],
   "source": [
    "%%read_sql\n",
    "SELECT DISTINCT\n",
    "    CLR.Colour,\n",
    "    USR_TRN.UserName,\n",
    "    BRD.Brand\n",
    "FROM Products_3NF PRD\n",
    "JOIN Colours_3NF CLR ON CLR.ColourID = PRD.ColourID\n",
    "JOIN Brands_3NF BRD ON BRD.BrandID = PRD.BrandID\n",
    "JOIN (SELECT \n",
    "        USR.UserName,\n",
    "        USR.UserId,\n",
    "        TRN.Barcode\n",
    "      FROM Transactions_3NF TRN\n",
    "      JOIN Users_3NF USR ON TRN.UserId = USR.UserId\n",
    "    ) USR_TRN ON USR_TRN.Barcode = PRD.Barcode\n",
    "\n",
    "WHERE CLR.Colour='Silver' \n",
    "   AND BRD.Brand = 'Russell Hobbs'\n"
   ]
  },
  {
   "cell_type": "code",
   "execution_count": null,
   "metadata": {},
   "outputs": [],
   "source": []
  }
 ],
 "metadata": {
  "colab": {
   "collapsed_sections": [],
   "name": "SQL_Predict_Student_Notebook.ipynb",
   "provenance": []
  },
  "kernelspec": {
   "display_name": "Python 3",
   "language": "python",
   "name": "python3"
  },
  "language_info": {
   "codemirror_mode": {
    "name": "ipython",
    "version": 3
   },
   "file_extension": ".py",
   "mimetype": "text/x-python",
   "name": "python",
   "nbconvert_exporter": "python",
   "pygments_lexer": "ipython3",
   "version": "3.7.9"
  }
 },
 "nbformat": 4,
 "nbformat_minor": 4
}
