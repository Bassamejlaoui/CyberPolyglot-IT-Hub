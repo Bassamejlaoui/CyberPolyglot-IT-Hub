{
 "cells": [
  {
   "cell_type": "markdown",
   "metadata": {
    "colab_type": "text",
    "id": "sAS5Qr0JTB5H"
   },
   "source": [
    "# Sendy Logistics Challenge: \n"
   ]
  },
  {
   "cell_type": "markdown",
   "metadata": {},
   "source": [
    "# Challenge Description<br>\n",
    "\n",
    "Sendy is hosting a Zindi challenge in partnership with insight2impact facility to predict the estimated delivery time of orders, from the driver pickup point to the point of arrival at the final destination.\n",
    "\n",
    "\n",
    "The solution will help Sendy improve the communication with customers and improve the reliability of its service, which will ultimately improve the customer experience. Moreover, the solution would allow Sendy to realize cost savings and eventually reduce business costs by enhancing resource management and order scheduling planning."
   ]
  },
  {
   "cell_type": "markdown",
   "metadata": {},
   "source": [
    "# Notebook Outline\n",
    "\n",
    "  1. Package Installation\n",
    "  2. Importing Libraries\n",
    "  3. Importing Data\n",
    "  4. Data Cleaning and Formating\n",
    "  5. Exploratory Data Analysis\n",
    "  6. Feature Engineering and Selection\n",
    "  7. Model Selection & Parameter Tuning\n",
    "  8. Model Evaluation\n",
    "  9. Submission \n",
    "  10. References"
   ]
  },
  {
   "cell_type": "markdown",
   "metadata": {},
   "source": [
    "## 1. Package Installation"
   ]
  },
  {
   "cell_type": "code",
   "execution_count": 1,
   "metadata": {
    "colab": {
     "base_uri": "https://localhost:8080/",
     "height": 462
    },
    "colab_type": "code",
    "id": "PWSbErcPTs8L",
    "outputId": "62288df1-598e-4d62-f67c-fea8a03fbae7"
   },
   "outputs": [
    {
     "name": "stdout",
     "output_type": "stream",
     "text": [
      "Requirement already satisfied: catboost in c:\\users\\damian\\anaconda3\\lib\\site-packages (0.23)\n",
      "Requirement already satisfied: numpy>=1.16.0 in c:\\users\\damian\\anaconda3\\lib\\site-packages (from catboost) (1.19.0)\n",
      "Requirement already satisfied: six in c:\\users\\damian\\anaconda3\\lib\\site-packages (from catboost) (1.15.0)\n",
      "Requirement already satisfied: plotly in c:\\users\\damian\\anaconda3\\lib\\site-packages (from catboost) (4.8.1)\n",
      "Requirement already satisfied: scipy in c:\\users\\damian\\anaconda3\\lib\\site-packages (from catboost) (1.5.0)\n",
      "Requirement already satisfied: graphviz in c:\\users\\damian\\anaconda3\\lib\\site-packages (from catboost) (0.11)\n",
      "Requirement already satisfied: matplotlib in c:\\users\\damian\\anaconda3\\lib\\site-packages (from catboost) (3.2.2)\n",
      "Requirement already satisfied: pandas>=0.24.0 in c:\\users\\damian\\anaconda3\\lib\\site-packages (from catboost) (1.0.5)\n",
      "Requirement already satisfied: retrying>=1.3.3 in c:\\users\\damian\\anaconda3\\lib\\site-packages (from plotly->catboost) (1.3.3)\n",
      "Requirement already satisfied: kiwisolver>=1.0.1 in c:\\users\\damian\\anaconda3\\lib\\site-packages (from matplotlib->catboost) (1.2.0)\n",
      "Requirement already satisfied: pyparsing!=2.0.4,!=2.1.2,!=2.1.6,>=2.0.1 in c:\\users\\damian\\anaconda3\\lib\\site-packages (from matplotlib->catboost) (2.4.7)\n",
      "Requirement already satisfied: python-dateutil>=2.1 in c:\\users\\damian\\anaconda3\\lib\\site-packages (from matplotlib->catboost) (2.8.1)\n",
      "Requirement already satisfied: cycler>=0.10 in c:\\users\\damian\\anaconda3\\lib\\site-packages (from matplotlib->catboost) (0.10.0)\n",
      "Requirement already satisfied: pytz>=2017.2 in c:\\users\\damian\\anaconda3\\lib\\site-packages (from pandas>=0.24.0->catboost) (2019.3)\n",
      "Requirement already satisfied: category_encoders in c:\\users\\damian\\anaconda3\\lib\\site-packages (2.2.2)\n",
      "Requirement already satisfied: scikit-learn>=0.20.0 in c:\\users\\damian\\anaconda3\\lib\\site-packages (from category_encoders) (0.23.1)\n",
      "Requirement already satisfied: numpy>=1.14.0 in c:\\users\\damian\\anaconda3\\lib\\site-packages (from category_encoders) (1.19.0)\n",
      "Requirement already satisfied: pandas>=0.21.1 in c:\\users\\damian\\anaconda3\\lib\\site-packages (from category_encoders) (1.0.5)\n",
      "Requirement already satisfied: scipy>=1.0.0 in c:\\users\\damian\\anaconda3\\lib\\site-packages (from category_encoders) (1.5.0)\n",
      "Requirement already satisfied: patsy>=0.5.1 in c:\\users\\damian\\anaconda3\\lib\\site-packages (from category_encoders) (0.5.1)\n",
      "Requirement already satisfied: statsmodels>=0.9.0 in c:\\users\\damian\\anaconda3\\lib\\site-packages (from category_encoders) (0.11.1)\n",
      "Requirement already satisfied: joblib>=0.11 in c:\\users\\damian\\anaconda3\\lib\\site-packages (from scikit-learn>=0.20.0->category_encoders) (0.15.1)\n",
      "Requirement already satisfied: threadpoolctl>=2.0.0 in c:\\users\\damian\\anaconda3\\lib\\site-packages (from scikit-learn>=0.20.0->category_encoders) (2.1.0)\n",
      "Requirement already satisfied: pytz>=2017.2 in c:\\users\\damian\\anaconda3\\lib\\site-packages (from pandas>=0.21.1->category_encoders) (2019.3)\n",
      "Requirement already satisfied: python-dateutil>=2.6.1 in c:\\users\\damian\\anaconda3\\lib\\site-packages (from pandas>=0.21.1->category_encoders) (2.8.1)\n",
      "Requirement already satisfied: six in c:\\users\\damian\\anaconda3\\lib\\site-packages (from patsy>=0.5.1->category_encoders) (1.15.0)\n"
     ]
    }
   ],
   "source": [
    "!pip install catboost\n",
    "!pip install category_encoders"
   ]
  },
  {
   "cell_type": "markdown",
   "metadata": {
    "colab_type": "text",
    "id": "38jjf2vLTB5M"
   },
   "source": [
    "## 2. Importing Libraries"
   ]
  },
  {
   "cell_type": "code",
   "execution_count": 4,
   "metadata": {},
   "outputs": [
    {
     "name": "stdout",
     "output_type": "stream",
     "text": [
      "Requirement already satisfied: plotly_express==0.4.0 in c:\\users\\damian\\anaconda3\\lib\\site-packages (0.4.0)\n",
      "Requirement already satisfied: patsy>=0.5 in c:\\users\\damian\\anaconda3\\lib\\site-packages (from plotly_express==0.4.0) (0.5.1)\n",
      "Requirement already satisfied: plotly>=4.0.0 in c:\\users\\damian\\anaconda3\\lib\\site-packages (from plotly_express==0.4.0) (4.8.1)\n",
      "Requirement already satisfied: numpy>=1.11 in c:\\users\\damian\\anaconda3\\lib\\site-packages (from plotly_express==0.4.0) (1.19.0)\n",
      "Requirement already satisfied: statsmodels>=0.9.0 in c:\\users\\damian\\anaconda3\\lib\\site-packages (from plotly_express==0.4.0) (0.11.1)\n",
      "Requirement already satisfied: pandas>=0.20.0 in c:\\users\\damian\\anaconda3\\lib\\site-packages (from plotly_express==0.4.0) (1.0.5)\n",
      "Requirement already satisfied: scipy>=0.18 in c:\\users\\damian\\anaconda3\\lib\\site-packages (from plotly_express==0.4.0) (1.5.0)\n",
      "Requirement already satisfied: six in c:\\users\\damian\\anaconda3\\lib\\site-packages (from patsy>=0.5->plotly_express==0.4.0) (1.15.0)\n",
      "Requirement already satisfied: retrying>=1.3.3 in c:\\users\\damian\\anaconda3\\lib\\site-packages (from plotly>=4.0.0->plotly_express==0.4.0) (1.3.3)\n",
      "Requirement already satisfied: python-dateutil>=2.6.1 in c:\\users\\damian\\anaconda3\\lib\\site-packages (from pandas>=0.20.0->plotly_express==0.4.0) (2.8.1)\n",
      "Requirement already satisfied: pytz>=2017.2 in c:\\users\\damian\\anaconda3\\lib\\site-packages (from pandas>=0.20.0->plotly_express==0.4.0) (2019.3)\n",
      "Requirement already satisfied: plotly in c:\\users\\damian\\anaconda3\\lib\\site-packages (4.8.1)\n",
      "Requirement already satisfied: retrying>=1.3.3 in c:\\users\\damian\\anaconda3\\lib\\site-packages (from plotly) (1.3.3)\n",
      "Requirement already satisfied: six in c:\\users\\damian\\anaconda3\\lib\\site-packages (from plotly) (1.15.0)\n"
     ]
    }
   ],
   "source": [
    "!pip install plotly_express==0.4.0\n",
    "!pip install plotly"
   ]
  },
  {
   "cell_type": "code",
   "execution_count": 2,
   "metadata": {
    "colab": {},
    "colab_type": "code",
    "id": "SUdDox2cTB5P"
   },
   "outputs": [],
   "source": [
    "import numpy as np # linear algebra\n",
    "import pandas as pd # data processing, CSV file I/O (e.g. pd.read_csv)\n",
    "\n",
    "# Visualisation\n",
    "import matplotlib.pyplot as plt\n",
    "%matplotlib inline\n",
    "import seaborn as sns\n",
    "color = sns.color_palette()\n",
    "sns.set_style('darkgrid')\n",
    "\n",
    "#for some statistics & math\n",
    "import math\n",
    "from scipy import stats\n",
    "from scipy.stats import norm, skew \n",
    "\n",
    "#To deal with warnings\n",
    "import warnings\n",
    "warnings.filterwarnings(\"ignore\")\n",
    "\n",
    "# Modelling\n",
    "import category_encoders as ce\n",
    "from sklearn.decomposition import PCA\n",
    "from geopy.distance import vincenty\n",
    "\n",
    "from sklearn.feature_selection import VarianceThreshold\n",
    "from sklearn.preprocessing import MinMaxScaler, RobustScaler # For normalization\n",
    "from sklearn.model_selection import KFold, cross_val_score, GridSearchCV\n",
    "from sklearn.cluster import MiniBatchKMeans\n",
    "\n",
    "\n",
    "#from sklearn.kernel_ridge import KernelRidge\n",
    "from sklearn.pipeline import make_pipeline\n",
    "from sklearn.base import BaseEstimator, TransformerMixin, RegressorMixin, clone\n",
    "\n",
    "from sklearn.linear_model import LinearRegression\n",
    "from sklearn.ensemble import RandomForestRegressor,  GradientBoostingRegressor\n",
    "from catboost import CatBoostRegressor\n",
    "from sklearn.ensemble import AdaBoostRegressor\n",
    "from sklearn.tree import DecisionTreeRegressor\n",
    "from sklearn.neighbors import KNeighborsRegressor\n",
    "from sklearn.svm import SVR\n",
    "from sklearn.ensemble import BaggingRegressor\n",
    "import xgboost as xgb\n",
    "import lightgbm as lgb\n",
    "\n",
    "from sklearn.metrics import mean_squared_error as MSE\n",
    "rs = 50"
   ]
  },
  {
   "cell_type": "markdown",
   "metadata": {
    "colab_type": "text",
    "id": "KI7yeYBNTB5c"
   },
   "source": [
    "## 3. Importing Data"
   ]
  },
  {
   "cell_type": "code",
   "execution_count": 3,
   "metadata": {
    "colab": {},
    "colab_type": "code",
    "id": "PObq5SJyTB5d"
   },
   "outputs": [],
   "source": [
    "#Now let's import datasets\n",
    "train = pd.read_csv(\"Train.csv\")\n",
    "test = pd.read_csv(\"Test.csv\")\n",
    "riders = pd.read_csv(\"Riders.csv\")\n",
    "dictionary = pd.read_csv('VariableDefinitions.csv')"
   ]
  },
  {
   "cell_type": "code",
   "execution_count": 4,
   "metadata": {
    "colab": {
     "base_uri": "https://localhost:8080/",
     "height": 905
    },
    "colab_type": "code",
    "id": "EEtPkBDRTB5m",
    "outputId": "91a40136-5319-4f5f-fc8e-ccdc7fea7be9"
   },
   "outputs": [
    {
     "data": {
      "text/html": [
       "<div>\n",
       "<style scoped>\n",
       "    .dataframe tbody tr th:only-of-type {\n",
       "        vertical-align: middle;\n",
       "    }\n",
       "\n",
       "    .dataframe tbody tr th {\n",
       "        vertical-align: top;\n",
       "    }\n",
       "\n",
       "    .dataframe thead th {\n",
       "        text-align: right;\n",
       "    }\n",
       "</style>\n",
       "<table border=\"1\" class=\"dataframe\">\n",
       "  <thead>\n",
       "    <tr style=\"text-align: right;\">\n",
       "      <th></th>\n",
       "      <th>Order No</th>\n",
       "      <th>User Id</th>\n",
       "      <th>Vehicle Type</th>\n",
       "      <th>Platform Type</th>\n",
       "      <th>Personal or Business</th>\n",
       "      <th>Placement - Day of Month</th>\n",
       "      <th>Placement - Weekday (Mo = 1)</th>\n",
       "      <th>Placement - Time</th>\n",
       "      <th>Confirmation - Day of Month</th>\n",
       "      <th>Confirmation - Weekday (Mo = 1)</th>\n",
       "      <th>...</th>\n",
       "      <th>Arrival at Destination - Time</th>\n",
       "      <th>Distance (KM)</th>\n",
       "      <th>Temperature</th>\n",
       "      <th>Precipitation in millimeters</th>\n",
       "      <th>Pickup Lat</th>\n",
       "      <th>Pickup Long</th>\n",
       "      <th>Destination Lat</th>\n",
       "      <th>Destination Long</th>\n",
       "      <th>Rider Id</th>\n",
       "      <th>Time from Pickup to Arrival</th>\n",
       "    </tr>\n",
       "  </thead>\n",
       "  <tbody>\n",
       "    <tr>\n",
       "      <th>0</th>\n",
       "      <td>Order_No_4211</td>\n",
       "      <td>User_Id_633</td>\n",
       "      <td>Bike</td>\n",
       "      <td>3</td>\n",
       "      <td>Business</td>\n",
       "      <td>9</td>\n",
       "      <td>5</td>\n",
       "      <td>9:35:46 AM</td>\n",
       "      <td>9</td>\n",
       "      <td>5</td>\n",
       "      <td>...</td>\n",
       "      <td>10:39:55 AM</td>\n",
       "      <td>4</td>\n",
       "      <td>20.4</td>\n",
       "      <td>NaN</td>\n",
       "      <td>-1.317755</td>\n",
       "      <td>36.830370</td>\n",
       "      <td>-1.300406</td>\n",
       "      <td>36.829741</td>\n",
       "      <td>Rider_Id_432</td>\n",
       "      <td>745</td>\n",
       "    </tr>\n",
       "    <tr>\n",
       "      <th>1</th>\n",
       "      <td>Order_No_25375</td>\n",
       "      <td>User_Id_2285</td>\n",
       "      <td>Bike</td>\n",
       "      <td>3</td>\n",
       "      <td>Personal</td>\n",
       "      <td>12</td>\n",
       "      <td>5</td>\n",
       "      <td>11:16:16 AM</td>\n",
       "      <td>12</td>\n",
       "      <td>5</td>\n",
       "      <td>...</td>\n",
       "      <td>12:17:22 PM</td>\n",
       "      <td>16</td>\n",
       "      <td>26.4</td>\n",
       "      <td>NaN</td>\n",
       "      <td>-1.351453</td>\n",
       "      <td>36.899315</td>\n",
       "      <td>-1.295004</td>\n",
       "      <td>36.814358</td>\n",
       "      <td>Rider_Id_856</td>\n",
       "      <td>1993</td>\n",
       "    </tr>\n",
       "    <tr>\n",
       "      <th>2</th>\n",
       "      <td>Order_No_1899</td>\n",
       "      <td>User_Id_265</td>\n",
       "      <td>Bike</td>\n",
       "      <td>3</td>\n",
       "      <td>Business</td>\n",
       "      <td>30</td>\n",
       "      <td>2</td>\n",
       "      <td>12:39:25 PM</td>\n",
       "      <td>30</td>\n",
       "      <td>2</td>\n",
       "      <td>...</td>\n",
       "      <td>1:00:38 PM</td>\n",
       "      <td>3</td>\n",
       "      <td>NaN</td>\n",
       "      <td>NaN</td>\n",
       "      <td>-1.308284</td>\n",
       "      <td>36.843419</td>\n",
       "      <td>-1.300921</td>\n",
       "      <td>36.828195</td>\n",
       "      <td>Rider_Id_155</td>\n",
       "      <td>455</td>\n",
       "    </tr>\n",
       "  </tbody>\n",
       "</table>\n",
       "<p>3 rows × 29 columns</p>\n",
       "</div>"
      ],
      "text/plain": [
       "         Order No       User Id Vehicle Type  Platform Type  \\\n",
       "0   Order_No_4211   User_Id_633         Bike              3   \n",
       "1  Order_No_25375  User_Id_2285         Bike              3   \n",
       "2   Order_No_1899   User_Id_265         Bike              3   \n",
       "\n",
       "  Personal or Business  Placement - Day of Month  \\\n",
       "0             Business                         9   \n",
       "1             Personal                        12   \n",
       "2             Business                        30   \n",
       "\n",
       "   Placement - Weekday (Mo = 1) Placement - Time  Confirmation - Day of Month  \\\n",
       "0                             5       9:35:46 AM                            9   \n",
       "1                             5      11:16:16 AM                           12   \n",
       "2                             2      12:39:25 PM                           30   \n",
       "\n",
       "   Confirmation - Weekday (Mo = 1)  ... Arrival at Destination - Time  \\\n",
       "0                                5  ...                   10:39:55 AM   \n",
       "1                                5  ...                   12:17:22 PM   \n",
       "2                                2  ...                    1:00:38 PM   \n",
       "\n",
       "   Distance (KM)  Temperature Precipitation in millimeters  Pickup Lat  \\\n",
       "0              4         20.4                          NaN   -1.317755   \n",
       "1             16         26.4                          NaN   -1.351453   \n",
       "2              3          NaN                          NaN   -1.308284   \n",
       "\n",
       "   Pickup Long Destination Lat  Destination Long      Rider Id  \\\n",
       "0    36.830370       -1.300406         36.829741  Rider_Id_432   \n",
       "1    36.899315       -1.295004         36.814358  Rider_Id_856   \n",
       "2    36.843419       -1.300921         36.828195  Rider_Id_155   \n",
       "\n",
       "  Time from Pickup to Arrival  \n",
       "0                         745  \n",
       "1                        1993  \n",
       "2                         455  \n",
       "\n",
       "[3 rows x 29 columns]"
      ]
     },
     "metadata": {},
     "output_type": "display_data"
    },
    {
     "data": {
      "text/html": [
       "<div>\n",
       "<style scoped>\n",
       "    .dataframe tbody tr th:only-of-type {\n",
       "        vertical-align: middle;\n",
       "    }\n",
       "\n",
       "    .dataframe tbody tr th {\n",
       "        vertical-align: top;\n",
       "    }\n",
       "\n",
       "    .dataframe thead th {\n",
       "        text-align: right;\n",
       "    }\n",
       "</style>\n",
       "<table border=\"1\" class=\"dataframe\">\n",
       "  <thead>\n",
       "    <tr style=\"text-align: right;\">\n",
       "      <th></th>\n",
       "      <th>Order No</th>\n",
       "      <th>User Id</th>\n",
       "      <th>Vehicle Type</th>\n",
       "      <th>Platform Type</th>\n",
       "      <th>Personal or Business</th>\n",
       "      <th>Placement - Day of Month</th>\n",
       "      <th>Placement - Weekday (Mo = 1)</th>\n",
       "      <th>Placement - Time</th>\n",
       "      <th>Confirmation - Day of Month</th>\n",
       "      <th>Confirmation - Weekday (Mo = 1)</th>\n",
       "      <th>...</th>\n",
       "      <th>Pickup - Weekday (Mo = 1)</th>\n",
       "      <th>Pickup - Time</th>\n",
       "      <th>Distance (KM)</th>\n",
       "      <th>Temperature</th>\n",
       "      <th>Precipitation in millimeters</th>\n",
       "      <th>Pickup Lat</th>\n",
       "      <th>Pickup Long</th>\n",
       "      <th>Destination Lat</th>\n",
       "      <th>Destination Long</th>\n",
       "      <th>Rider Id</th>\n",
       "    </tr>\n",
       "  </thead>\n",
       "  <tbody>\n",
       "    <tr>\n",
       "      <th>0</th>\n",
       "      <td>Order_No_19248</td>\n",
       "      <td>User_Id_3355</td>\n",
       "      <td>Bike</td>\n",
       "      <td>3</td>\n",
       "      <td>Business</td>\n",
       "      <td>27</td>\n",
       "      <td>3</td>\n",
       "      <td>4:44:10 PM</td>\n",
       "      <td>27</td>\n",
       "      <td>3</td>\n",
       "      <td>...</td>\n",
       "      <td>3</td>\n",
       "      <td>5:06:47 PM</td>\n",
       "      <td>8</td>\n",
       "      <td>NaN</td>\n",
       "      <td>NaN</td>\n",
       "      <td>-1.333275</td>\n",
       "      <td>36.870815</td>\n",
       "      <td>-1.305249</td>\n",
       "      <td>36.822390</td>\n",
       "      <td>Rider_Id_192</td>\n",
       "    </tr>\n",
       "    <tr>\n",
       "      <th>1</th>\n",
       "      <td>Order_No_12736</td>\n",
       "      <td>User_Id_3647</td>\n",
       "      <td>Bike</td>\n",
       "      <td>3</td>\n",
       "      <td>Business</td>\n",
       "      <td>17</td>\n",
       "      <td>5</td>\n",
       "      <td>12:57:35 PM</td>\n",
       "      <td>17</td>\n",
       "      <td>5</td>\n",
       "      <td>...</td>\n",
       "      <td>5</td>\n",
       "      <td>1:25:37 PM</td>\n",
       "      <td>5</td>\n",
       "      <td>NaN</td>\n",
       "      <td>NaN</td>\n",
       "      <td>-1.272639</td>\n",
       "      <td>36.794723</td>\n",
       "      <td>-1.277007</td>\n",
       "      <td>36.823907</td>\n",
       "      <td>Rider_Id_868</td>\n",
       "    </tr>\n",
       "    <tr>\n",
       "      <th>2</th>\n",
       "      <td>Order_No_768</td>\n",
       "      <td>User_Id_2154</td>\n",
       "      <td>Bike</td>\n",
       "      <td>3</td>\n",
       "      <td>Business</td>\n",
       "      <td>27</td>\n",
       "      <td>4</td>\n",
       "      <td>11:08:14 AM</td>\n",
       "      <td>27</td>\n",
       "      <td>4</td>\n",
       "      <td>...</td>\n",
       "      <td>4</td>\n",
       "      <td>11:57:54 AM</td>\n",
       "      <td>5</td>\n",
       "      <td>22.8</td>\n",
       "      <td>NaN</td>\n",
       "      <td>-1.290894</td>\n",
       "      <td>36.822971</td>\n",
       "      <td>-1.276574</td>\n",
       "      <td>36.851365</td>\n",
       "      <td>Rider_Id_26</td>\n",
       "    </tr>\n",
       "  </tbody>\n",
       "</table>\n",
       "<p>3 rows × 25 columns</p>\n",
       "</div>"
      ],
      "text/plain": [
       "         Order No       User Id Vehicle Type  Platform Type  \\\n",
       "0  Order_No_19248  User_Id_3355         Bike              3   \n",
       "1  Order_No_12736  User_Id_3647         Bike              3   \n",
       "2    Order_No_768  User_Id_2154         Bike              3   \n",
       "\n",
       "  Personal or Business  Placement - Day of Month  \\\n",
       "0             Business                        27   \n",
       "1             Business                        17   \n",
       "2             Business                        27   \n",
       "\n",
       "   Placement - Weekday (Mo = 1) Placement - Time  Confirmation - Day of Month  \\\n",
       "0                             3       4:44:10 PM                           27   \n",
       "1                             5      12:57:35 PM                           17   \n",
       "2                             4      11:08:14 AM                           27   \n",
       "\n",
       "   Confirmation - Weekday (Mo = 1)  ... Pickup - Weekday (Mo = 1)  \\\n",
       "0                                3  ...                         3   \n",
       "1                                5  ...                         5   \n",
       "2                                4  ...                         4   \n",
       "\n",
       "   Pickup - Time  Distance (KM) Temperature  Precipitation in millimeters  \\\n",
       "0     5:06:47 PM              8         NaN                           NaN   \n",
       "1     1:25:37 PM              5         NaN                           NaN   \n",
       "2    11:57:54 AM              5        22.8                           NaN   \n",
       "\n",
       "   Pickup Lat Pickup Long  Destination Lat  Destination Long      Rider Id  \n",
       "0   -1.333275   36.870815        -1.305249         36.822390  Rider_Id_192  \n",
       "1   -1.272639   36.794723        -1.277007         36.823907  Rider_Id_868  \n",
       "2   -1.290894   36.822971        -1.276574         36.851365   Rider_Id_26  \n",
       "\n",
       "[3 rows x 25 columns]"
      ]
     },
     "metadata": {},
     "output_type": "display_data"
    },
    {
     "data": {
      "text/html": [
       "<div>\n",
       "<style scoped>\n",
       "    .dataframe tbody tr th:only-of-type {\n",
       "        vertical-align: middle;\n",
       "    }\n",
       "\n",
       "    .dataframe tbody tr th {\n",
       "        vertical-align: top;\n",
       "    }\n",
       "\n",
       "    .dataframe thead th {\n",
       "        text-align: right;\n",
       "    }\n",
       "</style>\n",
       "<table border=\"1\" class=\"dataframe\">\n",
       "  <thead>\n",
       "    <tr style=\"text-align: right;\">\n",
       "      <th></th>\n",
       "      <th>Rider Id</th>\n",
       "      <th>No_Of_Orders</th>\n",
       "      <th>Age</th>\n",
       "      <th>Average_Rating</th>\n",
       "      <th>No_of_Ratings</th>\n",
       "    </tr>\n",
       "  </thead>\n",
       "  <tbody>\n",
       "    <tr>\n",
       "      <th>0</th>\n",
       "      <td>Rider_Id_396</td>\n",
       "      <td>2946</td>\n",
       "      <td>2298</td>\n",
       "      <td>14.0</td>\n",
       "      <td>1159</td>\n",
       "    </tr>\n",
       "    <tr>\n",
       "      <th>1</th>\n",
       "      <td>Rider_Id_479</td>\n",
       "      <td>360</td>\n",
       "      <td>951</td>\n",
       "      <td>13.5</td>\n",
       "      <td>176</td>\n",
       "    </tr>\n",
       "    <tr>\n",
       "      <th>2</th>\n",
       "      <td>Rider_Id_648</td>\n",
       "      <td>1746</td>\n",
       "      <td>821</td>\n",
       "      <td>14.3</td>\n",
       "      <td>466</td>\n",
       "    </tr>\n",
       "  </tbody>\n",
       "</table>\n",
       "</div>"
      ],
      "text/plain": [
       "       Rider Id  No_Of_Orders   Age  Average_Rating  No_of_Ratings\n",
       "0  Rider_Id_396          2946  2298            14.0           1159\n",
       "1  Rider_Id_479           360   951            13.5            176\n",
       "2  Rider_Id_648          1746   821            14.3            466"
      ]
     },
     "metadata": {},
     "output_type": "display_data"
    },
    {
     "data": {
      "text/html": [
       "<div>\n",
       "<style scoped>\n",
       "    .dataframe tbody tr th:only-of-type {\n",
       "        vertical-align: middle;\n",
       "    }\n",
       "\n",
       "    .dataframe tbody tr th {\n",
       "        vertical-align: top;\n",
       "    }\n",
       "\n",
       "    .dataframe thead th {\n",
       "        text-align: right;\n",
       "    }\n",
       "</style>\n",
       "<table border=\"1\" class=\"dataframe\">\n",
       "  <thead>\n",
       "    <tr style=\"text-align: right;\">\n",
       "      <th></th>\n",
       "      <th>Order No</th>\n",
       "      <th>Unique number identifying the order</th>\n",
       "    </tr>\n",
       "  </thead>\n",
       "  <tbody>\n",
       "    <tr>\n",
       "      <th>0</th>\n",
       "      <td>User Id</td>\n",
       "      <td>Unique number identifying the customer on a pl...</td>\n",
       "    </tr>\n",
       "    <tr>\n",
       "      <th>1</th>\n",
       "      <td>Vehicle Type</td>\n",
       "      <td>For this competition limited to bikes, however...</td>\n",
       "    </tr>\n",
       "    <tr>\n",
       "      <th>2</th>\n",
       "      <td>Platform Type</td>\n",
       "      <td>Platform used to place the order, there are 4 ...</td>\n",
       "    </tr>\n",
       "    <tr>\n",
       "      <th>3</th>\n",
       "      <td>Personal or Business</td>\n",
       "      <td>Customer type</td>\n",
       "    </tr>\n",
       "    <tr>\n",
       "      <th>4</th>\n",
       "      <td>Placement - Day of Month</td>\n",
       "      <td>Placement - Day of Month i.e 1-31</td>\n",
       "    </tr>\n",
       "  </tbody>\n",
       "</table>\n",
       "</div>"
      ],
      "text/plain": [
       "                   Order No                Unique number identifying the order\n",
       "0                   User Id  Unique number identifying the customer on a pl...\n",
       "1              Vehicle Type  For this competition limited to bikes, however...\n",
       "2             Platform Type  Platform used to place the order, there are 4 ...\n",
       "3      Personal or Business                                      Customer type\n",
       "4  Placement - Day of Month                  Placement - Day of Month i.e 1-31"
      ]
     },
     "metadata": {},
     "output_type": "display_data"
    }
   ],
   "source": [
    "# Viewing the datasets\n",
    "display(train.head(3))\n",
    "display(test.head(3))\n",
    "display(riders.head(3))\n",
    "display(dictionary.head())"
   ]
  },
  {
   "cell_type": "markdown",
   "metadata": {
    "colab_type": "text",
    "id": "l8e6TPpDTB5w"
   },
   "source": [
    "## 4. Data Cleaning and Formatting"
   ]
  },
  {
   "cell_type": "markdown",
   "metadata": {
    "colab_type": "text",
    "id": "XjdZ87MWTB5x"
   },
   "source": [
    "### 4.1. Fixing Messy Column names"
   ]
  },
  {
   "cell_type": "code",
   "execution_count": 5,
   "metadata": {
    "colab": {},
    "colab_type": "code",
    "id": "25qF7WtxTB5z"
   },
   "outputs": [],
   "source": [
    "def column_name_fix(input_df):\n",
    "    input_df.columns = input_df.columns.str.lower().str.replace(' ', '_').str.replace('-', '_').str.replace('=', '_')\n",
    "    input_df.columns = input_df.columns.str.replace('__', '_')\n",
    "    input_df.columns = input_df.columns.str.replace('(', '').str.replace(')', '')\n",
    "    input_df.columns = input_df.columns.str.replace('__', '_')\n",
    "    display(input_df.columns)"
   ]
  },
  {
   "cell_type": "code",
   "execution_count": 6,
   "metadata": {
    "colab": {
     "base_uri": "https://localhost:8080/",
     "height": 408
    },
    "colab_type": "code",
    "id": "4006W9UQTB55",
    "outputId": "8c3d9c36-fb32-43cc-e7b3-118f48f468f5"
   },
   "outputs": [
    {
     "data": {
      "text/plain": [
       "Index(['order_no', 'user_id', 'vehicle_type', 'platform_type',\n",
       "       'personal_or_business', 'placement_day_of_month',\n",
       "       'placement_weekday_mo_1', 'placement_time', 'confirmation_day_of_month',\n",
       "       'confirmation_weekday_mo_1', 'confirmation_time',\n",
       "       'arrival_at_pickup_day_of_month', 'arrival_at_pickup_weekday_mo_1',\n",
       "       'arrival_at_pickup_time', 'pickup_day_of_month', 'pickup_weekday_mo_1',\n",
       "       'pickup_time', 'arrival_at_destination_day_of_month',\n",
       "       'arrival_at_destination_weekday_mo_1', 'arrival_at_destination_time',\n",
       "       'distance_km', 'temperature', 'precipitation_in_millimeters',\n",
       "       'pickup_lat', 'pickup_long', 'destination_lat', 'destination_long',\n",
       "       'rider_id', 'time_from_pickup_to_arrival'],\n",
       "      dtype='object')"
      ]
     },
     "metadata": {},
     "output_type": "display_data"
    },
    {
     "data": {
      "text/plain": [
       "Index(['order_no', 'user_id', 'vehicle_type', 'platform_type',\n",
       "       'personal_or_business', 'placement_day_of_month',\n",
       "       'placement_weekday_mo_1', 'placement_time', 'confirmation_day_of_month',\n",
       "       'confirmation_weekday_mo_1', 'confirmation_time',\n",
       "       'arrival_at_pickup_day_of_month', 'arrival_at_pickup_weekday_mo_1',\n",
       "       'arrival_at_pickup_time', 'pickup_day_of_month', 'pickup_weekday_mo_1',\n",
       "       'pickup_time', 'distance_km', 'temperature',\n",
       "       'precipitation_in_millimeters', 'pickup_lat', 'pickup_long',\n",
       "       'destination_lat', 'destination_long', 'rider_id'],\n",
       "      dtype='object')"
      ]
     },
     "metadata": {},
     "output_type": "display_data"
    },
    {
     "data": {
      "text/plain": [
       "Index(['rider_id', 'no_of_orders', 'age', 'average_rating', 'no_of_ratings'], dtype='object')"
      ]
     },
     "metadata": {},
     "output_type": "display_data"
    }
   ],
   "source": [
    "# train dataset\n",
    "column_name_fix(train)\n",
    "\n",
    "#test dataset\n",
    "column_name_fix(test)\n",
    "\n",
    "#riders dataset\n",
    "column_name_fix(riders)"
   ]
  },
  {
   "cell_type": "markdown",
   "metadata": {
    "colab_type": "text",
    "id": "AKmIA5BiTB6A"
   },
   "source": [
    "### 4.2. Addressing Missing Values  & Unique Values"
   ]
  },
  {
   "cell_type": "markdown",
   "metadata": {
    "colab_type": "text",
    "id": "1Z1gzeNLTB6B"
   },
   "source": [
    "A **drop_columns** function will be employed to remove any column from the dataframes which has a percentage of missing values greater than a specified `cutoff threshold value` and `unique value` count less than the specified."
   ]
  },
  {
   "cell_type": "code",
   "execution_count": 7,
   "metadata": {
    "colab": {},
    "colab_type": "code",
    "id": "deDLmhK_TB6D"
   },
   "outputs": [],
   "source": [
    "def drop_columns(input_df, threshold, unique_threshold):\n",
    "    for column in input_df.columns:\n",
    "        if ((input_df[column].isna().mean() * 100) > threshold):\n",
    "            input_df.drop(column, axis = 1, inplace = True)\n",
    "            print(f'The {column} column is dropped')\n",
    "        elif (input_df[column].nunique() < unique_threshold):\n",
    "            input_df.drop(column, axis = 1, inplace = True)\n",
    "            print(f'The {column} column is dropped')"
   ]
  },
  {
   "cell_type": "code",
   "execution_count": 8,
   "metadata": {
    "colab": {
     "base_uri": "https://localhost:8080/",
     "height": 51
    },
    "colab_type": "code",
    "id": "fA48TEZcTB6K",
    "outputId": "5eafe29b-84ca-4a03-f64b-3b37f97f7e03"
   },
   "outputs": [
    {
     "name": "stdout",
     "output_type": "stream",
     "text": [
      "The vehicle_type column is dropped\n",
      "The precipitation_in_millimeters column is dropped\n"
     ]
    }
   ],
   "source": [
    "# A threshold value of 70% is initially used\n",
    "drop_columns(train, 70, 2)"
   ]
  },
  {
   "cell_type": "code",
   "execution_count": 9,
   "metadata": {
    "colab": {
     "base_uri": "https://localhost:8080/",
     "height": 51
    },
    "colab_type": "code",
    "id": "3ZrQy4e8TB6T",
    "outputId": "f740ba5b-95d2-472c-aa69-b90883bdf64a"
   },
   "outputs": [
    {
     "name": "stdout",
     "output_type": "stream",
     "text": [
      "The vehicle_type column is dropped\n",
      "The precipitation_in_millimeters column is dropped\n"
     ]
    }
   ],
   "source": [
    "# Test dataset\n",
    "drop_columns(test, 70, 2)"
   ]
  },
  {
   "cell_type": "code",
   "execution_count": 10,
   "metadata": {
    "colab": {
     "base_uri": "https://localhost:8080/",
     "height": 586
    },
    "colab_type": "code",
    "id": "-jr6DrFLTB6Y",
    "outputId": "ccd66556-5761-4580-8a05-84cfca2be38a"
   },
   "outputs": [
    {
     "data": {
      "text/plain": [
       "Text(0.5, 1.0, 'Test missing values heatmap')"
      ]
     },
     "execution_count": 10,
     "metadata": {},
     "output_type": "execute_result"
    },
    {
     "data": {
      "image/png": "[encoded data removed]",
      "text/plain": [
       "<Figure size 1440x576 with 2 Axes>"
      ]
     },
     "metadata": {},
     "output_type": "display_data"
    }
   ],
   "source": [
    "# Addressing columns that have missing values but their percentage is below the threshold value\n",
    "fig, ax = plt.subplots(1, 2, figsize=(20, 8))\n",
    "sns.heatmap(train.isna(), ax = ax[0], yticklabels=False, cbar=False)\n",
    "sns.heatmap(test.isna(), ax = ax[1], yticklabels=False, cbar=False)\n",
    "ax[0].set_title('Train missing values heatmap')\n",
    "ax[1].set_title('Test missing values heatmap')"
   ]
  },
  {
   "cell_type": "markdown",
   "metadata": {
    "colab_type": "text",
    "id": "l_BzL8CrTB6f"
   },
   "source": [
    "The Temperature column on both datasets has some missing values. Let's look at the distribution of the temperature values in order to gain good insight towards value imputation. It would be pre-mature to simply the mean or the median since we do not know anything about the distribution of the data. The mean is sensitive to outliers whereas the median is not. Let's look at the distribution."
   ]
  },
  {
   "cell_type": "code",
   "execution_count": 11,
   "metadata": {
    "colab": {
     "base_uri": "https://localhost:8080/",
     "height": 437
    },
    "colab_type": "code",
    "id": "T5sAs4pbTB6g",
    "outputId": "6f87d7c6-f3ad-4261-a79d-e4d15228dc25"
   },
   "outputs": [
    {
     "data": {
      "text/plain": [
       "<matplotlib.lines.Line2D at 0x29918043f88>"
      ]
     },
     "execution_count": 11,
     "metadata": {},
     "output_type": "execute_result"
    },
    {
     "data": {
      "image/png": "[encoded data removed]",
      "text/plain": [
       "<Figure size 1440x576 with 2 Axes>"
      ]
     },
     "metadata": {},
     "output_type": "display_data"
    }
   ],
   "source": [
    "# Temperature distributions\n",
    "fig, ax = plt.subplots(1, 2, figsize=(20, 8))\n",
    "sns.distplot(train['temperature'], bins=30, color='blue', ax = ax[0], kde=False)\n",
    "sns.distplot(test['temperature'], bins=30, color='green', ax = ax[1], kde=False)\n",
    "ax[0].set_title('Temperature Distribution for the train dataset')\n",
    "ax[1].set_title('Temperature Distribution for the test dataset')\n",
    "ax[0].axvline(x=train['temperature'].mean(), color='red')\n",
    "ax[0].axvline(x=train['temperature'].median(), color='orange')\n",
    "ax[1].axvline(x=test['temperature'].mean(), color='red')\n",
    "ax[1].axvline(x=test['temperature'].median(), color='orange')"
   ]
  },
  {
   "cell_type": "markdown",
   "metadata": {
    "colab_type": "text",
    "id": "PC2nvIRzTB6u"
   },
   "source": [
    "The Temperature columns for both datasets are normally distributed thus it would be reasonable to impute the missing values with either the mean or the median value. In this case we will impute the mean."
   ]
  },
  {
   "cell_type": "code",
   "execution_count": 12,
   "metadata": {
    "colab": {},
    "colab_type": "code",
    "id": "vFCfmtfHTB6v"
   },
   "outputs": [],
   "source": [
    "# Missing values imputation\n",
    "train['temperature'].fillna(train['temperature'].mean(), inplace=True)\n",
    "test['temperature'].fillna(test['temperature'].mean(), inplace=True)"
   ]
  },
  {
   "cell_type": "markdown",
   "metadata": {
    "colab_type": "text",
    "id": "lgpbU7aMTB62"
   },
   "source": [
    "### 4.3. Merging Dataframes"
   ]
  },
  {
   "cell_type": "code",
   "execution_count": 13,
   "metadata": {
    "colab": {},
    "colab_type": "code",
    "id": "PnOQh9saTB63"
   },
   "outputs": [],
   "source": [
    "# Merging the (train & test) datasets with the riders dataframe on 'Rider Id'\n",
    "train = pd.merge(train, riders, on='rider_id', how='left')\n",
    "test = pd.merge(test, riders, on='rider_id', how='left')"
   ]
  },
  {
   "cell_type": "code",
   "execution_count": 14,
   "metadata": {
    "colab": {
     "base_uri": "https://localhost:8080/",
     "height": 287
    },
    "colab_type": "code",
    "id": "UTzJdZUVTB69",
    "outputId": "af463a84-b909-4c62-c0c1-9dca3ffef171"
   },
   "outputs": [
    {
     "data": {
      "text/html": [
       "<div>\n",
       "<style scoped>\n",
       "    .dataframe tbody tr th:only-of-type {\n",
       "        vertical-align: middle;\n",
       "    }\n",
       "\n",
       "    .dataframe tbody tr th {\n",
       "        vertical-align: top;\n",
       "    }\n",
       "\n",
       "    .dataframe thead th {\n",
       "        text-align: right;\n",
       "    }\n",
       "</style>\n",
       "<table border=\"1\" class=\"dataframe\">\n",
       "  <thead>\n",
       "    <tr style=\"text-align: right;\">\n",
       "      <th></th>\n",
       "      <th>order_no</th>\n",
       "      <th>user_id</th>\n",
       "      <th>platform_type</th>\n",
       "      <th>personal_or_business</th>\n",
       "      <th>placement_day_of_month</th>\n",
       "      <th>placement_weekday_mo_1</th>\n",
       "      <th>placement_time</th>\n",
       "      <th>confirmation_day_of_month</th>\n",
       "      <th>confirmation_weekday_mo_1</th>\n",
       "      <th>confirmation_time</th>\n",
       "      <th>...</th>\n",
       "      <th>pickup_lat</th>\n",
       "      <th>pickup_long</th>\n",
       "      <th>destination_lat</th>\n",
       "      <th>destination_long</th>\n",
       "      <th>rider_id</th>\n",
       "      <th>time_from_pickup_to_arrival</th>\n",
       "      <th>no_of_orders</th>\n",
       "      <th>age</th>\n",
       "      <th>average_rating</th>\n",
       "      <th>no_of_ratings</th>\n",
       "    </tr>\n",
       "  </thead>\n",
       "  <tbody>\n",
       "    <tr>\n",
       "      <th>0</th>\n",
       "      <td>Order_No_4211</td>\n",
       "      <td>User_Id_633</td>\n",
       "      <td>3</td>\n",
       "      <td>Business</td>\n",
       "      <td>9</td>\n",
       "      <td>5</td>\n",
       "      <td>9:35:46 AM</td>\n",
       "      <td>9</td>\n",
       "      <td>5</td>\n",
       "      <td>9:40:10 AM</td>\n",
       "      <td>...</td>\n",
       "      <td>-1.317755</td>\n",
       "      <td>36.830370</td>\n",
       "      <td>-1.300406</td>\n",
       "      <td>36.829741</td>\n",
       "      <td>Rider_Id_432</td>\n",
       "      <td>745</td>\n",
       "      <td>1637</td>\n",
       "      <td>1309</td>\n",
       "      <td>13.8</td>\n",
       "      <td>549</td>\n",
       "    </tr>\n",
       "    <tr>\n",
       "      <th>1</th>\n",
       "      <td>Order_No_25375</td>\n",
       "      <td>User_Id_2285</td>\n",
       "      <td>3</td>\n",
       "      <td>Personal</td>\n",
       "      <td>12</td>\n",
       "      <td>5</td>\n",
       "      <td>11:16:16 AM</td>\n",
       "      <td>12</td>\n",
       "      <td>5</td>\n",
       "      <td>11:23:21 AM</td>\n",
       "      <td>...</td>\n",
       "      <td>-1.351453</td>\n",
       "      <td>36.899315</td>\n",
       "      <td>-1.295004</td>\n",
       "      <td>36.814358</td>\n",
       "      <td>Rider_Id_856</td>\n",
       "      <td>1993</td>\n",
       "      <td>396</td>\n",
       "      <td>339</td>\n",
       "      <td>13.6</td>\n",
       "      <td>69</td>\n",
       "    </tr>\n",
       "    <tr>\n",
       "      <th>2</th>\n",
       "      <td>Order_No_1899</td>\n",
       "      <td>User_Id_265</td>\n",
       "      <td>3</td>\n",
       "      <td>Business</td>\n",
       "      <td>30</td>\n",
       "      <td>2</td>\n",
       "      <td>12:39:25 PM</td>\n",
       "      <td>30</td>\n",
       "      <td>2</td>\n",
       "      <td>12:42:44 PM</td>\n",
       "      <td>...</td>\n",
       "      <td>-1.308284</td>\n",
       "      <td>36.843419</td>\n",
       "      <td>-1.300921</td>\n",
       "      <td>36.828195</td>\n",
       "      <td>Rider_Id_155</td>\n",
       "      <td>455</td>\n",
       "      <td>1023</td>\n",
       "      <td>242</td>\n",
       "      <td>12.5</td>\n",
       "      <td>114</td>\n",
       "    </tr>\n",
       "  </tbody>\n",
       "</table>\n",
       "<p>3 rows × 31 columns</p>\n",
       "</div>"
      ],
      "text/plain": [
       "         order_no       user_id  platform_type personal_or_business  \\\n",
       "0   Order_No_4211   User_Id_633              3             Business   \n",
       "1  Order_No_25375  User_Id_2285              3             Personal   \n",
       "2   Order_No_1899   User_Id_265              3             Business   \n",
       "\n",
       "   placement_day_of_month  placement_weekday_mo_1 placement_time  \\\n",
       "0                       9                       5     9:35:46 AM   \n",
       "1                      12                       5    11:16:16 AM   \n",
       "2                      30                       2    12:39:25 PM   \n",
       "\n",
       "   confirmation_day_of_month  confirmation_weekday_mo_1 confirmation_time  \\\n",
       "0                          9                          5        9:40:10 AM   \n",
       "1                         12                          5       11:23:21 AM   \n",
       "2                         30                          2       12:42:44 PM   \n",
       "\n",
       "   ...  pickup_lat  pickup_long destination_lat  destination_long  \\\n",
       "0  ...   -1.317755    36.830370       -1.300406         36.829741   \n",
       "1  ...   -1.351453    36.899315       -1.295004         36.814358   \n",
       "2  ...   -1.308284    36.843419       -1.300921         36.828195   \n",
       "\n",
       "       rider_id time_from_pickup_to_arrival  no_of_orders   age  \\\n",
       "0  Rider_Id_432                         745          1637  1309   \n",
       "1  Rider_Id_856                        1993           396   339   \n",
       "2  Rider_Id_155                         455          1023   242   \n",
       "\n",
       "  average_rating  no_of_ratings  \n",
       "0           13.8            549  \n",
       "1           13.6             69  \n",
       "2           12.5            114  \n",
       "\n",
       "[3 rows x 31 columns]"
      ]
     },
     "metadata": {},
     "output_type": "display_data"
    },
    {
     "data": {
      "text/html": [
       "<div>\n",
       "<style scoped>\n",
       "    .dataframe tbody tr th:only-of-type {\n",
       "        vertical-align: middle;\n",
       "    }\n",
       "\n",
       "    .dataframe tbody tr th {\n",
       "        vertical-align: top;\n",
       "    }\n",
       "\n",
       "    .dataframe thead th {\n",
       "        text-align: right;\n",
       "    }\n",
       "</style>\n",
       "<table border=\"1\" class=\"dataframe\">\n",
       "  <thead>\n",
       "    <tr style=\"text-align: right;\">\n",
       "      <th></th>\n",
       "      <th>order_no</th>\n",
       "      <th>user_id</th>\n",
       "      <th>platform_type</th>\n",
       "      <th>personal_or_business</th>\n",
       "      <th>placement_day_of_month</th>\n",
       "      <th>placement_weekday_mo_1</th>\n",
       "      <th>placement_time</th>\n",
       "      <th>confirmation_day_of_month</th>\n",
       "      <th>confirmation_weekday_mo_1</th>\n",
       "      <th>confirmation_time</th>\n",
       "      <th>...</th>\n",
       "      <th>temperature</th>\n",
       "      <th>pickup_lat</th>\n",
       "      <th>pickup_long</th>\n",
       "      <th>destination_lat</th>\n",
       "      <th>destination_long</th>\n",
       "      <th>rider_id</th>\n",
       "      <th>no_of_orders</th>\n",
       "      <th>age</th>\n",
       "      <th>average_rating</th>\n",
       "      <th>no_of_ratings</th>\n",
       "    </tr>\n",
       "  </thead>\n",
       "  <tbody>\n",
       "    <tr>\n",
       "      <th>0</th>\n",
       "      <td>Order_No_19248</td>\n",
       "      <td>User_Id_3355</td>\n",
       "      <td>3</td>\n",
       "      <td>Business</td>\n",
       "      <td>27</td>\n",
       "      <td>3</td>\n",
       "      <td>4:44:10 PM</td>\n",
       "      <td>27</td>\n",
       "      <td>3</td>\n",
       "      <td>4:44:29 PM</td>\n",
       "      <td>...</td>\n",
       "      <td>23.24612</td>\n",
       "      <td>-1.333275</td>\n",
       "      <td>36.870815</td>\n",
       "      <td>-1.305249</td>\n",
       "      <td>36.822390</td>\n",
       "      <td>Rider_Id_192</td>\n",
       "      <td>439</td>\n",
       "      <td>1511</td>\n",
       "      <td>13.3</td>\n",
       "      <td>171</td>\n",
       "    </tr>\n",
       "    <tr>\n",
       "      <th>1</th>\n",
       "      <td>Order_No_12736</td>\n",
       "      <td>User_Id_3647</td>\n",
       "      <td>3</td>\n",
       "      <td>Business</td>\n",
       "      <td>17</td>\n",
       "      <td>5</td>\n",
       "      <td>12:57:35 PM</td>\n",
       "      <td>17</td>\n",
       "      <td>5</td>\n",
       "      <td>12:59:17 PM</td>\n",
       "      <td>...</td>\n",
       "      <td>23.24612</td>\n",
       "      <td>-1.272639</td>\n",
       "      <td>36.794723</td>\n",
       "      <td>-1.277007</td>\n",
       "      <td>36.823907</td>\n",
       "      <td>Rider_Id_868</td>\n",
       "      <td>488</td>\n",
       "      <td>273</td>\n",
       "      <td>14.4</td>\n",
       "      <td>45</td>\n",
       "    </tr>\n",
       "    <tr>\n",
       "      <th>2</th>\n",
       "      <td>Order_No_768</td>\n",
       "      <td>User_Id_2154</td>\n",
       "      <td>3</td>\n",
       "      <td>Business</td>\n",
       "      <td>27</td>\n",
       "      <td>4</td>\n",
       "      <td>11:08:14 AM</td>\n",
       "      <td>27</td>\n",
       "      <td>4</td>\n",
       "      <td>11:25:05 AM</td>\n",
       "      <td>...</td>\n",
       "      <td>22.80000</td>\n",
       "      <td>-1.290894</td>\n",
       "      <td>36.822971</td>\n",
       "      <td>-1.276574</td>\n",
       "      <td>36.851365</td>\n",
       "      <td>Rider_Id_26</td>\n",
       "      <td>833</td>\n",
       "      <td>460</td>\n",
       "      <td>13.1</td>\n",
       "      <td>67</td>\n",
       "    </tr>\n",
       "  </tbody>\n",
       "</table>\n",
       "<p>3 rows × 27 columns</p>\n",
       "</div>"
      ],
      "text/plain": [
       "         order_no       user_id  platform_type personal_or_business  \\\n",
       "0  Order_No_19248  User_Id_3355              3             Business   \n",
       "1  Order_No_12736  User_Id_3647              3             Business   \n",
       "2    Order_No_768  User_Id_2154              3             Business   \n",
       "\n",
       "   placement_day_of_month  placement_weekday_mo_1 placement_time  \\\n",
       "0                      27                       3     4:44:10 PM   \n",
       "1                      17                       5    12:57:35 PM   \n",
       "2                      27                       4    11:08:14 AM   \n",
       "\n",
       "   confirmation_day_of_month  confirmation_weekday_mo_1 confirmation_time  \\\n",
       "0                         27                          3        4:44:29 PM   \n",
       "1                         17                          5       12:59:17 PM   \n",
       "2                         27                          4       11:25:05 AM   \n",
       "\n",
       "   ...  temperature  pickup_lat pickup_long  destination_lat  \\\n",
       "0  ...     23.24612   -1.333275   36.870815        -1.305249   \n",
       "1  ...     23.24612   -1.272639   36.794723        -1.277007   \n",
       "2  ...     22.80000   -1.290894   36.822971        -1.276574   \n",
       "\n",
       "   destination_long      rider_id  no_of_orders   age  average_rating  \\\n",
       "0         36.822390  Rider_Id_192           439  1511            13.3   \n",
       "1         36.823907  Rider_Id_868           488   273            14.4   \n",
       "2         36.851365   Rider_Id_26           833   460            13.1   \n",
       "\n",
       "   no_of_ratings  \n",
       "0            171  \n",
       "1             45  \n",
       "2             67  \n",
       "\n",
       "[3 rows x 27 columns]"
      ]
     },
     "metadata": {},
     "output_type": "display_data"
    }
   ],
   "source": [
    "display(train.head(3))\n",
    "display(test.head(3))"
   ]
  },
  {
   "cell_type": "code",
   "execution_count": 15,
   "metadata": {
    "colab": {
     "base_uri": "https://localhost:8080/",
     "height": 561
    },
    "colab_type": "code",
    "id": "aDG8YNGrTB7D",
    "outputId": "eb332885-eee9-4079-be35-d08d98f26834"
   },
   "outputs": [
    {
     "data": {
      "text/plain": [
       "order_no                                object\n",
       "user_id                                 object\n",
       "platform_type                            int64\n",
       "personal_or_business                    object\n",
       "placement_day_of_month                   int64\n",
       "placement_weekday_mo_1                   int64\n",
       "placement_time                          object\n",
       "confirmation_day_of_month                int64\n",
       "confirmation_weekday_mo_1                int64\n",
       "confirmation_time                       object\n",
       "arrival_at_pickup_day_of_month           int64\n",
       "arrival_at_pickup_weekday_mo_1           int64\n",
       "arrival_at_pickup_time                  object\n",
       "pickup_day_of_month                      int64\n",
       "pickup_weekday_mo_1                      int64\n",
       "pickup_time                             object\n",
       "arrival_at_destination_day_of_month      int64\n",
       "arrival_at_destination_weekday_mo_1      int64\n",
       "arrival_at_destination_time             object\n",
       "distance_km                              int64\n",
       "temperature                            float64\n",
       "pickup_lat                             float64\n",
       "pickup_long                            float64\n",
       "destination_lat                        float64\n",
       "destination_long                       float64\n",
       "rider_id                                object\n",
       "time_from_pickup_to_arrival              int64\n",
       "no_of_orders                             int64\n",
       "age                                      int64\n",
       "average_rating                         float64\n",
       "no_of_ratings                            int64\n",
       "dtype: object"
      ]
     },
     "execution_count": 15,
     "metadata": {},
     "output_type": "execute_result"
    }
   ],
   "source": [
    "train.dtypes"
   ]
  },
  {
   "cell_type": "markdown",
   "metadata": {
    "colab_type": "text",
    "id": "I3wovjYBTB7K"
   },
   "source": [
    "## 5. Exploratory Data Analysis"
   ]
  },
  {
   "cell_type": "markdown",
   "metadata": {
    "colab_type": "text",
    "id": "hSVOCg6YTB7L"
   },
   "source": [
    "### 5.1. Classifing features according to their datatypes"
   ]
  },
  {
   "cell_type": "code",
   "execution_count": 16,
   "metadata": {
    "colab": {
     "base_uri": "https://localhost:8080/",
     "height": 162
    },
    "colab_type": "code",
    "id": "CHExueUzTB7N",
    "outputId": "3282da22-6c75-4d8b-ab92-04831cac2976"
   },
   "outputs": [
    {
     "data": {
      "text/html": [
       "<div>\n",
       "<style scoped>\n",
       "    .dataframe tbody tr th:only-of-type {\n",
       "        vertical-align: middle;\n",
       "    }\n",
       "\n",
       "    .dataframe tbody tr th {\n",
       "        vertical-align: top;\n",
       "    }\n",
       "\n",
       "    .dataframe thead th {\n",
       "        text-align: right;\n",
       "    }\n",
       "</style>\n",
       "<table border=\"1\" class=\"dataframe\">\n",
       "  <thead>\n",
       "    <tr style=\"text-align: right;\">\n",
       "      <th></th>\n",
       "      <th>platform_type</th>\n",
       "      <th>placement_day_of_month</th>\n",
       "      <th>placement_weekday_mo_1</th>\n",
       "      <th>confirmation_day_of_month</th>\n",
       "      <th>confirmation_weekday_mo_1</th>\n",
       "      <th>arrival_at_pickup_day_of_month</th>\n",
       "      <th>arrival_at_pickup_weekday_mo_1</th>\n",
       "      <th>pickup_day_of_month</th>\n",
       "      <th>pickup_weekday_mo_1</th>\n",
       "      <th>arrival_at_destination_day_of_month</th>\n",
       "      <th>...</th>\n",
       "      <th>distance_km</th>\n",
       "      <th>temperature</th>\n",
       "      <th>pickup_lat</th>\n",
       "      <th>pickup_long</th>\n",
       "      <th>destination_lat</th>\n",
       "      <th>destination_long</th>\n",
       "      <th>no_of_orders</th>\n",
       "      <th>age</th>\n",
       "      <th>average_rating</th>\n",
       "      <th>no_of_ratings</th>\n",
       "    </tr>\n",
       "  </thead>\n",
       "  <tbody>\n",
       "    <tr>\n",
       "      <th>0</th>\n",
       "      <td>3</td>\n",
       "      <td>9</td>\n",
       "      <td>5</td>\n",
       "      <td>9</td>\n",
       "      <td>5</td>\n",
       "      <td>9</td>\n",
       "      <td>5</td>\n",
       "      <td>9</td>\n",
       "      <td>5</td>\n",
       "      <td>9</td>\n",
       "      <td>...</td>\n",
       "      <td>4</td>\n",
       "      <td>20.400000</td>\n",
       "      <td>-1.317755</td>\n",
       "      <td>36.830370</td>\n",
       "      <td>-1.300406</td>\n",
       "      <td>36.829741</td>\n",
       "      <td>1637</td>\n",
       "      <td>1309</td>\n",
       "      <td>13.8</td>\n",
       "      <td>549</td>\n",
       "    </tr>\n",
       "    <tr>\n",
       "      <th>1</th>\n",
       "      <td>3</td>\n",
       "      <td>12</td>\n",
       "      <td>5</td>\n",
       "      <td>12</td>\n",
       "      <td>5</td>\n",
       "      <td>12</td>\n",
       "      <td>5</td>\n",
       "      <td>12</td>\n",
       "      <td>5</td>\n",
       "      <td>12</td>\n",
       "      <td>...</td>\n",
       "      <td>16</td>\n",
       "      <td>26.400000</td>\n",
       "      <td>-1.351453</td>\n",
       "      <td>36.899315</td>\n",
       "      <td>-1.295004</td>\n",
       "      <td>36.814358</td>\n",
       "      <td>396</td>\n",
       "      <td>339</td>\n",
       "      <td>13.6</td>\n",
       "      <td>69</td>\n",
       "    </tr>\n",
       "    <tr>\n",
       "      <th>2</th>\n",
       "      <td>3</td>\n",
       "      <td>30</td>\n",
       "      <td>2</td>\n",
       "      <td>30</td>\n",
       "      <td>2</td>\n",
       "      <td>30</td>\n",
       "      <td>2</td>\n",
       "      <td>30</td>\n",
       "      <td>2</td>\n",
       "      <td>30</td>\n",
       "      <td>...</td>\n",
       "      <td>3</td>\n",
       "      <td>23.258889</td>\n",
       "      <td>-1.308284</td>\n",
       "      <td>36.843419</td>\n",
       "      <td>-1.300921</td>\n",
       "      <td>36.828195</td>\n",
       "      <td>1023</td>\n",
       "      <td>242</td>\n",
       "      <td>12.5</td>\n",
       "      <td>114</td>\n",
       "    </tr>\n",
       "  </tbody>\n",
       "</table>\n",
       "<p>3 rows × 21 columns</p>\n",
       "</div>"
      ],
      "text/plain": [
       "   platform_type  placement_day_of_month  placement_weekday_mo_1  \\\n",
       "0              3                       9                       5   \n",
       "1              3                      12                       5   \n",
       "2              3                      30                       2   \n",
       "\n",
       "   confirmation_day_of_month  confirmation_weekday_mo_1  \\\n",
       "0                          9                          5   \n",
       "1                         12                          5   \n",
       "2                         30                          2   \n",
       "\n",
       "   arrival_at_pickup_day_of_month  arrival_at_pickup_weekday_mo_1  \\\n",
       "0                               9                               5   \n",
       "1                              12                               5   \n",
       "2                              30                               2   \n",
       "\n",
       "   pickup_day_of_month  pickup_weekday_mo_1  \\\n",
       "0                    9                    5   \n",
       "1                   12                    5   \n",
       "2                   30                    2   \n",
       "\n",
       "   arrival_at_destination_day_of_month  ...  distance_km  temperature  \\\n",
       "0                                    9  ...            4    20.400000   \n",
       "1                                   12  ...           16    26.400000   \n",
       "2                                   30  ...            3    23.258889   \n",
       "\n",
       "   pickup_lat  pickup_long  destination_lat  destination_long  no_of_orders  \\\n",
       "0   -1.317755    36.830370        -1.300406         36.829741          1637   \n",
       "1   -1.351453    36.899315        -1.295004         36.814358           396   \n",
       "2   -1.308284    36.843419        -1.300921         36.828195          1023   \n",
       "\n",
       "    age  average_rating  no_of_ratings  \n",
       "0  1309            13.8            549  \n",
       "1   339            13.6             69  \n",
       "2   242            12.5            114  \n",
       "\n",
       "[3 rows x 21 columns]"
      ]
     },
     "execution_count": 16,
     "metadata": {},
     "output_type": "execute_result"
    }
   ],
   "source": [
    "numeric_columns = []\n",
    "object_cat_columns = []\n",
    "time_columns = []\n",
    "for i, j in train.dtypes.items():\n",
    "    if (j != object):\n",
    "        if (i != \"time_from_pickup_to_arrival\"):\n",
    "            numeric_columns.append(i)\n",
    "    elif i.endswith(\"time\"):\n",
    "        time_columns.append(i)\n",
    "    else:\n",
    "        object_cat_columns.append(i)\n",
    "train[numeric_columns].head(3) "
   ]
  },
  {
   "cell_type": "code",
   "execution_count": 17,
   "metadata": {
    "colab": {
     "base_uri": "https://localhost:8080/",
     "height": 142
    },
    "colab_type": "code",
    "id": "wgietlvZTB7T",
    "outputId": "6deb17b0-9a52-4464-8a59-da13a790817d"
   },
   "outputs": [
    {
     "data": {
      "text/html": [
       "<div>\n",
       "<style scoped>\n",
       "    .dataframe tbody tr th:only-of-type {\n",
       "        vertical-align: middle;\n",
       "    }\n",
       "\n",
       "    .dataframe tbody tr th {\n",
       "        vertical-align: top;\n",
       "    }\n",
       "\n",
       "    .dataframe thead th {\n",
       "        text-align: right;\n",
       "    }\n",
       "</style>\n",
       "<table border=\"1\" class=\"dataframe\">\n",
       "  <thead>\n",
       "    <tr style=\"text-align: right;\">\n",
       "      <th></th>\n",
       "      <th>order_no</th>\n",
       "      <th>user_id</th>\n",
       "      <th>personal_or_business</th>\n",
       "      <th>rider_id</th>\n",
       "    </tr>\n",
       "  </thead>\n",
       "  <tbody>\n",
       "    <tr>\n",
       "      <th>0</th>\n",
       "      <td>Order_No_4211</td>\n",
       "      <td>User_Id_633</td>\n",
       "      <td>Business</td>\n",
       "      <td>Rider_Id_432</td>\n",
       "    </tr>\n",
       "    <tr>\n",
       "      <th>1</th>\n",
       "      <td>Order_No_25375</td>\n",
       "      <td>User_Id_2285</td>\n",
       "      <td>Personal</td>\n",
       "      <td>Rider_Id_856</td>\n",
       "    </tr>\n",
       "    <tr>\n",
       "      <th>2</th>\n",
       "      <td>Order_No_1899</td>\n",
       "      <td>User_Id_265</td>\n",
       "      <td>Business</td>\n",
       "      <td>Rider_Id_155</td>\n",
       "    </tr>\n",
       "  </tbody>\n",
       "</table>\n",
       "</div>"
      ],
      "text/plain": [
       "         order_no       user_id personal_or_business      rider_id\n",
       "0   Order_No_4211   User_Id_633             Business  Rider_Id_432\n",
       "1  Order_No_25375  User_Id_2285             Personal  Rider_Id_856\n",
       "2   Order_No_1899   User_Id_265             Business  Rider_Id_155"
      ]
     },
     "execution_count": 17,
     "metadata": {},
     "output_type": "execute_result"
    }
   ],
   "source": [
    "train[object_cat_columns].head(3)"
   ]
  },
  {
   "cell_type": "code",
   "execution_count": 18,
   "metadata": {
    "colab": {
     "base_uri": "https://localhost:8080/",
     "height": 142
    },
    "colab_type": "code",
    "id": "D7Sn9nmXTB7Y",
    "outputId": "dc594aa3-321c-4d81-d77b-44fce23d02d9"
   },
   "outputs": [
    {
     "data": {
      "text/html": [
       "<div>\n",
       "<style scoped>\n",
       "    .dataframe tbody tr th:only-of-type {\n",
       "        vertical-align: middle;\n",
       "    }\n",
       "\n",
       "    .dataframe tbody tr th {\n",
       "        vertical-align: top;\n",
       "    }\n",
       "\n",
       "    .dataframe thead th {\n",
       "        text-align: right;\n",
       "    }\n",
       "</style>\n",
       "<table border=\"1\" class=\"dataframe\">\n",
       "  <thead>\n",
       "    <tr style=\"text-align: right;\">\n",
       "      <th></th>\n",
       "      <th>placement_time</th>\n",
       "      <th>confirmation_time</th>\n",
       "      <th>arrival_at_pickup_time</th>\n",
       "      <th>pickup_time</th>\n",
       "      <th>arrival_at_destination_time</th>\n",
       "    </tr>\n",
       "  </thead>\n",
       "  <tbody>\n",
       "    <tr>\n",
       "      <th>0</th>\n",
       "      <td>9:35:46 AM</td>\n",
       "      <td>9:40:10 AM</td>\n",
       "      <td>10:04:47 AM</td>\n",
       "      <td>10:27:30 AM</td>\n",
       "      <td>10:39:55 AM</td>\n",
       "    </tr>\n",
       "    <tr>\n",
       "      <th>1</th>\n",
       "      <td>11:16:16 AM</td>\n",
       "      <td>11:23:21 AM</td>\n",
       "      <td>11:40:22 AM</td>\n",
       "      <td>11:44:09 AM</td>\n",
       "      <td>12:17:22 PM</td>\n",
       "    </tr>\n",
       "    <tr>\n",
       "      <th>2</th>\n",
       "      <td>12:39:25 PM</td>\n",
       "      <td>12:42:44 PM</td>\n",
       "      <td>12:49:34 PM</td>\n",
       "      <td>12:53:03 PM</td>\n",
       "      <td>1:00:38 PM</td>\n",
       "    </tr>\n",
       "  </tbody>\n",
       "</table>\n",
       "</div>"
      ],
      "text/plain": [
       "  placement_time confirmation_time arrival_at_pickup_time  pickup_time  \\\n",
       "0     9:35:46 AM        9:40:10 AM            10:04:47 AM  10:27:30 AM   \n",
       "1    11:16:16 AM       11:23:21 AM            11:40:22 AM  11:44:09 AM   \n",
       "2    12:39:25 PM       12:42:44 PM            12:49:34 PM  12:53:03 PM   \n",
       "\n",
       "  arrival_at_destination_time  \n",
       "0                 10:39:55 AM  \n",
       "1                 12:17:22 PM  \n",
       "2                  1:00:38 PM  "
      ]
     },
     "execution_count": 18,
     "metadata": {},
     "output_type": "execute_result"
    }
   ],
   "source": [
    "train[time_columns].head(3)"
   ]
  },
  {
   "cell_type": "markdown",
   "metadata": {
    "colab_type": "text",
    "id": "kXpaUEGtTB7d"
   },
   "source": [
    "### 5.2. Outliers Overview for numeric features"
   ]
  },
  {
   "cell_type": "code",
   "execution_count": 19,
   "metadata": {
    "colab": {},
    "colab_type": "code",
    "id": "-xww8rMMTB7e"
   },
   "outputs": [],
   "source": [
    "numeric_columns_new = ['pickup_day_of_month','pickup_weekday_mo_1',\n",
    "                   'distance_km','temperature','no_of_orders','age','average_rating','no_of_ratings']"
   ]
  },
  {
   "cell_type": "code",
   "execution_count": 20,
   "metadata": {
    "colab": {
     "base_uri": "https://localhost:8080/",
     "height": 1000
    },
    "colab_type": "code",
    "id": "WBfGdGF4TB7j",
    "outputId": "3f28f86d-2e10-4023-f7b0-053202bfce62"
   },
   "outputs": [
    {
     "data": {
      "image/png": "[encoded data removed]",
      "text/plain": [
       "<Figure size 864x1872 with 8 Axes>"
      ]
     },
     "metadata": {},
     "output_type": "display_data"
    }
   ],
   "source": [
    "fig, ax = plt.subplots(8,1,figsize=(12,26))\n",
    "   \n",
    "for index, column in enumerate(numeric_columns_new):  \n",
    "    sns.boxplot(train[column], ax=ax[index], palette='Set2')"
   ]
  },
  {
   "cell_type": "markdown",
   "metadata": {
    "colab_type": "text",
    "id": "c6Xz1NG3TB7o"
   },
   "source": [
    "### 5.3. Correlation between numeric features and the target variable"
   ]
  },
  {
   "cell_type": "markdown",
   "metadata": {
    "colab_type": "text",
    "id": "fB2NrRCtYHrZ"
   },
   "source": [
    "Since we are dealing with a regression problem it is important to see the correlation between the independent varables and the dependent variable. This can be achieved with the help of a correlation matrix."
   ]
  },
  {
   "cell_type": "code",
   "execution_count": 21,
   "metadata": {
    "colab": {
     "base_uri": "https://localhost:8080/",
     "height": 408
    },
    "colab_type": "code",
    "id": "G3RiLqlVTB7p",
    "outputId": "62ef86be-f2c6-406c-d946-8f9a911d7b0f"
   },
   "outputs": [
    {
     "name": "stdout",
     "output_type": "stream",
     "text": [
      "time_from_pickup_to_arrival            1.000000\n",
      "distance_km                            0.580608\n",
      "destination_long                       0.070425\n",
      "pickup_long                            0.060285\n",
      "confirmation_weekday_mo_1              0.009744\n",
      "arrival_at_pickup_weekday_mo_1         0.009744\n",
      "pickup_weekday_mo_1                    0.009744\n",
      "arrival_at_destination_weekday_mo_1    0.009744\n",
      "placement_weekday_mo_1                 0.009693\n",
      "temperature                            0.005772\n",
      "no_of_ratings                          0.005609\n",
      "platform_type                         -0.003827\n",
      "age                                   -0.007969\n",
      "arrival_at_destination_day_of_month   -0.014701\n",
      "pickup_day_of_month                   -0.014701\n",
      "arrival_at_pickup_day_of_month        -0.014701\n",
      "confirmation_day_of_month             -0.014701\n",
      "placement_day_of_month                -0.014710\n",
      "no_of_orders                          -0.041608\n",
      "average_rating                        -0.042559\n",
      "pickup_lat                            -0.053823\n",
      "destination_lat                       -0.061872\n",
      "Name: time_from_pickup_to_arrival, dtype: float64\n"
     ]
    }
   ],
   "source": [
    "correlation_matrix = train[numeric_columns+['time_from_pickup_to_arrival']].corr()\n",
    "print(correlation_matrix[\"time_from_pickup_to_arrival\"].sort_values(ascending=False))"
   ]
  },
  {
   "cell_type": "markdown",
   "metadata": {
    "colab_type": "text",
    "id": "_2u54RpGTB7u"
   },
   "source": [
    "There seems to be a strong correlation between the target variable and the distance feature. The rest of the variables do not have such strong correlation with the target variable. \n",
    "\n",
    "**Lower correlation** means weak `linear relationship` between the variables but this tells us nothing about their `non-linear` relationship. It would be premature to pass judgement at this level. We will have to further engineer the features and have them in a form that will reveal more information about them."
   ]
  },
  {
   "cell_type": "markdown",
   "metadata": {
    "colab_type": "text",
    "id": "nXDBjLNATB7v"
   },
   "source": [
    "### 5.4. Examinig the target (time from pickup to arrival at the destination)\n"
   ]
  },
  {
   "cell_type": "code",
   "execution_count": 22,
   "metadata": {
    "colab": {
     "base_uri": "https://localhost:8080/",
     "height": 299
    },
    "colab_type": "code",
    "id": "JDdHj04kTB7w",
    "outputId": "c1e16f9a-921a-4c82-9065-ae5d400d717e"
   },
   "outputs": [
    {
     "data": {
      "text/plain": [
       "<matplotlib.axes._subplots.AxesSubplot at 0x29919004a48>"
      ]
     },
     "execution_count": 22,
     "metadata": {},
     "output_type": "execute_result"
    },
    {
     "data": {
      "image/png": "[encoded data removed]",
      "text/plain": [
       "<Figure size 1440x360 with 2 Axes>"
      ]
     },
     "metadata": {},
     "output_type": "display_data"
    }
   ],
   "source": [
    "fig,ax = plt.subplots(1,2,figsize=(20,5))\n",
    "sns.boxplot(train[\"time_from_pickup_to_arrival\"], ax=ax[0])\n",
    "sns.distplot(train[\"time_from_pickup_to_arrival\"], fit=norm, ax=ax[1])"
   ]
  },
  {
   "cell_type": "markdown",
   "metadata": {
    "colab_type": "text",
    "id": "P-NMd6txTB76"
   },
   "source": [
    "The `target variable` is **\"positively skewed\"** and this is mainly caused by a much lower boundary (meaning there are a minority of very large values) in the dataset. This will affect the regression intercept, coefficients associated with the model. This can be fixed in a number of ways including log transformation and boxcox transform. However, in this case, outliers will be dropped."
   ]
  },
  {
   "cell_type": "markdown",
   "metadata": {
    "colab_type": "text",
    "id": "_Yuc5uItTB77"
   },
   "source": [
    "## 6. Feature Engineering"
   ]
  },
  {
   "cell_type": "markdown",
   "metadata": {
    "colab_type": "text",
    "id": "fxZtGWZJTB78"
   },
   "source": [
    "### 6.1. Addressing Outliers"
   ]
  },
  {
   "cell_type": "markdown",
   "metadata": {
    "colab_type": "text",
    "id": "dHWiF0Y3TB79"
   },
   "source": [
    "Outliers can be filtered out using a `speed` feature. A cutoff speed value will be used to filter outliers.\n",
    "A maximum speed of about **70 km/h or ~19m/s** will be used as a max threshold value and a minimum speed of **10km/h or 3m/s** as minimum threshold value."
   ]
  },
  {
   "cell_type": "code",
   "execution_count": 23,
   "metadata": {
    "colab": {},
    "colab_type": "code",
    "id": "BBlOFCgcTB7-"
   },
   "outputs": [],
   "source": [
    "### Calculating the Rider's Speed in m/s\n",
    "train['speed_meter_per_second'] = (train['distance_km'] * 1000) / train['time_from_pickup_to_arrival']"
   ]
  },
  {
   "cell_type": "code",
   "execution_count": 24,
   "metadata": {
    "colab": {
     "base_uri": "https://localhost:8080/",
     "height": 170
    },
    "colab_type": "code",
    "id": "FUbfFLCxTB8E",
    "outputId": "c1c67e40-f756-4162-d582-d47a829658e0"
   },
   "outputs": [
    {
     "data": {
      "text/plain": [
       "count    21201.000000\n",
       "mean        69.251494\n",
       "std        529.249252\n",
       "min          0.255624\n",
       "25%          4.573171\n",
       "50%          6.406834\n",
       "75%          8.413462\n",
       "max      17000.000000\n",
       "Name: speed_meter_per_second, dtype: float64"
      ]
     },
     "execution_count": 24,
     "metadata": {},
     "output_type": "execute_result"
    }
   ],
   "source": [
    "train['speed_meter_per_second'].describe()"
   ]
  },
  {
   "cell_type": "markdown",
   "metadata": {
    "colab_type": "text",
    "id": "oVLWQaLhTB8J"
   },
   "source": [
    "There's definitely outliers. If not addressed they will affect the performance of our models negatively. However, great care has to be taken when removing outliers because the test data might contain these outliers and our models might not deal accordingly with such."
   ]
  },
  {
   "cell_type": "code",
   "execution_count": 25,
   "metadata": {
    "colab": {},
    "colab_type": "code",
    "id": "NCNUeIiNTB8K"
   },
   "outputs": [],
   "source": [
    "# train dataset without outliers\n",
    "train = train[(train['speed_meter_per_second'] <= 18) & (train['speed_meter_per_second'] > 2)]"
   ]
  },
  {
   "cell_type": "code",
   "execution_count": 26,
   "metadata": {
    "colab": {
     "base_uri": "https://localhost:8080/",
     "height": 170
    },
    "colab_type": "code",
    "id": "s8_LuoqjTB8P",
    "outputId": "78f87bf6-f7f2-4001-bd36-d1500ec04f31"
   },
   "outputs": [
    {
     "data": {
      "text/plain": [
       "count    19467.000000\n",
       "mean         6.578756\n",
       "std          2.615524\n",
       "min          2.000667\n",
       "25%          4.674770\n",
       "50%          6.349206\n",
       "75%          8.103728\n",
       "max         17.988553\n",
       "Name: speed_meter_per_second, dtype: float64"
      ]
     },
     "execution_count": 26,
     "metadata": {},
     "output_type": "execute_result"
    }
   ],
   "source": [
    "train['speed_meter_per_second'].describe()"
   ]
  },
  {
   "cell_type": "markdown",
   "metadata": {
    "colab_type": "text",
    "id": "Z__fwh6kTB8V"
   },
   "source": [
    "### 6.2. Time Features engineering"
   ]
  },
  {
   "cell_type": "markdown",
   "metadata": {
    "colab_type": "text",
    "id": "8bCrjSjJTB8X"
   },
   "source": [
    "The following features will be created out of current Date & Time features:\n",
    "    \n",
    "   1. **pick_up_quarter_month**\n",
    "   2. **pickup_day_month**\n",
    "   3. **pickup_weekday**\n",
    "   4. **pickup_hour**\n",
    "   5. **pickup_minute**\n",
    "   5. **traffic_hour**\n",
    "   6. **placement_to_confirmation_diff**\n",
    "   7. **confirmation_to_arrivalpickup_diff**\n",
    "   8. **arrivalpickup_to_pickup_diff**"
   ]
  },
  {
   "cell_type": "markdown",
   "metadata": {
    "colab_type": "text",
    "id": "5LaepfD4TB8Y"
   },
   "source": [
    "The placement_time and confirmation_time features can either be dropped or be used to create more weighty features. We will attemp to create more features out of these. For instance the duration between these features can add a lot of meaning to the data. It could be that the longer the delay until the picking up of the order means that the rider will strive to prioritize that order in order to make it up to the client for the prior delay. We are just assuming here but the variable selection will prove this assumption true or false."
   ]
  },
  {
   "cell_type": "markdown",
   "metadata": {
    "colab_type": "text",
    "id": "PghsssOJTB8Z"
   },
   "source": [
    "First let's convert all our time features to datetime format."
   ]
  },
  {
   "cell_type": "code",
   "execution_count": 27,
   "metadata": {
    "colab": {},
    "colab_type": "code",
    "id": "UOzEUz4pTB8a"
   },
   "outputs": [],
   "source": [
    "def convert_to_datetime(df):\n",
    "    for col in df.columns:\n",
    "        if col.endswith(\"time\"):\n",
    "            df[col] = pd.to_datetime(df[col])\n",
    "    return df"
   ]
  },
  {
   "cell_type": "code",
   "execution_count": 28,
   "metadata": {
    "colab": {},
    "colab_type": "code",
    "id": "Q-Pw8UUFTB8f"
   },
   "outputs": [],
   "source": [
    "train = convert_to_datetime(train)\n",
    "test = convert_to_datetime(test)"
   ]
  },
  {
   "cell_type": "code",
   "execution_count": 29,
   "metadata": {
    "colab": {},
    "colab_type": "code",
    "id": "wsXI-m26ISwb"
   },
   "outputs": [],
   "source": [
    "# The function classifies the days of the month to their respective quarter of the month\n",
    "def quarter_of_month(x):\n",
    "    if x >= 1 and x <= 7:\n",
    "        return 1\n",
    "    elif x > 7 and x <= 14:\n",
    "        return 2\n",
    "    elif x > 14 and x <= 21:\n",
    "        return 3\n",
    "    else:\n",
    "        return 4\n",
    "    \n",
    "#Applying quarter_of_month\n",
    "train[\"pick_up_quarter_month\"] = train[\"pickup_day_of_month\"].apply(quarter_of_month)\n",
    "test[\"pick_up_quarter_month\"] = test[\"pickup_day_of_month\"].apply(quarter_of_month)"
   ]
  },
  {
   "cell_type": "code",
   "execution_count": 30,
   "metadata": {
    "colab": {
     "base_uri": "https://localhost:8080/",
     "height": 422
    },
    "colab_type": "code",
    "id": "FaY34-_eISwg",
    "outputId": "aa2aa387-c353-4405-9b24-0f46d16f12dd"
   },
   "outputs": [
    {
     "data": {
      "text/plain": [
       "Text(0.5, 1.0, 'Test data set')"
      ]
     },
     "execution_count": 30,
     "metadata": {},
     "output_type": "execute_result"
    },
    {
     "data": {
      "image/png": "[encoded data removed]",
      "text/plain": [
       "<Figure size 864x432 with 2 Axes>"
      ]
     },
     "metadata": {},
     "output_type": "display_data"
    }
   ],
   "source": [
    "fig, ax = plt.subplots(1, 2, figsize=(12,6))\n",
    "sns.countplot(train[\"pick_up_quarter_month\"], ax=ax[0])\n",
    "sns.countplot(test[\"pick_up_quarter_month\"], ax=ax[1])\n",
    "ax[0].set_title('Train data set')\n",
    "ax[1].set_title('Test data set')"
   ]
  },
  {
   "cell_type": "markdown",
   "metadata": {
    "colab_type": "text",
    "id": "DCZxUCoZJ8SP"
   },
   "source": [
    "The countplot above clearly shows that the traffic congestion is not the same throughout the month. In the last week of the month we see an increase in orders made and this means traffic in general does increase. This is a very important insight and it will simplify the learnarity of the model."
   ]
  },
  {
   "cell_type": "markdown",
   "metadata": {
    "colab_type": "text",
    "id": "Wti8nRlhKvUh"
   },
   "source": [
    "Let us also look into the distribution of the pickup weekdays and see if whether the number of orders does vary during the week and on weekend. Our first assumption is that traffic eases during weekends as compared to the middle of the week."
   ]
  },
  {
   "cell_type": "code",
   "execution_count": 31,
   "metadata": {
    "colab": {
     "base_uri": "https://localhost:8080/",
     "height": 422
    },
    "colab_type": "code",
    "id": "COv4qb7wLnQT",
    "outputId": "3f0d1d47-8049-404b-a37d-bac87b597d0b"
   },
   "outputs": [
    {
     "data": {
      "text/plain": [
       "Text(0.5, 1.0, 'Test data set')"
      ]
     },
     "execution_count": 31,
     "metadata": {},
     "output_type": "execute_result"
    },
    {
     "data": {
      "image/png": "[encoded data removed]",
      "text/plain": [
       "<Figure size 864x432 with 2 Axes>"
      ]
     },
     "metadata": {},
     "output_type": "display_data"
    }
   ],
   "source": [
    "fig, ax = plt.subplots(1, 2, figsize=(12,6))\n",
    "sns.countplot(train[\"pickup_weekday_mo_1\"], ax=ax[0])\n",
    "sns.countplot(test[\"pickup_weekday_mo_1\"], ax=ax[1])\n",
    "ax[0].set_title('Train data set')\n",
    "ax[1].set_title('Test data set')"
   ]
  },
  {
   "cell_type": "markdown",
   "metadata": {
    "colab_type": "text",
    "id": "X9v8ooDwMYo7"
   },
   "source": [
    "Our prediction was true! The number of orders made on weekends is far less than the number of orders made during the week. There isn't much variability in number of orders during the week and this can be problematic to our models. This can be resolved by classifying an order as either falling during the week or on weekend. We will use a binary set of 0 (Not weekend) and 1 (Weekend)."
   ]
  },
  {
   "cell_type": "code",
   "execution_count": 32,
   "metadata": {
    "colab": {},
    "colab_type": "code",
    "id": "87HUFeu6ISwt"
   },
   "outputs": [],
   "source": [
    "# A function that classifies days as either falling on a weekend or not_weekend\n",
    "def weekend(x):\n",
    "    if x <= 5:\n",
    "        return 1\n",
    "    else:\n",
    "        return 0\n",
    "    \n",
    "#Applying the not_weekend function to create a new feature\n",
    "train[\"weekend\"] = train[\"pickup_weekday_mo_1\"].apply(weekend)\n",
    "test[\"weekend\"] = test[\"pickup_weekday_mo_1\"].apply(weekend)"
   ]
  },
  {
   "cell_type": "markdown",
   "metadata": {
    "colab_type": "text",
    "id": "YBQ8mmsaOJKo"
   },
   "source": [
    "As for the placement, confirmation and arrival at pickup features, we can choose to ignore them since they more or less resemble the pickup features. However, there could be some correlation between them and the target variable. There could even be some causation. Our imagination tells us that the longer it took for the rider to arrive at the pickup point the higher the order will be prioritized in order to make up for the delay. This could motivate the rider to travel faster that usual. Further analysis will either prove us wrong or right.\n",
    "\n",
    "We will thus compute the time difference between these features successively."
   ]
  },
  {
   "cell_type": "code",
   "execution_count": 33,
   "metadata": {
    "colab": {},
    "colab_type": "code",
    "id": "iuhMGhqOTB8k"
   },
   "outputs": [],
   "source": [
    "# train set\n",
    "train['placement_to_confirmation_diff'] =  (train['confirmation_time'] - train['placement_time']).astype('timedelta64[s]')\n",
    "train['confirmation_to_arrivalpickup_diff'] = (train['arrival_at_pickup_time'] - train['confirmation_time']).astype('timedelta64[s]')\n",
    "train['arrivalpickup_to_pickup_diff'] = (train['pickup_time'] - train['arrival_at_pickup_time']).astype('timedelta64[s]')\n",
    "\n",
    "# test set\n",
    "test['placement_to_confirmation_diff'] = (test['confirmation_time'] - test['placement_time']).astype('timedelta64[s]')\n",
    "test['confirmation_to_arrivalpickup_diff'] = (test['arrival_at_pickup_time'] - test['confirmation_time']).astype('timedelta64[s]')\n",
    "test['arrivalpickup_to_pickup_diff'] = (test['pickup_time'] - test['arrival_at_pickup_time']).astype('timedelta64[s]')"
   ]
  },
  {
   "cell_type": "markdown",
   "metadata": {
    "colab_type": "text",
    "id": "xDXfrp1hTB8p"
   },
   "source": [
    "Traffic on the road is one of the high determining factors in terms of one's travel duration from one destination to another. We would expect longer trip durations during breakfast rushhour and also during knockoff rush hour. Traffic should ease during mid hours. With this in mind we will have to make the most out of the **pickup_time** feature. \n",
    "\n",
    "Below is the extraction of 'hour', 'minute' and 'second' components of our pickup time"
   ]
  },
  {
   "cell_type": "code",
   "execution_count": 34,
   "metadata": {
    "colab": {},
    "colab_type": "code",
    "id": "4ocnFe-yTB8q"
   },
   "outputs": [],
   "source": [
    "# Extracting the hour and minute component of pickup_time\n",
    "train['pickup_time'.split('_')[0] + '_hour'] = train['pickup_time'].dt.hour\n",
    "test['pickup_time'.split('_')[0] + '_hour'] = test['pickup_time'].dt.hour\n",
    "train['pickup_time'.split('_')[0] + '_minute'] = train['pickup_time'].dt.minute\n",
    "test['pickup_time'.split('_')[0] + '_minute'] = test['pickup_time'].dt.minute\n",
    "train['pickup_time'.split('_')[0] + '_second'] = train['pickup_time'].dt.second\n",
    "test['pickup_time'.split('_')[0] + '_second'] = test['pickup_time'].dt.second"
   ]
  },
  {
   "cell_type": "markdown",
   "metadata": {
    "colab_type": "text",
    "id": "Qcs_pk-nTB81"
   },
   "source": [
    "Some of our data is inherently cyclical. Time is a rich example of this: minutes, hours, seconds, day of week, and week of month. All these follow cycles. We have a lot of such features in our data and we want to convey their cyclical nature to our model. But how can we do this? \n",
    "\n",
    "The trick is to create two new features, deriving a sine transform and cosine transform. We map each cyclical variable onto a circle such that the lowest value for that variable appears right next to the largest value. We compute the x- and y- component of that point using `sin` and `cos` trigonometric functions.\n",
    "\n",
    "$${x}_{sin} =  {sin}(\\frac{2 * \\pi * x}{max(x)})$$<br>\n",
    "\n",
    "$${x}_{cos} =  {cos}(\\frac{2 * \\pi * x}{max(x)})$$<br>\n",
    "\n",
    "For us to do that, we need to look at all unique values for every cyclic feature."
   ]
  },
  {
   "cell_type": "code",
   "execution_count": 35,
   "metadata": {
    "colab": {
     "base_uri": "https://localhost:8080/",
     "height": 88
    },
    "colab_type": "code",
    "id": "qPA6awXsTB83",
    "outputId": "f83eff37-5f88-475f-a825-67d2cf058677"
   },
   "outputs": [
    {
     "name": "stdout",
     "output_type": "stream",
     "text": [
      "The unique day values of a month: [1, 2, 3, 4, 5, 6, 7, 8, 9, 10, 11, 12, 13, 14, 15, 16, 17, 18, 19, 20, 21, 22, 23, 24, 25, 26, 27, 28, 29, 30, 31]\n",
      "The unique weekday values: [1, 2, 3, 4, 5, 6, 7]\n",
      "The unique hour values: [7, 8, 9, 10, 11, 12, 13, 14, 15, 16, 17, 18, 19, 20, 21, 22, 23]\n"
     ]
    }
   ],
   "source": [
    "print('The unique day values of a month:', sorted(train['pickup_day_of_month'].unique()))\n",
    "print('The unique weekday values:',sorted(train['pickup_weekday_mo_1'].unique()))\n",
    "print('The unique hour values:', sorted(train['pickup_hour'].unique()))"
   ]
  },
  {
   "cell_type": "code",
   "execution_count": 36,
   "metadata": {
    "colab": {},
    "colab_type": "code",
    "id": "awQRG5cKTB89"
   },
   "outputs": [],
   "source": [
    "train['pickup_day_of_month_sin'] = np.sin(train['pickup_day_of_month']*(2.*np.pi/31))\n",
    "train['pickup_day_of_month_cos'] = np.cos(train['pickup_day_of_month']*(2.*np.pi/31))\n",
    "train['pickup_weekday_sin'] = np.sin(train['pickup_weekday_mo_1']*(2.*np.pi/7))\n",
    "train['pickup_weekday_cos'] = np.cos(train['pickup_weekday_mo_1']*(2.*np.pi/7))\n",
    "train['pickup_hour_sin'] = np.sin(train['pickup_hour']*(2.*np.pi/23))\n",
    "train['pickup_hour_cos'] = np.cos(train['pickup_hour']*(2.*np.pi/23)) \n",
    "train['pickup_minute_sin'] = np.sin(train['pickup_minute']*(2.*np.pi/60)) \n",
    "train['pickup_minute_cos'] = np.cos(train['pickup_minute']*(2.*np.pi/60))\n",
    "train['pickup_second_sin'] = np.sin(train['pickup_second']*(2.*np.pi/60))\n",
    "train['pickup_second_cos'] = np.cos(train['pickup_second']*(2.*np.pi/60)) \n",
    "\n",
    "\n",
    "#Test data set\n",
    "test['pickup_day_of_month_sin'] = np.sin(test['pickup_day_of_month']*(2.*np.pi/31))\n",
    "test['pickup_day_of_month_cos'] = np.cos(test['pickup_day_of_month']*(2.*np.pi/31))\n",
    "test['pickup_weekday_sin'] = np.sin(test['pickup_weekday_mo_1']*(2.*np.pi/7))\n",
    "test['pickup_weekday_cos'] = np.cos(test['pickup_weekday_mo_1']*(2.*np.pi/7))\n",
    "test['pickup_hour_sin'] = np.sin(test['pickup_hour']*(2.*np.pi/23)) \n",
    "test['pickup_hour_cos'] = np.cos(test['pickup_hour']*(2.*np.pi/23)) \n",
    "test['pickup_minute_sin'] = np.sin(test['pickup_minute']*(2.*np.pi/60)) \n",
    "test['pickup_minute_cos'] = np.cos(test['pickup_minute']*(2.*np.pi/60)) \n",
    "test['pickup_second_sin'] = np.sin(test['pickup_second']*(2.*np.pi/60))\n",
    "test['pickup_second_cos'] = np.cos(test['pickup_second']*(2.*np.pi/60)) \n"
   ]
  },
  {
   "cell_type": "markdown",
   "metadata": {
    "colab_type": "text",
    "id": "0A0maxguISxh"
   },
   "source": [
    "if we plot the features in two dimensions, we end up with a perfect cycle (or close to a perfect cycle) for every feature. "
   ]
  },
  {
   "cell_type": "code",
   "execution_count": 37,
   "metadata": {
    "colab": {
     "base_uri": "https://localhost:8080/",
     "height": 498
    },
    "colab_type": "code",
    "id": "AJ5Y1a_eISxi",
    "outputId": "97e244b2-d0c3-4b2d-e524-9578ff8c214f"
   },
   "outputs": [
    {
     "data": {
      "image/png": "[encoded data removed]",
      "text/plain": [
       "<Figure size 1080x576 with 4 Axes>"
      ]
     },
     "metadata": {},
     "output_type": "display_data"
    }
   ],
   "source": [
    "fig, ax = plt.subplots(2,2, figsize=(15,8))\n",
    "train.plot.scatter('pickup_day_of_month_sin', 'pickup_day_of_month_cos', ax=ax[0,0]).set_aspect('equal')\n",
    "train.plot.scatter('pickup_hour_sin', 'pickup_hour_cos', ax=ax[0,1]).set_aspect('equal')\n",
    "train.plot.scatter('pickup_weekday_sin', 'pickup_weekday_cos', ax=ax[1,0]).set_aspect('equal')\n",
    "train.plot.scatter('pickup_minute_sin', 'pickup_minute_cos', ax=ax[1,1]).set_aspect('equal')\n"
   ]
  },
  {
   "cell_type": "markdown",
   "metadata": {
    "colab_type": "text",
    "id": "zXukbwLpISxs"
   },
   "source": [
    "The features can now be used by our machine learning algorithms and as an added benefit, they are also scaled to the range [-1, 1] which will also aid our predictions."
   ]
  },
  {
   "cell_type": "markdown",
   "metadata": {
    "colab_type": "text",
    "id": "vuWySfJiTB9V"
   },
   "source": [
    "Now that we have encoded our cyclic features we can drop all un-encoded features"
   ]
  },
  {
   "cell_type": "code",
   "execution_count": 38,
   "metadata": {
    "colab": {},
    "colab_type": "code",
    "id": "ylk7UdQoTB9Z"
   },
   "outputs": [],
   "source": [
    "time_cols = ['placement_time','arrival_at_pickup_time','pickup_time','confirmation_time']\n",
    "train.drop(time_cols, axis=1, inplace=True)\n",
    "test.drop(time_cols, axis=1, inplace=True)\n",
    "\n",
    "more_train_cols = ['placement_day_of_month','confirmation_day_of_month',\n",
    "                   'pickup_day_of_month', 'pickup_weekday_mo_1',\n",
    "                   'arrival_at_pickup_day_of_month','arrival_at_pickup_weekday_mo_1',\n",
    "                   'placement_weekday_mo_1','confirmation_weekday_mo_1',\n",
    "                   'pickup_minute','arrival_at_destination_day_of_month', \n",
    "                   'arrival_at_destination_weekday_mo_1', 'pickup_hour', 'pickup_second']\n",
    "\n",
    "more_test_cols = ['placement_day_of_month','confirmation_day_of_month',\n",
    "                  'pickup_day_of_month', 'pickup_weekday_mo_1',\n",
    "                  'arrival_at_pickup_day_of_month','arrival_at_pickup_weekday_mo_1',\n",
    "                  'placement_weekday_mo_1','confirmation_weekday_mo_1',\n",
    "                  'pickup_minute', 'pickup_hour','pickup_second']\n",
    "\n",
    "train.drop(more_train_cols, axis=1, inplace=True)\n",
    "test.drop(more_test_cols, axis=1, inplace=True)"
   ]
  },
  {
   "cell_type": "markdown",
   "metadata": {
    "colab_type": "text",
    "id": "vAJs31FwTB9e"
   },
   "source": [
    "### 6.3. Rider's Features engineering"
   ]
  },
  {
   "cell_type": "markdown",
   "metadata": {
    "colab_type": "text",
    "id": "qoz_HGYNISx3"
   },
   "source": [
    "#### 6.3.1. Rider's Rating & Productivity"
   ]
  },
  {
   "cell_type": "markdown",
   "metadata": {
    "colab_type": "text",
    "id": "JSf7JQciTB9f"
   },
   "source": [
    "Dimensionality reduction is always a good thing provided we preserve the information. We can do so even with rider's features. Some of the rider's features are a bit obscure but with proper engineering they can add much value to the modellling. We do this by creating a feature called `rating_factor` which is the product of `average rating` and `number of ratings`. Another feature we create is `rider_productivity` feature, which is a ratio of `rider's age` to `number of orders`.\n",
    "\n",
    "This will help normalize the rider's features. For example, you might find that one rider has a high average rating but few number of ratings. On the other hand, one rider has a slightly lower rating with many ratings. At face value one would think the rider with higher average rating is better than the one with a slightly lower rating. However, this is necessarily not the case. To deal with such issues we combine both the rating and number of ratings. The same applies with age and number of orders. "
   ]
  },
  {
   "cell_type": "code",
   "execution_count": 39,
   "metadata": {
    "colab": {},
    "colab_type": "code",
    "id": "OcA2Rtk5TB9i"
   },
   "outputs": [],
   "source": [
    "#Creating new variables that will measure the Rider's Rating and Productivity\n",
    "train.loc[:, 'rating_factor'] = (train['average_rating'] * train['no_of_ratings'])\n",
    "test.loc[:, 'rating_factor'] = (test['average_rating'] * test['no_of_ratings'])\n",
    "train.loc[:, 'rider_productivity'] = (train['age'] / train['no_of_orders'])\n",
    "test.loc[:, 'rider_productivity'] = (test['age'] / test['no_of_orders'])"
   ]
  },
  {
   "cell_type": "markdown",
   "metadata": {
    "colab_type": "text",
    "id": "Q6nwH32TTB9w"
   },
   "source": [
    "#### 6.3.2. Rider's Id uniqueness"
   ]
  },
  {
   "cell_type": "markdown",
   "metadata": {
    "colab_type": "text",
    "id": "i6ReU-XFTB9x"
   },
   "source": [
    "Furthermore let us explore the uniqueness of the **Rider's Id** feature. It is of great interest to know how many unique riders are found on both datasets and how many are not. From this we will be able to decide whether the Rider's Id can add value to our models or not."
   ]
  },
  {
   "cell_type": "code",
   "execution_count": 40,
   "metadata": {
    "colab": {
     "base_uri": "https://localhost:8080/",
     "height": 68
    },
    "colab_type": "code",
    "id": "TOGxJ9F-TB9y",
    "outputId": "b85cfcbc-19f9-491a-e5d6-4dfc2d19dfbf"
   },
   "outputs": [
    {
     "name": "stdout",
     "output_type": "stream",
     "text": [
      "The train dataset has 919 unique riders.\n",
      "The test dataset has 822 unique riders.\n",
      "Both datasets share 792 unique riders\n"
     ]
    }
   ],
   "source": [
    "print('The train dataset has', train['rider_id'].nunique(), 'unique riders.')\n",
    "print('The test dataset has', test['rider_id'].nunique(), 'unique riders.')\n",
    "how_many = len(set([rider for rider in test['rider_id'] if rider in train['rider_id'].unique()]))\n",
    "print('Both datasets share', how_many, 'unique riders')"
   ]
  },
  {
   "cell_type": "markdown",
   "metadata": {
    "colab_type": "text",
    "id": "zjX89pM1TB97"
   },
   "source": [
    "From the above analysis it is clear that the rider's id feature cannot be dropped since both datasets share the majority of riders. Each rider is unique and this will add weight to the modelling."
   ]
  },
  {
   "cell_type": "markdown",
   "metadata": {
    "colab_type": "text",
    "id": "i_XwC5CKTB-W"
   },
   "source": [
    "#### 6.3.3. Rider's average speed"
   ]
  },
  {
   "cell_type": "markdown",
   "metadata": {
    "colab_type": "text",
    "id": "yIX5hZjtTB-Y"
   },
   "source": [
    "It is important that we create another feature that will give us insight into the rider's general performance in terms of how fast or slow the rider is. This will provide our models with a good frame of reference when predicting the trip duration for every order done by a specific rider."
   ]
  },
  {
   "cell_type": "code",
   "execution_count": 41,
   "metadata": {
    "colab": {},
    "colab_type": "code",
    "id": "AACxze5KTB-Z"
   },
   "outputs": [],
   "source": [
    "train['average_rider_speed'] = train['rider_id'].map(train.groupby('rider_id')['speed_meter_per_second'].mean())\n",
    "test['average_rider_speed'] = test['rider_id'].map(train.groupby('rider_id')['speed_meter_per_second'].mean())"
   ]
  },
  {
   "cell_type": "markdown",
   "metadata": {
    "colab_type": "text",
    "id": "YDYGDKA6TB-p"
   },
   "source": [
    "We have seen that the two datasets do not exactly have same riders thus the above computation will result in the `average_rider_speed` in the test set having null values. The null values will be imputed with the average_rider_speed from the train dataset."
   ]
  },
  {
   "cell_type": "code",
   "execution_count": 42,
   "metadata": {
    "colab": {},
    "colab_type": "code",
    "id": "y8Ih2QFeTB-q"
   },
   "outputs": [],
   "source": [
    "test['average_rider_speed'].fillna(train['speed_meter_per_second'].mean(), inplace=True)"
   ]
  },
  {
   "cell_type": "markdown",
   "metadata": {
    "colab_type": "text",
    "id": "Clo25ekeTB_L"
   },
   "source": [
    "### 6.4. Geospatial Features engineering"
   ]
  },
  {
   "cell_type": "markdown",
   "metadata": {
    "colab_type": "text",
    "id": "LnfZoVmCISye"
   },
   "source": [
    "Needless to say, the two most important geospatial features to any travel time prediction problem are distance, and direction."
   ]
  },
  {
   "cell_type": "markdown",
   "metadata": {
    "colab_type": "text",
    "id": "Heh-PC3IISyf"
   },
   "source": [
    "#### 6.4.1. Haversine distance"
   ]
  },
  {
   "cell_type": "markdown",
   "metadata": {
    "colab_type": "text",
    "id": "DOWnIXQKISyh"
   },
   "source": [
    "We are going to feature a measure of distance between pick-up and drop-off coordinates namely Haversine distance and. This approach is highly encouraged by many independent studies on travel time prediction and optimization.\n",
    "\n",
    "Due to the spherical shape of the earth, when travelling between two points, we are not traversing in a straight line, but rather on a curvature. To consider that curvature distance (which is different than euclidean distance), `Haversine` distance is calculated."
   ]
  },
  {
   "cell_type": "code",
   "execution_count": 43,
   "metadata": {
    "colab": {},
    "colab_type": "code",
    "id": "u_SzQOY8ISyo"
   },
   "outputs": [],
   "source": [
    "def haversine(pick_lat, pick_long, drop_lat, drop_long):\n",
    "    \"\"\"\n",
    "    Calculate the circle distance between two points \n",
    "    on the earth (specified in decimal degrees)\n",
    "    \"\"\"\n",
    "   # approximate radius of earth in km\n",
    "    R = 6373.0\n",
    "    \n",
    "    # Converting degrees to radians\n",
    "    pick_lat = np.deg2rad(pick_lat)                     \n",
    "    pick_long = np.deg2rad(pick_long)     \n",
    "    drop_lat = np.deg2rad(drop_lat)                       \n",
    "    drop_long = np.deg2rad(drop_long)  \n",
    "\n",
    "    dist = np.sin((drop_lat - pick_lat)/2)**2 + np.cos(pick_lat)*np.cos(drop_lat) * np.sin((drop_long - pick_long)/2)**2\n",
    "\n",
    "    return 2 * R * np.arcsin(np.sqrt(dist))"
   ]
  },
  {
   "cell_type": "code",
   "execution_count": 44,
   "metadata": {
    "colab": {},
    "colab_type": "code",
    "id": "M3OyMHjHISy0"
   },
   "outputs": [],
   "source": [
    "train.loc[:, 'distance_haversine'] = haversine(train['pickup_lat'].values, train['pickup_long'].values, train['destination_lat'].values, train['destination_long'].values)\n",
    "test.loc[:, 'distance_haversine'] = haversine(test['pickup_lat'].values, test['pickup_long'].values, test['destination_lat'].values, test['destination_long'].values)\n"
   ]
  },
  {
   "cell_type": "code",
   "execution_count": 45,
   "metadata": {
    "colab": {},
    "colab_type": "code",
    "id": "hM2hTcsOsIad"
   },
   "outputs": [],
   "source": [
    "train[\"min_distance_pick_to_arrival\"] = train.apply(lambda x: vincenty((x[\"pickup_lat\"], x[\"pickup_long\"]), (x[\"destination_lat\"], x[\"destination_long\"])).kilometers, axis = 1)\n",
    "test[\"min_distance_pick_to_arrival\"] = test.apply(lambda x: vincenty((x[\"pickup_lat\"], x[\"pickup_long\"]), (x[\"destination_lat\"], x[\"destination_long\"])).kilometers, axis = 1)\n",
    "train[\"excess_distance\"] = train[\"distance_km\"] - train[\"min_distance_pick_to_arrival\"]\n",
    "test[\"excess_distance\"] = test[\"distance_km\"] - test[\"min_distance_pick_to_arrival\"]"
   ]
  },
  {
   "cell_type": "markdown",
   "metadata": {
    "colab_type": "text",
    "id": "ClCpLgzoISy6"
   },
   "source": [
    "#### 6.4.2. Direction"
   ]
  },
  {
   "cell_type": "markdown",
   "metadata": {
    "colab_type": "text",
    "id": "MIcHyUIcISy7"
   },
   "source": [
    "As mentioned already, direction or bearing, does play a huge role in navigation and in travel time prediction. Bearing can be defined as direction or an angle, between the north-south line of earth and the line connecting the target (destination) and the reference point while heading is an angle or direction where you are currently navigating in. Therefore in order to get to a particular destination one needs to adjust their heading direction with the bearing. Below we calculate the direction of the trips."
   ]
  },
  {
   "cell_type": "code",
   "execution_count": 46,
   "metadata": {
    "colab": {},
    "colab_type": "code",
    "id": "uMPb_aPOISy8"
   },
   "outputs": [],
   "source": [
    "def bearing_array(lat1, long1, lat2, long2):\n",
    "    '''\n",
    "    The function calculates the direction bearing of the given coordinates\n",
    "    '''\n",
    "    long_delta_rad = np.radians(long2 - long1)\n",
    "    lat1, long1, lat2, long2 = map(np.radians, (lat1, long1, lat2, long2))\n",
    "    y = np.sin(long_delta_rad) * np.cos(lat2)\n",
    "    x = np.cos(lat1) * np.sin(lat2) - np.sin(lat1) * np.cos(lat2) * np.cos(long_delta_rad)\n",
    "    angle = np.degrees(np.arctan2(y, x))\n",
    "    return angle"
   ]
  },
  {
   "cell_type": "code",
   "execution_count": 47,
   "metadata": {
    "colab": {},
    "colab_type": "code",
    "id": "SJtggg0FISzG"
   },
   "outputs": [],
   "source": [
    "#Calculating the direction of the destination by applying bearing_array func on the coordinates\n",
    "train.loc[:, 'direction'] = bearing_array(train['pickup_lat'].values, train['pickup_long'].values, train['destination_lat'].values, train['destination_long'].values)\n",
    "test.loc[:, 'direction'] = bearing_array(test['pickup_lat'].values, test['pickup_long'].values, test['destination_lat'].values, test['destination_long'].values)"
   ]
  },
  {
   "cell_type": "markdown",
   "metadata": {
    "colab_type": "text",
    "id": "W4By8d9gISzf"
   },
   "source": [
    "#### 6.4.3. Principal Component Analysis (PCA)"
   ]
  },
  {
   "cell_type": "markdown",
   "metadata": {
    "colab_type": "text",
    "id": "XbJVBKN0ISzg"
   },
   "source": [
    "The chief idea behind **PCA** is to reduce the dimensionality of the data set, while retaining as much as possible of the variation present in the data set.\n",
    "\n",
    "In this study, we use PCA to extract features related to latitude and longitude to improve our regressor’s learnability.\n",
    "\n",
    "It has been proven that PCA features can improve decision tree splitting [Nasution, Sitompul, & Ramli, 2018](https://www.sciencedirect.com/science/article/pii/S0957417419305743#bib0025)"
   ]
  },
  {
   "cell_type": "code",
   "execution_count": 48,
   "metadata": {
    "colab": {},
    "colab_type": "code",
    "id": "rZNfhbq1ISzg"
   },
   "outputs": [],
   "source": [
    "coordinates = np.vstack((train[['pickup_lat', 'pickup_long']].values,\n",
    "                    train[['destination_lat', 'destination_long']].values))\n",
    "\n",
    "pca = PCA(random_state=rs).fit(coordinates) #Instance\n",
    "# Train data transformation\n",
    "train['pickup_pca_0'] = pca.transform(train[['pickup_lat', 'pickup_long']])[:, 0]\n",
    "train['pickup_pca_1'] = pca.transform(train[['pickup_lat', 'pickup_long']])[:, 1]\n",
    "train['dropoff_pca_0'] = pca.transform(train[['destination_lat', 'destination_long']])[:, 0]\n",
    "train['dropoff_pca_1'] = pca.transform(train[['destination_lat', 'destination_long']])[:, 1]\n",
    "# Test data transformation\n",
    "test['pickup_pca_0'] = pca.transform(test[['pickup_lat', 'pickup_long']])[:, 0]\n",
    "test['pickup_pca_1'] = pca.transform(test[['pickup_lat', 'pickup_long']])[:, 1]\n",
    "test['dropoff_pca_0'] = pca.transform(test[['destination_lat', 'destination_long']])[:, 0]\n",
    "test['dropoff_pca_1'] = pca.transform(test[['destination_lat', 'destination_long']])[:, 1]"
   ]
  },
  {
   "cell_type": "markdown",
   "metadata": {
    "colab_type": "text",
    "id": "rGJWzG8ATB_M"
   },
   "source": [
    "#### 6.4.4. Cluster analysis on Coordinates"
   ]
  },
  {
   "cell_type": "markdown",
   "metadata": {
    "colab_type": "text",
    "id": "6hS327sJISzl"
   },
   "source": [
    "Besides PCA, we have implemented a version of KMeans clustering algorithm which initializes centroids by probabilities that maximize expected centroids’ distance and uses Manhattan distance as loss function."
   ]
  },
  {
   "cell_type": "markdown",
   "metadata": {
    "colab_type": "text",
    "id": "3FkNISY6TB_N"
   },
   "source": [
    "Clusters capture the natural structure of the data and thus help our algorithms to do a better job at predicting the target feature. In this case we will create pickup clusters and drop off clusters that will increase the accuracy of our predictions as the models will be able to relate every observation to its relevant cluster. This will be done using the scikit-learn `MiniBatchKMeans`"
   ]
  },
  {
   "cell_type": "code",
   "execution_count": 49,
   "metadata": {
    "colab": {},
    "colab_type": "code",
    "id": "VjViQlIXTB_O"
   },
   "outputs": [],
   "source": [
    "#performing our own clustering on all the points pickup/destination in the data using KMeans\n",
    "coordinates = np.vstack((train[['pickup_lat', 'pickup_long']].values,\n",
    "                    train[['destination_lat', 'destination_long']].values))\n",
    "\n",
    "Kmeans = MiniBatchKMeans(n_clusters=14, batch_size=1000,random_state=rs) #Instance\n",
    "Kmeans.fit(coordinates[np.arange(0, len(coordinates), 1)]) # fitting\n",
    "train['pickup_cluster'] = Kmeans.predict(train[['pickup_lat', 'pickup_long']])\n",
    "train['dropoff_cluster'] = Kmeans.predict(train[['destination_lat', 'destination_long']])\n",
    "test['pickup_cluster'] = Kmeans.predict(test[['pickup_lat', 'pickup_long']])\n",
    "test['dropoff_cluster'] = Kmeans.predict(test[['destination_lat', 'destination_long']])\n",
    "train['center_latitude'] = (train['pickup_lat'].values + train['destination_lat'].values) / 2\n",
    "train['center_longitude'] = (train['pickup_long'].values + train['destination_long'].values) / 2\n",
    "test['center_latitude'] = (test['pickup_lat'].values + test['destination_lat'].values) / 2\n",
    "test['center_longitude'] = (test['pickup_long'].values + test['destination_long'].values) / 2"
   ]
  },
  {
   "cell_type": "code",
   "execution_count": 50,
   "metadata": {
    "colab": {
     "base_uri": "https://localhost:8080/",
     "height": 542
    },
    "colab_type": "code",
    "id": "5IlGffApTB_W",
    "outputId": "58b66809-b9fd-484b-925e-1137b8f03791"
   },
   "outputs": [
    {
     "ename": "ModuleNotFoundError",
     "evalue": "No module named 'plotly.express'",
     "output_type": "error",
     "traceback": [
      "\u001b[1;31m---------------------------------------------------------------------------\u001b[0m",
      "\u001b[1;31mModuleNotFoundError\u001b[0m                       Traceback (most recent call last)",
      "\u001b[1;32m<ipython-input-50-ba7ec3e21934>\u001b[0m in \u001b[0;36m<module>\u001b[1;34m\u001b[0m\n\u001b[1;32m----> 1\u001b[1;33m \u001b[1;32mimport\u001b[0m \u001b[0mplotly\u001b[0m\u001b[1;33m.\u001b[0m\u001b[0mexpress\u001b[0m \u001b[1;32mas\u001b[0m \u001b[0mpx\u001b[0m\u001b[1;33m\u001b[0m\u001b[1;33m\u001b[0m\u001b[0m\n\u001b[0m\u001b[0;32m      2\u001b[0m \u001b[1;31m# There is a .mapbox_token file containing a mapbox token in the same directory as the dataframe\u001b[0m\u001b[1;33m\u001b[0m\u001b[1;33m\u001b[0m\u001b[1;33m\u001b[0m\u001b[0m\n\u001b[0;32m      3\u001b[0m \u001b[0mpx\u001b[0m\u001b[1;33m.\u001b[0m\u001b[0mset_mapbox_access_token\u001b[0m\u001b[1;33m(\u001b[0m\u001b[0mopen\u001b[0m\u001b[1;33m(\u001b[0m\u001b[1;34m\".mapbox_token\"\u001b[0m\u001b[1;33m)\u001b[0m\u001b[1;33m.\u001b[0m\u001b[0mread\u001b[0m\u001b[1;33m(\u001b[0m\u001b[1;33m)\u001b[0m\u001b[1;33m)\u001b[0m \u001b[1;31m#opening the file\u001b[0m\u001b[1;33m\u001b[0m\u001b[1;33m\u001b[0m\u001b[0m\n\u001b[0;32m      4\u001b[0m fig = px.scatter_mapbox(train, lat=\"pickup_lat\", lon=\"pickup_long\", color=\"pickup_cluster\",\n\u001b[0;32m      5\u001b[0m                   color_continuous_scale=px.colors.cyclical.IceFire, size_max=15, zoom=10)\n",
      "\u001b[1;31mModuleNotFoundError\u001b[0m: No module named 'plotly.express'"
     ]
    }
   ],
   "source": [
    "import plotly.express as px\n",
    "# There is a .mapbox_token file containing a mapbox token in the same directory as the dataframe\n",
    "px.set_mapbox_access_token(open(\".mapbox_token\").read()) #opening the file\n",
    "fig = px.scatter_mapbox(train, lat=\"pickup_lat\", lon=\"pickup_long\", color=\"pickup_cluster\",\n",
    "                  color_continuous_scale=px.colors.cyclical.IceFire, size_max=15, zoom=10)\n",
    "fig.show()"
   ]
  },
  {
   "cell_type": "markdown",
   "metadata": {
    "colab_type": "text",
    "id": "WJDOl95cTB_4"
   },
   "source": [
    "### 6.5. Variable Encoding"
   ]
  },
  {
   "cell_type": "markdown",
   "metadata": {
    "colab_type": "text",
    "id": "uBd-P5WZTB_5"
   },
   "source": [
    "Let us once more take a look into our features"
   ]
  },
  {
   "cell_type": "code",
   "execution_count": null,
   "metadata": {
    "colab": {
     "base_uri": "https://localhost:8080/",
     "height": 578
    },
    "colab_type": "code",
    "id": "zDjRVckRTB_6",
    "outputId": "426346df-469f-4264-916d-4051f73e1aad"
   },
   "outputs": [],
   "source": [
    "display(train.columns)\n",
    "display(test.columns)"
   ]
  },
  {
   "cell_type": "code",
   "execution_count": null,
   "metadata": {
    "colab": {
     "base_uri": "https://localhost:8080/",
     "height": 68
    },
    "colab_type": "code",
    "id": "L_WFCau5TB_-",
    "outputId": "1cb7bb22-ecb3-452c-8652-8068578fc732"
   },
   "outputs": [],
   "source": [
    "# How do  our datasets vary in features\n",
    "for col in train.columns:\n",
    "    if col not in test.columns:\n",
    "        print(col)"
   ]
  },
  {
   "cell_type": "code",
   "execution_count": null,
   "metadata": {
    "colab": {
     "base_uri": "https://localhost:8080/",
     "height": 297
    },
    "colab_type": "code",
    "id": "JOxpNw2GrBkp",
    "outputId": "778f76c5-64ff-49b2-e3bd-b183b712ee6c"
   },
   "outputs": [],
   "source": [
    "# This is justified in the distplot of the target variable.\n",
    "train=train[train['time_from_pickup_to_arrival']<=5000] #Filtering out severe outliers\n",
    "\n",
    "sns.distplot(train['time_from_pickup_to_arrival'], bins=30)"
   ]
  },
  {
   "cell_type": "code",
   "execution_count": null,
   "metadata": {
    "colab": {},
    "colab_type": "code",
    "id": "u0qkqkhNTCAE"
   },
   "outputs": [],
   "source": [
    "# Dropping all the columns we will no longer need in the predictors (X) data\n",
    "train_cols_drop = ['order_no', 'user_id','no_of_orders','distance_km', 'age','no_of_ratings', \n",
    "                   'average_rating','min_distance_pick_to_arrival', 'speed_meter_per_second','arrival_at_destination_time', \n",
    "                   'time_from_pickup_to_arrival']\n",
    "\n",
    "test_cols_drop = ['order_no','user_id','no_of_orders','min_distance_pick_to_arrival', 'no_of_ratings', \n",
    "                  'age', 'average_rating', 'distance_km']\n",
    "\n",
    "train['platform_type'] = train['platform_type'].astype('category')\n",
    "test['platform_type'] = test['platform_type'].astype('category')\n",
    "\n",
    "y_data = train['time_from_pickup_to_arrival']# Target variable\n",
    "X_data = train.drop(train_cols_drop, axis=1) #Predictors\n",
    "X_test_data = test.drop(test_cols_drop, axis=1)\n",
    "X_test_order_no = test['order_no']"
   ]
  },
  {
   "cell_type": "markdown",
   "metadata": {
    "colab_type": "text",
    "id": "GeXwp1pkTCAI"
   },
   "source": [
    "Let's one last time check if the datasets have matching features"
   ]
  },
  {
   "cell_type": "code",
   "execution_count": null,
   "metadata": {
    "colab": {
     "base_uri": "https://localhost:8080/",
     "height": 102
    },
    "colab_type": "code",
    "id": "ZFhZDH2sTCAL",
    "outputId": "88532f43-eda2-4ae1-cdf3-f80b02f5bbd9"
   },
   "outputs": [],
   "source": [
    "display(X_test_data.columns == X_data.columns) "
   ]
  },
  {
   "cell_type": "markdown",
   "metadata": {
    "colab_type": "text",
    "id": "JOoF0n43TCAX"
   },
   "source": [
    "Since some of our features are in categorical/object form, we cannot yet feed the data into a machine learning algorithm, we need to encode them. We will employ `One-hot encoder` for that. `One-hot encoding` is one of the most common encoding methods in machine learning. This method spreads the values in a column to multiple flag columns and assigns 0 or 1 to them. These binary values express the relationship between grouped and encoded column.\n",
    "\n",
    "This method changes your categorical data, which is challenging to understand for algorithms, to a numerical format and enables you to group your categorical data without losing any information. \n",
    "\n",
    "`OneHotEncoder` is preferred over pandas `get_dummies`. The crux of it is that the sklearn encoder creates a function which persists and can then be applied to new data sets which use the same categorical variables, with consistent results."
   ]
  },
  {
   "cell_type": "code",
   "execution_count": null,
   "metadata": {
    "colab": {},
    "colab_type": "code",
    "id": "_9wU5IX1TCAX"
   },
   "outputs": [],
   "source": [
    "#Feature Encoding\n",
    "oce = ce.OneHotEncoder(cols=['platform_type','personal_or_business'])\n",
    "hce = ce.TargetEncoder(cols=['rider_id'], smoothing = 40, min_samples_leaf = 7)\n",
    "\n",
    "X_data = oce.fit_transform(X_data)\n",
    "X_data = hce.fit_transform(X_data,y_data)\n",
    "X_test_data = oce.transform(X_test_data)\n",
    "X_test_data = hce.transform(X_test_data)"
   ]
  },
  {
   "cell_type": "markdown",
   "metadata": {
    "colab_type": "text",
    "id": "tqJbyOFtTCAb"
   },
   "source": [
    "### 6.6. Feature Selection and Correlation"
   ]
  },
  {
   "cell_type": "code",
   "execution_count": null,
   "metadata": {
    "colab": {
     "base_uri": "https://localhost:8080/",
     "height": 762
    },
    "colab_type": "code",
    "id": "8FQdcKLpTCAc",
    "outputId": "8deb316e-4291-44c4-9e31-e3d0ea9c4c41"
   },
   "outputs": [],
   "source": [
    "# Normalize data\n",
    "def variance_selection(p_value):\n",
    "    X_data_2 = X_data\n",
    "    scaler = MinMaxScaler()\n",
    "    X_scaled = scaler.fit_transform(X_data_2)\n",
    "    X_normalize = pd.DataFrame(X_scaled, columns=X_data_2.columns)\n",
    "\n",
    "    # Create VarianceThreshold object\n",
    "    selector = VarianceThreshold(threshold=0.05)\n",
    "\n",
    "    # Use the object to apply the threshold on data\n",
    "    selector.fit(X_normalize)\n",
    "\n",
    "    # Get column variances\n",
    "    column_variances = selector.variances_\n",
    "\n",
    "    vars_dict = {}\n",
    "    vars_dict = [{\"Variable_Name\": c_name, \"Variance\": c_var}\n",
    "                for c_name, c_var in zip(X_normalize.columns, column_variances)]\n",
    "    df_vars = pd.DataFrame(vars_dict)\n",
    "    select_df = df_vars[df_vars['Variance'] <= p_value].sort_values(by='Variance', ascending=False)\n",
    "    return select_df\n",
    "variance_selection(0.05)"
   ]
  },
  {
   "cell_type": "code",
   "execution_count": null,
   "metadata": {
    "colab": {
     "base_uri": "https://localhost:8080/",
     "height": 1000
    },
    "colab_type": "code",
    "id": "ebkE72AbTCAz",
    "outputId": "9625af95-ea3f-47c6-ea25-2a85a26d1a33"
   },
   "outputs": [],
   "source": [
    "import plotly.graph_objects as go\n",
    "fig = go.Figure(data=go.Heatmap(z = X_data.corr().values, x = X_data.columns, y = X_data.columns, hoverongaps = False))\n",
    "fig.update_layout(\n",
    "    autosize=False,\n",
    "    width=1000,\n",
    "    height=1000,\n",
    "    margin=dict(\n",
    "        l=50,\n",
    "        r=50,\n",
    "        b=100,\n",
    "        t=100,\n",
    "        pad=4\n",
    "    ),\n",
    "    paper_bgcolor=\"LightSteelBlue\"\n",
    ")\n",
    "fig.show()"
   ]
  },
  {
   "cell_type": "code",
   "execution_count": null,
   "metadata": {
    "colab": {},
    "colab_type": "code",
    "id": "X1D6OxugTCA6"
   },
   "outputs": [],
   "source": [
    "X_data.drop('personal_or_business_2', axis=1, inplace=True)\n",
    "X_test_data.drop('personal_or_business_2', axis=1, inplace=True)"
   ]
  },
  {
   "cell_type": "markdown",
   "metadata": {
    "colab_type": "text",
    "id": "QSNp5oWyTCA-"
   },
   "source": [
    "## 7. Model Selection & Parameter Tuning"
   ]
  },
  {
   "cell_type": "markdown",
   "metadata": {
    "colab_type": "text",
    "id": "_l-u9s0WTCA-"
   },
   "source": [
    "Before we go ahead and build models we want each model to perform at its best and to fit the data to the best of its abilities. This calls for parameter hypertuning. We will tune all our select models except linear regression.\n"
   ]
  },
  {
   "cell_type": "markdown",
   "metadata": {
    "colab_type": "text",
    "id": "KoY9e2oeTCBA"
   },
   "source": [
    "### 7.1. Our Base Models & HyperParameter Tuning"
   ]
  },
  {
   "cell_type": "markdown",
   "metadata": {
    "colab_type": "text",
    "id": "6l2cQsvQTCBH"
   },
   "source": [
    "* The Linear Regression model"
   ]
  },
  {
   "cell_type": "markdown",
   "metadata": {
    "colab_type": "text",
    "id": "bWMOTSOqgRIu"
   },
   "source": [
    "When building a linear regression model we do not have to include unnecessary features that do not contribute reasonably to the change in the predicted variable.\n",
    "\n",
    "We will implement backward elimination, whereby we will deselect features that p-value greater than 0.05 being interpreted as a failure to explain the change in the target variable either than just chance. Our linear regression model will be fitted on these. \n",
    "\n",
    "RobustScaler will be coupled with our model in order to deal with outliers."
   ]
  },
  {
   "cell_type": "code",
   "execution_count": null,
   "metadata": {
    "colab": {},
    "colab_type": "code",
    "id": "Pamyg_eOTCBK"
   },
   "outputs": [],
   "source": [
    "lin_reg = make_pipeline(RobustScaler(), LinearRegression())"
   ]
  },
  {
   "cell_type": "markdown",
   "metadata": {
    "colab_type": "text",
    "id": "_H95964ZTCBW"
   },
   "source": [
    "* Gradient Boosting Regression :\n",
    "With huber loss that makes it robust to outliers"
   ]
  },
  {
   "cell_type": "code",
   "execution_count": null,
   "metadata": {
    "colab": {
     "base_uri": "https://localhost:8080/",
     "height": 34
    },
    "colab_type": "code",
    "id": "4csFQ80UTCBX",
    "outputId": "7616e9cc-9a1f-4f02-f7ea-6c5e8166d64a"
   },
   "outputs": [],
   "source": [
    "\n",
    "# Gradient Boosting Regressor\n",
    "params = [{'max_depth': [5], #[6, 8, 10]\n",
    "           'learning_rate':[0.05], #[0.001, 0.05, 0.1]\n",
    "           'n_estimators': [300], #[100, 200, 400]\n",
    "           'loss':['huber'],\n",
    "           'max_features':['auto'],\n",
    "           'min_samples_leaf':[16], #[14, 15, 17]\n",
    "           'min_samples_split':[10]}] #[12, 15]\n",
    "\n",
    "gbr = GridSearchCV(GradientBoostingRegressor(random_state=rs), cv=5,scoring='neg_mean_squared_error', param_grid=params)\n",
    "gbrm = gbr.fit(X_data, y_data)\n",
    "\n",
    "print(gbrm.best_params_, np.sqrt(abs(gbrm.best_score_)))\n"
   ]
  },
  {
   "cell_type": "markdown",
   "metadata": {
    "colab_type": "text",
    "id": "0uqmjSrVDmiE"
   },
   "source": [
    "{'learning_rate': 0.17, 'loss': 'huber', 'max_depth': 5, 'max_features': 'auto', 'n_estimators': 300} 576.0986013100938\n",
    "\n",
    "{'learning_rate': 0.05, 'loss': 'huber', 'max_depth': 5, 'max_features': 'auto', 'n_estimators': 300} 567.\n",
    "4564855799742\n",
    "\n",
    "{'learning_rate': 0.17, 'loss': 'huber', 'max_depth': 5, 'max_features': 'auto', 'n_estimators': 200} 573.1216768860124"
   ]
  },
  {
   "cell_type": "markdown",
   "metadata": {
    "colab_type": "text",
    "id": "Elp16yjprkuT"
   },
   "source": [
    "* Decision Tree Regressor:\n",
    "\n",
    "\n"
   ]
  },
  {
   "cell_type": "code",
   "execution_count": null,
   "metadata": {
    "colab": {
     "base_uri": "https://localhost:8080/",
     "height": 34
    },
    "colab_type": "code",
    "id": "lmDuTTC5rd2V",
    "outputId": "04e493a6-0cd6-4852-a5f5-8c2c9310ae96"
   },
   "outputs": [],
   "source": [
    "# Decision Tree\n",
    "params = [{'max_depth': [1,2,3,4,5,10,20,50]}]\n",
    "dtree = GridSearchCV(DecisionTreeRegressor(random_state=rs), cv=5,scoring='neg_mean_squared_error', param_grid=params)\n",
    "dtreem = dtree.fit(X_data, y_data)\n",
    "\n",
    "print(dtreem.best_params_, np.sqrt(abs(dtreem.best_score_)))"
   ]
  },
  {
   "cell_type": "markdown",
   "metadata": {
    "colab_type": "text",
    "id": "5OVNf6DgsVTL"
   },
   "source": [
    "* Random Forest Regressor"
   ]
  },
  {
   "cell_type": "code",
   "execution_count": null,
   "metadata": {
    "colab": {
     "base_uri": "https://localhost:8080/",
     "height": 34
    },
    "colab_type": "code",
    "id": "-WVZGUl3sZ7v",
    "outputId": "364fc0f9-33e1-4ea6-fa66-c4e293074f07"
   },
   "outputs": [],
   "source": [
    "# Random Forests\n",
    "params = [{'max_depth': [5], #, [10, 15, 20, 50]\n",
    "               'n_estimators': [200, 300]}] #[10, 25, 50, 100,150]\n",
    "\n",
    "rfr = GridSearchCV(RandomForestRegressor(random_state=rs), cv=5,scoring='neg_mean_squared_error', param_grid=params)\n",
    "rfrm = rfr.fit(X_data, y_data)\n",
    "\n",
    "print(rfrm.best_params_, np.sqrt(abs(rfrm.best_score_)))"
   ]
  },
  {
   "cell_type": "markdown",
   "metadata": {
    "colab_type": "text",
    "id": "CynZugQ_tzQC"
   },
   "source": [
    "* AdaBoost Regressor:"
   ]
  },
  {
   "cell_type": "code",
   "execution_count": null,
   "metadata": {
    "colab": {
     "base_uri": "https://localhost:8080/",
     "height": 34
    },
    "colab_type": "code",
    "id": "S7A-yuYlt0S-",
    "outputId": "c337fa5c-4f96-4987-c986-bd4bad6d79ff"
   },
   "outputs": [],
   "source": [
    "# AdaBoost\n",
    "params = [{'learning_rate': [0.05,0.1], #[0.001, 0.01, 0.2]\n",
    "            'n_estimators': [300, 400]}] #[100, 200]\n",
    "\n",
    "ada = GridSearchCV(AdaBoostRegressor(random_state=rs), cv=5,scoring='neg_mean_squared_error', param_grid=params)\n",
    "adam = ada.fit(X_data, y_data)\n",
    "\n",
    "print(ada.best_params_, np.sqrt(abs(ada.best_score_)))"
   ]
  },
  {
   "cell_type": "markdown",
   "metadata": {
    "colab_type": "text",
    "id": "c9s9ykZQTCBi"
   },
   "source": [
    "* Catboost Regressor"
   ]
  },
  {
   "cell_type": "code",
   "execution_count": null,
   "metadata": {
    "colab": {
     "base_uri": "https://localhost:8080/",
     "height": 1000
    },
    "colab_type": "code",
    "id": "fi5RU2t2TCBj",
    "outputId": "d493a48a-4be3-454d-d480-5901c5c6224f"
   },
   "outputs": [],
   "source": [
    "params = {\n",
    "    'n_estimators':[420], #[250, 300, 420]\n",
    "    'max_depth': [5], #[4,6]\n",
    "    'learning_rate': [0.18],#[0.04, 0.05, 0.1, 0.15]\n",
    "    'colsample_bylevel':[0.6], #[0.5]\n",
    "    'l2_leaf_reg':[5],#[1, 2, 6] \n",
    "    'subsample':[0.9]} #[0.7, 0.8]\n",
    "\n",
    "\n",
    "cat = GridSearchCV(CatBoostRegressor(random_state=rs), cv=5,scoring='neg_mean_squared_error', param_grid=params)\n",
    "catm = cat.fit(X_data, y_data)\n",
    "\n",
    "print(catm.best_params_, np.sqrt(abs(catm.best_score_)))\n"
   ]
  },
  {
   "cell_type": "markdown",
   "metadata": {},
   "source": [
    "## 8. Model Evaluation"
   ]
  },
  {
   "cell_type": "markdown",
   "metadata": {
    "colab_type": "text",
    "id": "wLeuMyScTCBm"
   },
   "source": [
    "### 8.1. Cross Validation Scheme"
   ]
  },
  {
   "cell_type": "markdown",
   "metadata": {
    "colab_type": "text",
    "id": "rbmLguF4TCBm"
   },
   "source": [
    "We will start by applying the cross validation scheme on our base models using default parameters."
   ]
  },
  {
   "cell_type": "code",
   "execution_count": null,
   "metadata": {
    "colab": {},
    "colab_type": "code",
    "id": "rAQGw9fBTCBn"
   },
   "outputs": [],
   "source": [
    "# Instantiating the cross validation scheme\n",
    "kfold = KFold(n_splits=10, random_state=10, shuffle=True)"
   ]
  },
  {
   "cell_type": "code",
   "execution_count": null,
   "metadata": {
    "colab": {},
    "colab_type": "code",
    "id": "LmboMO-ZTCBr"
   },
   "outputs": [],
   "source": [
    "regressors = []\n",
    "regressors.append(lin_reg)\n",
    "regressors.append(gbrm.best_estimator_)\n",
    "regressors.append(dtreem.best_estimator_)\n",
    "regressors.append(rfrm.best_estimator_)\n",
    "regressors.append(adam.best_estimator_)\n",
    "regressors.append(catm.best_estimator_)"
   ]
  },
  {
   "cell_type": "code",
   "execution_count": null,
   "metadata": {
    "colab": {
     "base_uri": "https://localhost:8080/",
     "height": 1000
    },
    "colab_type": "code",
    "id": "nvFj8408TCBu",
    "outputId": "a4803ef7-a994-45fd-91f8-427f3aa5eea7"
   },
   "outputs": [],
   "source": [
    "cross_val_results = []\n",
    "for regressor in regressors:     #scores to be minimised are negated (neg)\n",
    "    cross_val_results.append(np.sqrt(abs(cross_val_score(regressor, X_data, y=y_data, scoring='neg_mean_squared_error', cv=kfold))))\n",
    "\n",
    "cross_val_means = []\n",
    "cross_val_stds = []\n",
    "for cross_val_result in cross_val_results:\n",
    "    cross_val_means.append(cross_val_result.mean())\n",
    "    cross_val_stds.append(cross_val_result.std())\n",
    "    \n",
    "cross_val_res = pd.DataFrame({ \n",
    "    \"Algorithm\": [\"LinearRegression\", \"GradientBoostingRegression\", \"DecisionTreeRegression\", \"RandomForestRegression\", \"AdaBoostRegression\", 'CatBoostRegression'],\n",
    "    \"CrossValidationMeans\": cross_val_means, \"CrossValidationErrors\": cross_val_stds\n",
    "                       })\n",
    "cross_val_res = cross_val_res.sort_values(\"CrossValidationMeans\", ascending=True)\n",
    "print(cross_val_res)"
   ]
  },
  {
   "cell_type": "markdown",
   "metadata": {
    "colab_type": "text",
    "id": "atBorpNeN16B"
   },
   "source": [
    "### 8.2. Final Models"
   ]
  },
  {
   "cell_type": "markdown",
   "metadata": {
    "colab_type": "text",
    "id": "UKhzpYL_cBx7"
   },
   "source": [
    "From the six models we started with, only two were selected for further predictions. The selection was done on the basis of the RMSE results obtained from the above cross validation.  The top two selected are Gradient Boosting Regressor and CatBoost Regressor."
   ]
  },
  {
   "cell_type": "code",
   "execution_count": null,
   "metadata": {
    "colab": {},
    "colab_type": "code",
    "id": "MV-mFJrHWIHU"
   },
   "outputs": [],
   "source": [
    "model_bag_gbr= GradientBoostingRegressor(n_estimators=300, learning_rate=0.05,\n",
    "                                   max_depth=5, loss='huber',max_features='auto', \n",
    "                                   min_samples_leaf=15, min_samples_split=10,random_state = rs)\n",
    "\n",
    "model_bag_cat=BaggingRegressor(CatBoostRegressor(max_depth=5,learning_rate=0.18,\n",
    "                                                 n_estimators=420,loss_function='RMSE',\n",
    "                                                colsample_bylevel=0.6,l2_leaf_reg=2,\n",
    "                                                 subsample=0.9,random_state=rs),random_state=rs)\n"
   ]
  },
  {
   "cell_type": "markdown",
   "metadata": {
    "colab_type": "text",
    "id": "vP-v5N8zPIEk"
   },
   "source": [
    "### 8.3. Making Predictions"
   ]
  },
  {
   "cell_type": "code",
   "execution_count": null,
   "metadata": {
    "colab": {},
    "colab_type": "code",
    "id": "h2C_nxpQZLbt"
   },
   "outputs": [],
   "source": [
    "# The function fits our models\n",
    "def model_fitting(model, model_name, X, y):   \n",
    "    train_fold = np.zeros((len(X_data)))\n",
    "    test_fold = np.zeros((len(X_test_data)))\n",
    "    cross_val_scores = [] \n",
    "    training_scores=[]\n",
    "    testing_scores=[]\n",
    "    for index, (train_index, test_index) in (enumerate(kfold.split(X, y))): \n",
    "        X_train, X_test = X.iloc[train_index], X.iloc[test_index] \n",
    "        y_train, y_test = y.iloc[train_index], y.iloc[test_index]\n",
    "        model.fit(X_train, y_train)\n",
    "        y_pred = model.predict(X_test)\n",
    "        train_pred = model.predict(X_train)\n",
    "        test_pred = model.predict(X_test_data) \n",
    "        test_fold += test_pred \n",
    "        train_fold[test_index] += y_pred\n",
    "        cross_validation_RMSE = np.sqrt(MSE(y_test, y_pred))\n",
    "        train_RMSE = np.sqrt(MSE(y_train, train_pred))\n",
    "        training_scores.append(train_RMSE)\n",
    "        cross_val_scores.append(cross_validation_RMSE)\n",
    "        print(f'Iteration {index + 1} is done with RMSE of {cross_validation_RMSE}')\n",
    "    final_training_score = np.mean(training_scores)\n",
    "    final_cross_val_score = np.mean(cross_val_scores)\n",
    "\n",
    "    print(f'final_training_score : {final_training_score} -  final_cross_val_score : {final_cross_val_score} ')\n",
    "    \n",
    "    return train_fold, test_fold/10"
   ]
  },
  {
   "cell_type": "code",
   "execution_count": null,
   "metadata": {
    "colab": {
     "base_uri": "https://localhost:8080/",
     "height": 204
    },
    "colab_type": "code",
    "id": "9IuoGrOtYjpL",
    "outputId": "f8650dfd-146d-46b2-bb73-8104b141b908"
   },
   "outputs": [],
   "source": [
    "train_fold_1, test_fold_1 = model_fitting(model_bag_gbr, 'GradientBoostRegressor', X_data, y_data)"
   ]
  },
  {
   "cell_type": "code",
   "execution_count": null,
   "metadata": {
    "colab": {
     "base_uri": "https://localhost:8080/",
     "height": 1000
    },
    "colab_type": "code",
    "id": "CAgq9ts_gdrS",
    "outputId": "2586ef43-7470-4949-d5df-cd98d6448d51"
   },
   "outputs": [],
   "source": [
    "train_fold_2, test_fold_2 = model_fitting(model_bag_cat, 'CatBoostRegressor', X_data, y_data)"
   ]
  },
  {
   "cell_type": "markdown",
   "metadata": {
    "colab_type": "text",
    "id": "qrSsSwA4anSy"
   },
   "source": [
    "### 8.4. Feature Relative Importance"
   ]
  },
  {
   "cell_type": "code",
   "execution_count": null,
   "metadata": {
    "colab": {},
    "colab_type": "code",
    "id": "xL5WxbFkZmCI"
   },
   "outputs": [],
   "source": [
    "def relative_importance(X, model):\n",
    "    vals = model.feature_importances_ # Extracting feature importance\n",
    "    l_importance = np.array([val / sum(vals) for val in vals])\n",
    "\n",
    "    features = X.columns\n",
    "\n",
    "    feats = np.array(features)\n",
    "\n",
    "    fig,ax = plt.subplots(figsize=(12, 12))\n",
    "    plt.subplots_adjust(top=0.6, bottom=0.2, hspace=.6, wspace=0.8)\n",
    "\n",
    "    indices = np.argsort(l_importance)[::-1]\n",
    "    g = sns.barplot(y=feats[indices], x=l_importance[indices], orient='h', ax=ax)\n",
    "    g.set_xlabel(\"Relative importances\", fontsize=12)\n",
    "    g.set_ylabel(\"Features\", fontsize=12)\n",
    "    g.tick_params(labelsize=9)\n",
    "    g.set_title(\" Model feature importance\")"
   ]
  },
  {
   "cell_type": "code",
   "execution_count": null,
   "metadata": {
    "colab": {
     "base_uri": "https://localhost:8080/",
     "height": 425
    },
    "colab_type": "code",
    "id": "9Q0xnD8ihqp-",
    "outputId": "02f3f1d6-61c0-400c-bb5f-dc3b67e1bf63",
    "scrolled": true
   },
   "outputs": [],
   "source": [
    "relative_importance(X_data, model_bag_gbr)"
   ]
  },
  {
   "cell_type": "markdown",
   "metadata": {},
   "source": [
    "## 9. Submission"
   ]
  },
  {
   "cell_type": "markdown",
   "metadata": {
    "colab_type": "text",
    "id": "o7i_7lE7jifk"
   },
   "source": [
    "We use the train predictions from the cross validation to optimize the test data submission."
   ]
  },
  {
   "cell_type": "code",
   "execution_count": null,
   "metadata": {
    "colab": {
     "base_uri": "https://localhost:8080/",
     "height": 542
    },
    "colab_type": "code",
    "id": "U4-9h7EAhztu",
    "outputId": "50f64f26-311b-41e0-97eb-6f066b232d96"
   },
   "outputs": [],
   "source": [
    "new_list = []\n",
    "for i in np.linspace(0, 1, 100):\n",
    "    y_train_average = train_fold_1 * i + train_fold_2 * (1 - i)\n",
    "    error = np.sqrt(MSE(y_data, y_train_average))\n",
    "    new_list.append(error)\n",
    "px.line(x = np.linspace(0, 1, 100), y = new_list)"
   ]
  },
  {
   "cell_type": "code",
   "execution_count": null,
   "metadata": {
    "colab": {},
    "colab_type": "code",
    "id": "xgVJ8Uu2bIqV"
   },
   "outputs": [],
   "source": [
    "averaged_models_y = test_fold_1 * 0.2828 + test_fold_2 * (1 - 0.2828)\n",
    "averaged_models_output = pd.DataFrame({\"Order_No\":X_test_order_no, \n",
    "                           \"Time from Pickup to Arrival\": averaged_models_y})\n",
    "averaged_models_output.to_csv(\"Submission.csv\", index=False)"
   ]
  },
  {
   "cell_type": "code",
   "execution_count": null,
   "metadata": {
    "colab": {
     "base_uri": "https://localhost:8080/",
     "height": 204
    },
    "colab_type": "code",
    "id": "WfXekcqmbQtl",
    "outputId": "20fb16cf-8f74-49c9-836e-53655c90f55e"
   },
   "outputs": [],
   "source": [
    "df = pd.read_csv(\"Submission.csv\")\n",
    "df.head()"
   ]
  },
  {
   "cell_type": "markdown",
   "metadata": {
    "colab": {},
    "colab_type": "code",
    "id": "Iytyc1yQpSgP"
   },
   "source": [
    "### Model Pickling"
   ]
  },
  {
   "cell_type": "code",
   "execution_count": null,
   "metadata": {
    "colab": {},
    "colab_type": "code",
    "id": "Yst6aG8wcbZd"
   },
   "outputs": [],
   "source": [
    "import pickle\n",
    "\n",
    "model_save_path = \"s_reg_A.pkl\"\n",
    "with open(model_save_path,'wb') as file:\n",
    "    pickle.dump(model_bag_gbr,file)\n",
    "\n",
    "model_save_path = \"s_reg__B.pkl\"\n",
    "with open(model_save_path,'wb') as file:\n",
    "    pickle.dump(model_bag_cat,file)"
   ]
  },
  {
   "cell_type": "markdown",
   "metadata": {},
   "source": [
    "## 10. References"
   ]
  },
  {
   "cell_type": "markdown",
   "metadata": {
    "colab": {},
    "colab_type": "code",
    "id": "j_m2m5xpIS3G"
   },
   "source": [
    "1. [An integrated feature learning approach using deep learning for travel time prediction](https://doi.org/10.1016/j.eswa.2019.112864).\n",
    "\n",
    "2. https://www.kaggle.com/avanwyk/encoding-cyclical-features-for-deep-learning\n",
    "\n",
    "3. https://ianlondon.github.io/blog/encoding-cyclical-features-24hour-time/\n",
    "\n",
    "4. https://towardsdatascience.com/finding-the-right-model-parameters-3670a1c086b3\n",
    "\n",
    "5. https://github.com/frex1/Regression-Model/blob/master/reg_comp.ipynb\n",
    "\n",
    "6. https://www.researchgate.net/publication/221019852_Development_of_an_Effective_Travel_Time_Prediction_Method_Using_Modified_Moving_Average_Approach\n",
    "\n",
    "7. https://ieeexplore.ieee.org/document/8622970\n",
    "\n",
    "8. https://github.com/deepVector/geospatial-machine-learning\n",
    "\n",
    "9. https://towardsdatascience.com/think-twice-before-you-use-principal-component-analysis-in-supervised-learning-tasks-70fbb68ebd0c\n",
    "\n",
    "10. https://towardsdatascience.com/understanding-gradient-boosting-machines-9be756fe76ab\n",
    "\n",
    "11. https://medium.com/@mandava807/cross-validation-and-hyperparameter-tuning-in-python-65cfb80ee485\n",
    "\n",
    "12. https://github.com/vlazovskiy/route-optimizer-machine-learning/blob/master/Train%20LightGBM%20Model.ipynb\n",
    "\n",
    "13. https://www.researchgate.net/publication/257435756_Identifying_important_variables_for_predicting_travel_time_of_freeway_with_non-recurrent_congestion_with_neural_networks\n",
    "\n",
    "14. https://github.com/Kailash23/forecast-delivery-time\n",
    "\n",
    "15. https://medium.com/analytics-vidhya/target-encoding-vs-one-hot-encoding-with-simple-examples-276a7e7b3e64\n",
    "\n",
    "16. https://github.com/AmrKhalifa/Zindi-Sendy-Logistics-Challenge"
   ]
  },
  {
   "cell_type": "code",
   "execution_count": null,
   "metadata": {},
   "outputs": [],
   "source": []
  }
 ],
 "metadata": {
  "accelerator": "TPU",
  "colab": {
   "name": "Sendy_Challenge_Notebook_Marcus (final_new).ipynb",
   "provenance": []
  },
  "kernelspec": {
   "display_name": "Python 3",
   "language": "python",
   "name": "python3"
  },
  "language_info": {
   "codemirror_mode": {
    "name": "ipython",
    "version": 3
   },
   "file_extension": ".py",
   "mimetype": "text/x-python",
   "name": "python",
   "nbconvert_exporter": "python",
   "pygments_lexer": "ipython3",
   "version": "3.7.7"
  }
 },
 "nbformat": 4,
 "nbformat_minor": 1
}
