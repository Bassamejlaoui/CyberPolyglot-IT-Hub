{
 "cells": [
  {
   "cell_type": "markdown",
   "metadata": {},
   "source": [
    "## Use Conditional Statements and Loops Together"
   ]
  },
  {
   "cell_type": "markdown",
   "metadata": {},
   "source": [
    "#### Recap on a basic for loop"
   ]
  },
  {
   "cell_type": "code",
   "execution_count": 1,
   "metadata": {},
   "outputs": [
    {
     "name": "stdout",
     "output_type": "stream",
     "text": [
      "2\n",
      "4\n",
      "6\n",
      "8\n",
      "10\n",
      "12\n",
      "14\n",
      "16\n",
      "18\n",
      "20\n"
     ]
    }
   ],
   "source": [
    "for n in range(1,11):\n",
    "    print (n * 2)"
   ]
  },
  {
   "cell_type": "markdown",
   "metadata": {},
   "source": [
    "#### Introducing conditional Statements\n",
    "\n",
    "Example 1"
   ]
  },
  {
   "cell_type": "code",
   "execution_count": 2,
   "metadata": {},
   "outputs": [
    {
     "name": "stdout",
     "output_type": "stream",
     "text": [
      "1\n",
      "2\n",
      "3\n",
      "4\n",
      "5\n",
      "i is no longer less than 6\n"
     ]
    }
   ],
   "source": [
    "i = 1\n",
    "while i < 6:\n",
    "  print(i)\n",
    "  i += 1\n",
    "else:\n",
    "  print(\"i is no longer less than 6\")"
   ]
  },
  {
   "cell_type": "markdown",
   "metadata": {},
   "source": [
    "Example 2"
   ]
  },
  {
   "cell_type": "code",
   "execution_count": 3,
   "metadata": {},
   "outputs": [
    {
     "name": "stdout",
     "output_type": "stream",
     "text": [
      "1 Even 3 Even 5 Even 7 Even 9 Even 11 Even 13 Even 15 Even 17 Even 19 Even 21 Even 23 Even 25 Even 27 Even 29 Even "
     ]
    }
   ],
   "source": [
    "for x in range(1,31):\n",
    "    if x % 2 == 1:\n",
    "        print (x, end = \" \")\n",
    "    else:\n",
    "        print (\"Even\", end = \" \")"
   ]
  },
  {
   "cell_type": "markdown",
   "metadata": {},
   "source": [
    "Example 3"
   ]
  },
  {
   "cell_type": "code",
   "execution_count": 4,
   "metadata": {},
   "outputs": [],
   "source": [
    "n = [1,2,3,4,5,6]"
   ]
  },
  {
   "cell_type": "code",
   "execution_count": 5,
   "metadata": {},
   "outputs": [
    {
     "name": "stdout",
     "output_type": "stream",
     "text": [
      "10 20 30 40 50 60 "
     ]
    }
   ],
   "source": [
    "for item in n:\n",
    "    print (item * 10, end = \" \")"
   ]
  },
  {
   "cell_type": "code",
   "execution_count": 6,
   "metadata": {
    "scrolled": true
   },
   "outputs": [
    {
     "name": "stdout",
     "output_type": "stream",
     "text": [
      "10 20 30 40 50 60 "
     ]
    }
   ],
   "source": [
    "for item in range(len(n)):\n",
    "    print (n[item] * 10, end = \" \")"
   ]
  },
  {
   "cell_type": "markdown",
   "metadata": {},
   "source": [
    "### Interacting over  different data Types"
   ]
  },
  {
   "cell_type": "markdown",
   "metadata": {},
   "source": [
    "#### Lists"
   ]
  },
  {
   "cell_type": "code",
   "execution_count": 7,
   "metadata": {},
   "outputs": [
    {
     "name": "stdout",
     "output_type": "stream",
     "text": [
      "Language: Spanish\n",
      "Language: English\n",
      "Language: French\n",
      "Language: German\n",
      "Language: Irish\n",
      "Language: Chinese\n"
     ]
    }
   ],
   "source": [
    "languages = ['Spanish', 'English',  'French', 'German', 'Irish', 'Chinese']\n",
    "\n",
    "for index in range(len(languages)):\n",
    "   print('Language:', languages[index])"
   ]
  },
  {
   "cell_type": "markdown",
   "metadata": {},
   "source": [
    "#### Tuples\n",
    "Tuples are sequences, just like lists. The difference between tuples and lists is that tuples are immutable; that is, they cannot be changed. Tuples also use parentheses instead of square brackets."
   ]
  },
  {
   "cell_type": "code",
   "execution_count": 8,
   "metadata": {},
   "outputs": [
    {
     "name": "stdout",
     "output_type": "stream",
     "text": [
      "index 0: 10\n",
      "index 1: 20\n",
      "index 2: 30\n",
      "index 3: 40\n",
      "index 4: 50\n"
     ]
    }
   ],
   "source": [
    "x = (10,20,30,40,50)\n",
    "for var in x:\n",
    "    print(\"index \"+ str(x.index(var)) + \":\",var)"
   ]
  },
  {
   "cell_type": "code",
   "execution_count": 9,
   "metadata": {},
   "outputs": [
    {
     "name": "stdout",
     "output_type": "stream",
     "text": [
      "1 plus 2 equals 3\n",
      "3 plus 4 equals 7\n",
      "5 plus 6 equals 11\n"
     ]
    }
   ],
   "source": [
    "x = [(1,2), (3,4), (5,6)]\n",
    "\n",
    "for a, b in x:\n",
    "    print(a, \"plus\", b, \"equals\", a+b)"
   ]
  },
  {
   "cell_type": "markdown",
   "metadata": {},
   "source": [
    "#### Dictionaries\n",
    "In addition to lists and tuples, dictionaries are another common Python data type you’re likely to encounter when working with data, and for loops can iterate through dictionaries, too.\n",
    "\n",
    "Python dictionaries are composed of key-value pairs, so in each loop, there are two elements we need to access (the key and the value). Instead of using enumerate() like we would with lists, to loop over both keys and the corresponding values for each key-value pair we need to call the .items() method.\n",
    "\n",
    "For example, imagine we have a dictionary called stocks that contains both stock tickers and the corresponding stock prices. We’ll use the .items() method on our dictionary to generate a key and value for each iteration:"
   ]
  },
  {
   "cell_type": "code",
   "execution_count": 10,
   "metadata": {},
   "outputs": [
    {
     "name": "stdout",
     "output_type": "stream",
     "text": [
      "AAPL : 187.31\n",
      "MSFT : 124.06\n",
      "FB : 183.5\n"
     ]
    }
   ],
   "source": [
    "stocks = {\n",
    "        'AAPL': 187.31,\n",
    "        'MSFT': 124.06,\n",
    "        'FB': 183.50\n",
    "    }\n",
    "\n",
    "for key, value in stocks.items() :\n",
    "    print(key + \" : \" + str(value))"
   ]
  },
  {
   "cell_type": "markdown",
   "metadata": {},
   "source": [
    "#### Strings\n",
    "\n",
    "As mentioned in the introductory tutorial, for loops can also iterate through each character in a string. As a quick review, here’s how that works:"
   ]
  },
  {
   "cell_type": "code",
   "execution_count": 11,
   "metadata": {},
   "outputs": [
    {
     "name": "stdout",
     "output_type": "stream",
     "text": [
      "data science\n",
      "d\n",
      "a\n",
      "t\n",
      "a\n",
      " \n",
      "s\n",
      "c\n",
      "i\n",
      "e\n",
      "n\n",
      "c\n",
      "e\n"
     ]
    }
   ],
   "source": [
    "print(\"data science\")\n",
    "for c in \"data science\":\n",
    "    print(c)"
   ]
  },
  {
   "cell_type": "markdown",
   "metadata": {},
   "source": [
    "#### Numpy Arrays\n",
    "Now, let’s take a look at how for loops can be used with common Python data science packages and their data types.\n",
    "\n",
    "We’ll start by looking at how to use for loops with numpy arrays, so let’s start by creating some arrays of random numbers."
   ]
  },
  {
   "cell_type": "code",
   "execution_count": 12,
   "metadata": {},
   "outputs": [],
   "source": [
    "import numpy as np\n",
    "np.random.seed(0)  # seed for reproducibility\n",
    "x = np.random.randint(10, size=6)\n",
    "y = np.random.randint(10, size=6)"
   ]
  },
  {
   "cell_type": "code",
   "execution_count": 13,
   "metadata": {},
   "outputs": [
    {
     "name": "stdout",
     "output_type": "stream",
     "text": [
      "5\n",
      "0\n",
      "3\n",
      "3\n",
      "7\n",
      "9\n"
     ]
    }
   ],
   "source": [
    "for val in x:\n",
    "    print(val)"
   ]
  },
  {
   "cell_type": "code",
   "execution_count": 14,
   "metadata": {},
   "outputs": [
    {
     "name": "stdout",
     "output_type": "stream",
     "text": [
      "[5 0 3 3 7 9]\n",
      "[3 5 2 4 7 6]\n"
     ]
    }
   ],
   "source": [
    "# creating our 2-dimensional array\n",
    "z = np.array([x, y])\n",
    "\n",
    "for val in z:\n",
    "    print(val)"
   ]
  },
  {
   "cell_type": "code",
   "execution_count": 15,
   "metadata": {},
   "outputs": [
    {
     "name": "stdout",
     "output_type": "stream",
     "text": [
      "5\n",
      "0\n",
      "3\n",
      "3\n",
      "7\n",
      "9\n",
      "3\n",
      "5\n",
      "2\n",
      "4\n",
      "7\n",
      "6\n"
     ]
    }
   ],
   "source": [
    "for val in np.nditer(z):\n",
    "    print(val)"
   ]
  },
  {
   "cell_type": "markdown",
   "metadata": {},
   "source": [
    "### Nested Loops\n",
    "Python allows us to use one loop inside another loop. This involves an outer loop that has, inside its commands, an inner loop."
   ]
  },
  {
   "cell_type": "code",
   "execution_count": 16,
   "metadata": {},
   "outputs": [
    {
     "name": "stdout",
     "output_type": "stream",
     "text": [
      "['Spanish', 'English', 'French', 'German']\n",
      "['Python', 'Java', 'Javascript', 'C++']\n"
     ]
    }
   ],
   "source": [
    "languages = [['Spanish', 'English',  'French', 'German'], ['Python', 'Java', 'Javascript', 'C++']]\n",
    "\n",
    "for lang in languages:\n",
    "    print(lang)"
   ]
  },
  {
   "cell_type": "code",
   "execution_count": 17,
   "metadata": {},
   "outputs": [
    {
     "name": "stdout",
     "output_type": "stream",
     "text": [
      "------\n",
      "Spanish\n",
      "English\n",
      "French\n",
      "German\n",
      "------\n",
      "Python\n",
      "Java\n",
      "Javascript\n",
      "C++\n"
     ]
    }
   ],
   "source": [
    "for x in languages:\n",
    "    print(\"------\")\n",
    "    for lang in x:\n",
    "        print(lang)"
   ]
  },
  {
   "cell_type": "markdown",
   "metadata": {},
   "source": [
    "### Continuing and Breaking For Loops\n",
    "Loop control statements change the execution of a for loop from its normal sequence.\n",
    "\n",
    "What if we want to filter out a specific language within our inner loop? We can use a continue statement to do this, which allows us to skip over a specific part of our loop when an external condition is triggered."
   ]
  },
  {
   "cell_type": "code",
   "execution_count": 18,
   "metadata": {},
   "outputs": [
    {
     "name": "stdout",
     "output_type": "stream",
     "text": [
      "------\n",
      "Spanish\n",
      "English\n",
      "French\n",
      "------\n",
      "Python\n",
      "Java\n",
      "Javascript\n",
      "C++\n"
     ]
    }
   ],
   "source": [
    "for x in languages:\n",
    "    print(\"------\")\n",
    "    for lang in x:\n",
    "        if lang == \"German\":\n",
    "            continue\n",
    "        print(lang)"
   ]
  },
  {
   "cell_type": "code",
   "execution_count": 19,
   "metadata": {},
   "outputs": [
    {
     "name": "stdout",
     "output_type": "stream",
     "text": [
      "1 squared is equal to 1\n",
      "3 squared is equal to 9\n",
      "5 squared is equal to 25\n",
      "7 squared is equal to 49\n",
      "9 squared is equal to 81\n"
     ]
    }
   ],
   "source": [
    "from math import sqrt\n",
    "number = 0\n",
    "\n",
    "for i in range(10):\n",
    "   number = i ** 2\n",
    "\n",
    "   if i % 2 == 0:\n",
    "      continue    # continue here\n",
    "\n",
    "   print(str(round(sqrt(number))) + ' squared is equal to ' + str(number))"
   ]
  },
  {
   "cell_type": "code",
   "execution_count": 20,
   "metadata": {},
   "outputs": [
    {
     "name": "stdout",
     "output_type": "stream",
     "text": [
      "0 squared is equal to 0\n",
      "1 squared is equal to 1\n",
      "2 squared is equal to 4\n",
      "3 squared is equal to 9\n",
      "4 squared is equal to 16\n",
      "5 squared is equal to 25\n",
      "6 squared is equal to 36\n"
     ]
    }
   ],
   "source": [
    "number = 0\n",
    "\n",
    "for i in range(10):\n",
    "   number = i ** 2\n",
    "\n",
    "   if i == 7:\n",
    "      break\n",
    "\n",
    "   print(str(round(sqrt(number))) + ' squared is equal to ' + str(number))"
   ]
  }
 ],
 "metadata": {
  "anaconda-cloud": {},
  "kernelspec": {
   "display_name": "Python 3",
   "language": "python",
   "name": "python3"
  },
  "language_info": {
   "codemirror_mode": {
    "name": "ipython",
    "version": 3
   },
   "file_extension": ".py",
   "mimetype": "text/x-python",
   "name": "python",
   "nbconvert_exporter": "python",
   "pygments_lexer": "ipython3",
   "version": "3.7.1"
  }
 },
 "nbformat": 4,
 "nbformat_minor": 1
}
